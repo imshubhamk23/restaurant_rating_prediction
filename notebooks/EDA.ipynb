{
  "cells": [
    {
      "attachments": {},
      "cell_type": "markdown",
      "metadata": {
        "id": "iyDLqK6PGAJO"
      },
      "source": [
        "**LOAD DATASET**"
      ]
    },
    {
      "cell_type": "code",
      "execution_count": 2,
      "metadata": {},
      "outputs": [],
      "source": [
        "import pandas as pd\n",
        "import numpy as np\n",
        "import matplotlib.pyplot as plt\n",
        "import seaborn as sns\n",
        "%matplotlib inline\n",
        "import warnings\n",
        "warnings.filterwarnings('ignore')\n",
        "import boto3"
      ]
    },
    {
      "cell_type": "code",
      "execution_count": 3,
      "metadata": {},
      "outputs": [],
      "source": [
        "# Configure the S3 client\n",
        "s3 = boto3.client('s3')"
      ]
    },
    {
      "cell_type": "code",
      "execution_count": 4,
      "metadata": {},
      "outputs": [],
      "source": [
        "s3 = boto3.resource(\n",
        "    service_name='s3',\n",
        "    region_name='ap-south-1',\n",
        "    aws_access_key_id='',\n",
        "    aws_secret_access_key=''\n",
        ")"
      ]
    },
    {
      "cell_type": "code",
      "execution_count": 5,
      "metadata": {},
      "outputs": [],
      "source": [
        "# Specify the S3 bucket and file path\n",
        "bucket_name = 'zomato-dataset'\n",
        "file_path = 's3://zomato-dataset/zomato.csv'"
      ]
    },
    {
      "cell_type": "code",
      "execution_count": 6,
      "metadata": {},
      "outputs": [
        {
          "name": "stdout",
          "output_type": "stream",
          "text": [
            "s3.ObjectSummary(bucket_name='zomato-dataset', key='zomato.csv')\n"
          ]
        }
      ],
      "source": [
        "for obj in s3.Bucket(bucket_name).objects.all():\n",
        "    print(obj)"
      ]
    },
    {
      "cell_type": "code",
      "execution_count": 7,
      "metadata": {},
      "outputs": [],
      "source": [
        "# Read the CSV file from S3 using the client\n",
        "obj = s3.Bucket(bucket_name).Object('zomato.csv').get()\n",
        "df = pd.read_csv(obj['Body'])"
      ]
    },
    {
      "cell_type": "code",
      "execution_count": 8,
      "metadata": {},
      "outputs": [
        {
          "data": {
            "text/html": [
              "<div>\n",
              "<style scoped>\n",
              "    .dataframe tbody tr th:only-of-type {\n",
              "        vertical-align: middle;\n",
              "    }\n",
              "\n",
              "    .dataframe tbody tr th {\n",
              "        vertical-align: top;\n",
              "    }\n",
              "\n",
              "    .dataframe thead th {\n",
              "        text-align: right;\n",
              "    }\n",
              "</style>\n",
              "<table border=\"1\" class=\"dataframe\">\n",
              "  <thead>\n",
              "    <tr style=\"text-align: right;\">\n",
              "      <th></th>\n",
              "      <th>url</th>\n",
              "      <th>address</th>\n",
              "      <th>name</th>\n",
              "      <th>online_order</th>\n",
              "      <th>book_table</th>\n",
              "      <th>rate</th>\n",
              "      <th>votes</th>\n",
              "      <th>phone</th>\n",
              "      <th>location</th>\n",
              "      <th>rest_type</th>\n",
              "      <th>dish_liked</th>\n",
              "      <th>cuisines</th>\n",
              "      <th>approx_cost(for two people)</th>\n",
              "      <th>reviews_list</th>\n",
              "      <th>menu_item</th>\n",
              "      <th>listed_in(type)</th>\n",
              "      <th>listed_in(city)</th>\n",
              "    </tr>\n",
              "  </thead>\n",
              "  <tbody>\n",
              "    <tr>\n",
              "      <th>0</th>\n",
              "      <td>https://www.zomato.com/bangalore/jalsa-banasha...</td>\n",
              "      <td>942, 21st Main Road, 2nd Stage, Banashankari, ...</td>\n",
              "      <td>Jalsa</td>\n",
              "      <td>Yes</td>\n",
              "      <td>Yes</td>\n",
              "      <td>4.1/5</td>\n",
              "      <td>775</td>\n",
              "      <td>080 42297555\\r\\n+91 9743772233</td>\n",
              "      <td>Banashankari</td>\n",
              "      <td>Casual Dining</td>\n",
              "      <td>Pasta, Lunch Buffet, Masala Papad, Paneer Laja...</td>\n",
              "      <td>North Indian, Mughlai, Chinese</td>\n",
              "      <td>800</td>\n",
              "      <td>[('Rated 4.0', 'RATED\\n  A beautiful place to ...</td>\n",
              "      <td>[]</td>\n",
              "      <td>Buffet</td>\n",
              "      <td>Banashankari</td>\n",
              "    </tr>\n",
              "    <tr>\n",
              "      <th>1</th>\n",
              "      <td>https://www.zomato.com/bangalore/spice-elephan...</td>\n",
              "      <td>2nd Floor, 80 Feet Road, Near Big Bazaar, 6th ...</td>\n",
              "      <td>Spice Elephant</td>\n",
              "      <td>Yes</td>\n",
              "      <td>No</td>\n",
              "      <td>4.1/5</td>\n",
              "      <td>787</td>\n",
              "      <td>080 41714161</td>\n",
              "      <td>Banashankari</td>\n",
              "      <td>Casual Dining</td>\n",
              "      <td>Momos, Lunch Buffet, Chocolate Nirvana, Thai G...</td>\n",
              "      <td>Chinese, North Indian, Thai</td>\n",
              "      <td>800</td>\n",
              "      <td>[('Rated 4.0', 'RATED\\n  Had been here for din...</td>\n",
              "      <td>[]</td>\n",
              "      <td>Buffet</td>\n",
              "      <td>Banashankari</td>\n",
              "    </tr>\n",
              "    <tr>\n",
              "      <th>2</th>\n",
              "      <td>https://www.zomato.com/SanchurroBangalore?cont...</td>\n",
              "      <td>1112, Next to KIMS Medical College, 17th Cross...</td>\n",
              "      <td>San Churro Cafe</td>\n",
              "      <td>Yes</td>\n",
              "      <td>No</td>\n",
              "      <td>3.8/5</td>\n",
              "      <td>918</td>\n",
              "      <td>+91 9663487993</td>\n",
              "      <td>Banashankari</td>\n",
              "      <td>Cafe, Casual Dining</td>\n",
              "      <td>Churros, Cannelloni, Minestrone Soup, Hot Choc...</td>\n",
              "      <td>Cafe, Mexican, Italian</td>\n",
              "      <td>800</td>\n",
              "      <td>[('Rated 3.0', \"RATED\\n  Ambience is not that ...</td>\n",
              "      <td>[]</td>\n",
              "      <td>Buffet</td>\n",
              "      <td>Banashankari</td>\n",
              "    </tr>\n",
              "    <tr>\n",
              "      <th>3</th>\n",
              "      <td>https://www.zomato.com/bangalore/addhuri-udupi...</td>\n",
              "      <td>1st Floor, Annakuteera, 3rd Stage, Banashankar...</td>\n",
              "      <td>Addhuri Udupi Bhojana</td>\n",
              "      <td>No</td>\n",
              "      <td>No</td>\n",
              "      <td>3.7/5</td>\n",
              "      <td>88</td>\n",
              "      <td>+91 9620009302</td>\n",
              "      <td>Banashankari</td>\n",
              "      <td>Quick Bites</td>\n",
              "      <td>Masala Dosa</td>\n",
              "      <td>South Indian, North Indian</td>\n",
              "      <td>300</td>\n",
              "      <td>[('Rated 4.0', \"RATED\\n  Great food and proper...</td>\n",
              "      <td>[]</td>\n",
              "      <td>Buffet</td>\n",
              "      <td>Banashankari</td>\n",
              "    </tr>\n",
              "    <tr>\n",
              "      <th>4</th>\n",
              "      <td>https://www.zomato.com/bangalore/grand-village...</td>\n",
              "      <td>10, 3rd Floor, Lakshmi Associates, Gandhi Baza...</td>\n",
              "      <td>Grand Village</td>\n",
              "      <td>No</td>\n",
              "      <td>No</td>\n",
              "      <td>3.8/5</td>\n",
              "      <td>166</td>\n",
              "      <td>+91 8026612447\\r\\n+91 9901210005</td>\n",
              "      <td>Basavanagudi</td>\n",
              "      <td>Casual Dining</td>\n",
              "      <td>Panipuri, Gol Gappe</td>\n",
              "      <td>North Indian, Rajasthani</td>\n",
              "      <td>600</td>\n",
              "      <td>[('Rated 4.0', 'RATED\\n  Very good restaurant ...</td>\n",
              "      <td>[]</td>\n",
              "      <td>Buffet</td>\n",
              "      <td>Banashankari</td>\n",
              "    </tr>\n",
              "  </tbody>\n",
              "</table>\n",
              "</div>"
            ],
            "text/plain": [
              "                                                 url   \n",
              "0  https://www.zomato.com/bangalore/jalsa-banasha...  \\\n",
              "1  https://www.zomato.com/bangalore/spice-elephan...   \n",
              "2  https://www.zomato.com/SanchurroBangalore?cont...   \n",
              "3  https://www.zomato.com/bangalore/addhuri-udupi...   \n",
              "4  https://www.zomato.com/bangalore/grand-village...   \n",
              "\n",
              "                                             address                   name   \n",
              "0  942, 21st Main Road, 2nd Stage, Banashankari, ...                  Jalsa  \\\n",
              "1  2nd Floor, 80 Feet Road, Near Big Bazaar, 6th ...         Spice Elephant   \n",
              "2  1112, Next to KIMS Medical College, 17th Cross...        San Churro Cafe   \n",
              "3  1st Floor, Annakuteera, 3rd Stage, Banashankar...  Addhuri Udupi Bhojana   \n",
              "4  10, 3rd Floor, Lakshmi Associates, Gandhi Baza...          Grand Village   \n",
              "\n",
              "  online_order book_table   rate  votes                             phone   \n",
              "0          Yes        Yes  4.1/5    775    080 42297555\\r\\n+91 9743772233  \\\n",
              "1          Yes         No  4.1/5    787                      080 41714161   \n",
              "2          Yes         No  3.8/5    918                    +91 9663487993   \n",
              "3           No         No  3.7/5     88                    +91 9620009302   \n",
              "4           No         No  3.8/5    166  +91 8026612447\\r\\n+91 9901210005   \n",
              "\n",
              "       location            rest_type   \n",
              "0  Banashankari        Casual Dining  \\\n",
              "1  Banashankari        Casual Dining   \n",
              "2  Banashankari  Cafe, Casual Dining   \n",
              "3  Banashankari          Quick Bites   \n",
              "4  Basavanagudi        Casual Dining   \n",
              "\n",
              "                                          dish_liked   \n",
              "0  Pasta, Lunch Buffet, Masala Papad, Paneer Laja...  \\\n",
              "1  Momos, Lunch Buffet, Chocolate Nirvana, Thai G...   \n",
              "2  Churros, Cannelloni, Minestrone Soup, Hot Choc...   \n",
              "3                                        Masala Dosa   \n",
              "4                                Panipuri, Gol Gappe   \n",
              "\n",
              "                         cuisines approx_cost(for two people)   \n",
              "0  North Indian, Mughlai, Chinese                         800  \\\n",
              "1     Chinese, North Indian, Thai                         800   \n",
              "2          Cafe, Mexican, Italian                         800   \n",
              "3      South Indian, North Indian                         300   \n",
              "4        North Indian, Rajasthani                         600   \n",
              "\n",
              "                                        reviews_list menu_item   \n",
              "0  [('Rated 4.0', 'RATED\\n  A beautiful place to ...        []  \\\n",
              "1  [('Rated 4.0', 'RATED\\n  Had been here for din...        []   \n",
              "2  [('Rated 3.0', \"RATED\\n  Ambience is not that ...        []   \n",
              "3  [('Rated 4.0', \"RATED\\n  Great food and proper...        []   \n",
              "4  [('Rated 4.0', 'RATED\\n  Very good restaurant ...        []   \n",
              "\n",
              "  listed_in(type) listed_in(city)  \n",
              "0          Buffet    Banashankari  \n",
              "1          Buffet    Banashankari  \n",
              "2          Buffet    Banashankari  \n",
              "3          Buffet    Banashankari  \n",
              "4          Buffet    Banashankari  "
            ]
          },
          "execution_count": 8,
          "metadata": {},
          "output_type": "execute_result"
        }
      ],
      "source": [
        "# Check the loaded DataFrame\n",
        "df.head()"
      ]
    },
    {
      "cell_type": "code",
      "execution_count": 119,
      "metadata": {
        "id": "MKHNGCIGDUra"
      },
      "outputs": [],
      "source": [
        "# import pandas as pd\n",
        "# df = pd.read_csv(\"data/zomato.csv\")"
      ]
    },
    {
      "cell_type": "code",
      "execution_count": 9,
      "metadata": {
        "colab": {
          "base_uri": "https://localhost:8080/"
        },
        "id": "kABFcDeqEbu4",
        "outputId": "6e76fe18-d29b-48ca-f288-efca849ef93f"
      },
      "outputs": [
        {
          "data": {
            "text/plain": [
              "(51717, 17)"
            ]
          },
          "execution_count": 9,
          "metadata": {},
          "output_type": "execute_result"
        }
      ],
      "source": [
        "df.shape"
      ]
    },
    {
      "attachments": {},
      "cell_type": "markdown",
      "metadata": {
        "id": "Yv0cc-PqGNB_"
      },
      "source": [
        "**Create a copy of dataframe of orginal dataframe**"
      ]
    },
    {
      "cell_type": "code",
      "execution_count": 10,
      "metadata": {
        "id": "z_omR1umEqvn"
      },
      "outputs": [],
      "source": [
        "df_copy = df.copy()"
      ]
    },
    {
      "cell_type": "code",
      "execution_count": 11,
      "metadata": {
        "colab": {
          "base_uri": "https://localhost:8080/"
        },
        "id": "EqmKO4_jGa-b",
        "outputId": "63589e55-d263-4cf4-8453-0fda6b9629a2"
      },
      "outputs": [
        {
          "data": {
            "text/plain": [
              "Index(['url', 'address', 'name', 'online_order', 'book_table', 'rate', 'votes',\n",
              "       'phone', 'location', 'rest_type', 'dish_liked', 'cuisines',\n",
              "       'approx_cost(for two people)', 'reviews_list', 'menu_item',\n",
              "       'listed_in(type)', 'listed_in(city)'],\n",
              "      dtype='object')"
            ]
          },
          "execution_count": 11,
          "metadata": {},
          "output_type": "execute_result"
        }
      ],
      "source": [
        "df_copy.columns"
      ]
    },
    {
      "attachments": {},
      "cell_type": "markdown",
      "metadata": {
        "id": "a14mWW5YGjQM"
      },
      "source": [
        "**Columns description**\n",
        "\n",
        "**url:** contains the url of the restaurant in the zomato website\n",
        "\n",
        "**address:** contains the address of the restaurant in Bengaluru\n",
        "\n",
        "**name:** contains the name of the restaurant\n",
        "\n",
        "**online_order:** whether online ordering is available in the restaurant or not\n",
        "\n",
        "**book_table:** table book option available or not\n",
        "\n",
        "**rate:** contains the overall rating of the restaurant out of 5\n",
        "\n",
        "**votes:** contains total number of rating for the restaurant as of the above mentioned date\n",
        "\n",
        "**phone:** contains the phone number of the restaurant\n",
        "\n",
        "**location:** contains the neighborhood in which the restaurant is located\n",
        "\n",
        "**rest_type:** restaurant type\n",
        "\n",
        "**dish_liked:** dishes people liked in the restaurant\n",
        "\n",
        "**cuisines:** food styles, separated by comma\n",
        "\n",
        "**approx_cost(for two people):** contains the approximate cost for meal for two people\n",
        "\n",
        "**reviews_list:** list of tuples containing reviews for the restaurant, each tuple\n",
        "\n",
        "**menu_item:** contains list of menus available in the restaurant\n",
        "\n",
        "**listed_in(type):** type of meal\n",
        "\n",
        "**listed_in(city):** contains the neighborhood in which the restaurant is listed\n",
        "\n",
        "\n"
      ]
    },
    {
      "cell_type": "code",
      "execution_count": 12,
      "metadata": {
        "colab": {
          "base_uri": "https://localhost:8080/"
        },
        "id": "ztdFUWdQ8nBP",
        "outputId": "f7abcb96-288f-4317-a6af-e628b52669b9"
      },
      "outputs": [
        {
          "name": "stdout",
          "output_type": "stream",
          "text": [
            "<class 'pandas.core.frame.DataFrame'>\n",
            "RangeIndex: 51717 entries, 0 to 51716\n",
            "Data columns (total 17 columns):\n",
            " #   Column                       Non-Null Count  Dtype \n",
            "---  ------                       --------------  ----- \n",
            " 0   url                          51717 non-null  object\n",
            " 1   address                      51717 non-null  object\n",
            " 2   name                         51717 non-null  object\n",
            " 3   online_order                 51717 non-null  object\n",
            " 4   book_table                   51717 non-null  object\n",
            " 5   rate                         43942 non-null  object\n",
            " 6   votes                        51717 non-null  int64 \n",
            " 7   phone                        50509 non-null  object\n",
            " 8   location                     51696 non-null  object\n",
            " 9   rest_type                    51490 non-null  object\n",
            " 10  dish_liked                   23639 non-null  object\n",
            " 11  cuisines                     51672 non-null  object\n",
            " 12  approx_cost(for two people)  51371 non-null  object\n",
            " 13  reviews_list                 51717 non-null  object\n",
            " 14  menu_item                    51717 non-null  object\n",
            " 15  listed_in(type)              51717 non-null  object\n",
            " 16  listed_in(city)              51717 non-null  object\n",
            "dtypes: int64(1), object(16)\n",
            "memory usage: 6.7+ MB\n"
          ]
        }
      ],
      "source": [
        "df_copy.info()"
      ]
    },
    {
      "attachments": {},
      "cell_type": "markdown",
      "metadata": {
        "id": "HHLTGhwIIhJ9"
      },
      "source": [
        "**Observation**\n",
        "\n",
        "**Rate, dish_liked, phone , approx_cost(for two people) values are missing.**"
      ]
    },
    {
      "attachments": {},
      "cell_type": "markdown",
      "metadata": {
        "id": "U_7NTNmR6yfN"
      },
      "source": [
        "**Data Preprocess**\n",
        "\n",
        "**Adjust column names and dropped irrelevant columns**"
      ]
    },
    {
      "cell_type": "code",
      "execution_count": 13,
      "metadata": {
        "colab": {
          "base_uri": "https://localhost:8080/",
          "height": 300
        },
        "id": "-5K_kiLNGfSa",
        "outputId": "98a892fc-a618-4218-867b-f572fcbdb251"
      },
      "outputs": [
        {
          "data": {
            "text/html": [
              "<div>\n",
              "<style scoped>\n",
              "    .dataframe tbody tr th:only-of-type {\n",
              "        vertical-align: middle;\n",
              "    }\n",
              "\n",
              "    .dataframe tbody tr th {\n",
              "        vertical-align: top;\n",
              "    }\n",
              "\n",
              "    .dataframe thead th {\n",
              "        text-align: right;\n",
              "    }\n",
              "</style>\n",
              "<table border=\"1\" class=\"dataframe\">\n",
              "  <thead>\n",
              "    <tr style=\"text-align: right;\">\n",
              "      <th></th>\n",
              "      <th>address</th>\n",
              "      <th>location</th>\n",
              "      <th>listed_in(city)</th>\n",
              "    </tr>\n",
              "  </thead>\n",
              "  <tbody>\n",
              "    <tr>\n",
              "      <th>8157</th>\n",
              "      <td>2A/3, 15th Cross, Green Garden Layout, Shirdi ...</td>\n",
              "      <td>Marathahalli</td>\n",
              "      <td>Brookefield</td>\n",
              "    </tr>\n",
              "    <tr>\n",
              "      <th>32498</th>\n",
              "      <td>18, Shreenidhi Arcade, Maruthi Nagar Main Road...</td>\n",
              "      <td>BTM</td>\n",
              "      <td>Koramangala 6th Block</td>\n",
              "    </tr>\n",
              "    <tr>\n",
              "      <th>4679</th>\n",
              "      <td>56, Near Passport Office, Outer Ring Road, Bel...</td>\n",
              "      <td>Bellandur</td>\n",
              "      <td>Bellandur</td>\n",
              "    </tr>\n",
              "    <tr>\n",
              "      <th>2445</th>\n",
              "      <td>14/6, 9th Main Road, Opposite Water Tank, 100 ...</td>\n",
              "      <td>BTM</td>\n",
              "      <td>Bannerghatta Road</td>\n",
              "    </tr>\n",
              "    <tr>\n",
              "      <th>27316</th>\n",
              "      <td>321/3A, Sharif Complex, Hosur Main Road, Oppos...</td>\n",
              "      <td>Hosur Road</td>\n",
              "      <td>Koramangala 4th Block</td>\n",
              "    </tr>\n",
              "    <tr>\n",
              "      <th>2735</th>\n",
              "      <td>4/5, 5th Cross, Laxmi Road, Shanti Nagar, Bang...</td>\n",
              "      <td>Shanti Nagar</td>\n",
              "      <td>Basavanagudi</td>\n",
              "    </tr>\n",
              "    <tr>\n",
              "      <th>34577</th>\n",
              "      <td>9, Maruthi Nagar, Madiwala, BTM, Bangalore</td>\n",
              "      <td>BTM</td>\n",
              "      <td>Koramangala 6th Block</td>\n",
              "    </tr>\n",
              "    <tr>\n",
              "      <th>32233</th>\n",
              "      <td>13th cross, 16th main, Tavarekere Main Road, B...</td>\n",
              "      <td>BTM</td>\n",
              "      <td>Koramangala 6th Block</td>\n",
              "    </tr>\n",
              "  </tbody>\n",
              "</table>\n",
              "</div>"
            ],
            "text/plain": [
              "                                                 address      location   \n",
              "8157   2A/3, 15th Cross, Green Garden Layout, Shirdi ...  Marathahalli  \\\n",
              "32498  18, Shreenidhi Arcade, Maruthi Nagar Main Road...           BTM   \n",
              "4679   56, Near Passport Office, Outer Ring Road, Bel...     Bellandur   \n",
              "2445   14/6, 9th Main Road, Opposite Water Tank, 100 ...           BTM   \n",
              "27316  321/3A, Sharif Complex, Hosur Main Road, Oppos...    Hosur Road   \n",
              "2735   4/5, 5th Cross, Laxmi Road, Shanti Nagar, Bang...  Shanti Nagar   \n",
              "34577         9, Maruthi Nagar, Madiwala, BTM, Bangalore           BTM   \n",
              "32233  13th cross, 16th main, Tavarekere Main Road, B...           BTM   \n",
              "\n",
              "             listed_in(city)  \n",
              "8157             Brookefield  \n",
              "32498  Koramangala 6th Block  \n",
              "4679               Bellandur  \n",
              "2445       Bannerghatta Road  \n",
              "27316  Koramangala 4th Block  \n",
              "2735            Basavanagudi  \n",
              "34577  Koramangala 6th Block  \n",
              "32233  Koramangala 6th Block  "
            ]
          },
          "execution_count": 13,
          "metadata": {},
          "output_type": "execute_result"
        }
      ],
      "source": [
        "df_copy.loc[:,['address','location','listed_in(city)']].sample(8,random_state=1)"
      ]
    },
    {
      "attachments": {},
      "cell_type": "markdown",
      "metadata": {
        "id": "vDtfxZEJ7YPq"
      },
      "source": [
        "**There is columns with redundant information. we wanted to keep the \"location\" column and drop the \"address\" and \"listed_in(city)\" columns**.\n",
        "\n",
        "**Additionally, we are not interested in the \"url\" and \"phone\" columns, so we will drop those as well.**\n",
        "\n",
        "\n"
      ]
    },
    {
      "cell_type": "code",
      "execution_count": 14,
      "metadata": {
        "id": "7veTlMmRePMJ"
      },
      "outputs": [],
      "source": [
        "# drop unnecessary columns\n",
        "column_to_drop = ['address','url' ,'listed_in(city)', 'phone']"
      ]
    },
    {
      "cell_type": "code",
      "execution_count": 15,
      "metadata": {
        "id": "OUI4kdLde3FX"
      },
      "outputs": [],
      "source": [
        "df_copy.drop(columns=column_to_drop, axis=1,inplace=True)"
      ]
    },
    {
      "cell_type": "code",
      "execution_count": 16,
      "metadata": {
        "colab": {
          "base_uri": "https://localhost:8080/"
        },
        "id": "xDVOnw7Ze6VX",
        "outputId": "6f717cf6-7e60-47bd-ae2c-8b7957080eaf"
      },
      "outputs": [
        {
          "data": {
            "text/plain": [
              "Index(['name', 'online_order', 'book_table', 'rate', 'votes', 'location',\n",
              "       'rest_type', 'dish_liked', 'cuisines', 'approx_cost(for two people)',\n",
              "       'reviews_list', 'menu_item', 'listed_in(type)'],\n",
              "      dtype='object')"
            ]
          },
          "execution_count": 16,
          "metadata": {},
          "output_type": "execute_result"
        }
      ],
      "source": [
        "df_copy.columns"
      ]
    },
    {
      "attachments": {},
      "cell_type": "markdown",
      "metadata": {
        "id": "cWt1KQC28Ez5"
      },
      "source": [
        "**Remove Duplicates**\n",
        "\n",
        "**Checking how many duplicates values are in the dataset and drooping**"
      ]
    },
    {
      "cell_type": "code",
      "execution_count": 17,
      "metadata": {
        "colab": {
          "base_uri": "https://localhost:8080/"
        },
        "id": "dr1bZ5eqfAt5",
        "outputId": "12ab1c2e-f84e-44ba-bd54-05fa87256f18"
      },
      "outputs": [
        {
          "name": "stdout",
          "output_type": "stream",
          "text": [
            "No of Duplicates are:  9809\n"
          ]
        }
      ],
      "source": [
        "# check for duplicate values\n",
        "print(\"No of Duplicates are: \",df_copy.duplicated().sum())"
      ]
    },
    {
      "cell_type": "code",
      "execution_count": 18,
      "metadata": {
        "id": "awTmcj_BfVGd"
      },
      "outputs": [],
      "source": [
        "# drop the duplicates\n",
        "df_copy.drop_duplicates(inplace=True)"
      ]
    },
    {
      "cell_type": "code",
      "execution_count": 19,
      "metadata": {
        "colab": {
          "base_uri": "https://localhost:8080/"
        },
        "id": "51wU2NAZfdO8",
        "outputId": "5a0d589c-ef34-4fcb-d0f7-5026de3514f2"
      },
      "outputs": [
        {
          "data": {
            "text/plain": [
              "name                               0\n",
              "online_order                       0\n",
              "book_table                         0\n",
              "rate                            4252\n",
              "votes                              0\n",
              "location                          14\n",
              "rest_type                        172\n",
              "dish_liked                     20206\n",
              "cuisines                          36\n",
              "approx_cost(for two people)      253\n",
              "reviews_list                       0\n",
              "menu_item                          0\n",
              "listed_in(type)                    0\n",
              "dtype: int64"
            ]
          },
          "execution_count": 19,
          "metadata": {},
          "output_type": "execute_result"
        }
      ],
      "source": [
        "df_copy.isna().sum()"
      ]
    },
    {
      "attachments": {},
      "cell_type": "markdown",
      "metadata": {
        "id": "UwLNrW3WJ6Hf"
      },
      "source": [
        "**Removing Null values**"
      ]
    },
    {
      "cell_type": "code",
      "execution_count": 20,
      "metadata": {
        "colab": {
          "base_uri": "https://localhost:8080/"
        },
        "id": "h_gaDHJWflIL",
        "outputId": "212ae4df-409f-4f41-f686-2560f9e78fd4"
      },
      "outputs": [
        {
          "data": {
            "text/plain": [
              "name                            0.00\n",
              "online_order                    0.00\n",
              "book_table                      0.00\n",
              "rate                           10.15\n",
              "votes                           0.00\n",
              "location                        0.03\n",
              "rest_type                       0.41\n",
              "dish_liked                     48.22\n",
              "cuisines                        0.09\n",
              "approx_cost(for two people)     0.60\n",
              "reviews_list                    0.00\n",
              "menu_item                       0.00\n",
              "listed_in(type)                 0.00\n",
              "dtype: float64"
            ]
          },
          "execution_count": 20,
          "metadata": {},
          "output_type": "execute_result"
        }
      ],
      "source": [
        "# check for null values percentage\n",
        "((df_copy.isna().sum()/df_copy.shape[0])*100).round(2)"
      ]
    },
    {
      "attachments": {},
      "cell_type": "markdown",
      "metadata": {
        "id": "pkSbAt2-KAl1"
      },
      "source": [
        "**Observation:**\n",
        "\n",
        "**We can oberve that 48.22% dish_liked is missing as well as 10.15% rate values are missing.**"
      ]
    },
    {
      "attachments": {},
      "cell_type": "markdown",
      "metadata": {
        "id": "SjhRhvm0Ka5E"
      },
      "source": [
        "**Before remove null values lets unterstand Rate columns data**"
      ]
    },
    {
      "cell_type": "code",
      "execution_count": 21,
      "metadata": {
        "colab": {
          "base_uri": "https://localhost:8080/"
        },
        "id": "nKB0GMDYf0Te",
        "outputId": "661f8d63-aff9-49a5-8ab7-a3ec89d1d7cf"
      },
      "outputs": [
        {
          "data": {
            "text/plain": [
              "array(['4.1/5', '3.8/5', '3.7/5', '3.6/5', '4.6/5', '4.0/5', '4.2/5',\n",
              "       '3.9/5', '3.1/5', '3.0/5', '3.2/5', '3.3/5', '2.8/5', '4.4/5',\n",
              "       '4.3/5', 'NEW', '2.9/5', '3.5/5', nan, '2.6/5', '3.8 /5', '3.4/5',\n",
              "       '4.5/5', '2.5/5', '2.7/5', '4.7/5', '2.4/5', '2.2/5', '2.3/5',\n",
              "       '3.4 /5', '-', '3.6 /5', '4.8/5', '3.9 /5', '4.2 /5', '4.0 /5',\n",
              "       '4.1 /5', '3.7 /5', '3.1 /5', '2.9 /5', '3.3 /5', '2.8 /5',\n",
              "       '3.5 /5', '2.7 /5', '2.5 /5', '3.2 /5', '2.6 /5', '4.5 /5',\n",
              "       '4.3 /5', '4.4 /5', '4.9/5', '2.1/5', '2.0/5', '1.8/5', '4.6 /5',\n",
              "       '4.9 /5', '3.0 /5', '4.8 /5', '2.3 /5', '4.7 /5', '2.4 /5',\n",
              "       '2.1 /5', '2.2 /5', '2.0 /5', '1.8 /5'], dtype=object)"
            ]
          },
          "execution_count": 21,
          "metadata": {},
          "output_type": "execute_result"
        }
      ],
      "source": [
        "df_copy.rate.unique()"
      ]
    },
    {
      "attachments": {},
      "cell_type": "markdown",
      "metadata": {
        "id": "jb3LZuGyKr5X"
      },
      "source": [
        "**Observation:**\n",
        "\n",
        "**There are some points which has 'NEW' rating and '-' rating, which is completely incorrect.**"
      ]
    },
    {
      "cell_type": "code",
      "execution_count": 22,
      "metadata": {
        "id": "Lz3OwxyMgFEE"
      },
      "outputs": [],
      "source": [
        "# removed 'NEW' and '-' from rate coloumn and put NaN value.\n",
        "import numpy as np\n",
        "df_copy['rate'] = df_copy['rate'].replace('NEW', np.NaN)\n",
        "df_copy['rate'] = df_copy['rate'].replace('-', np.NaN)"
      ]
    },
    {
      "cell_type": "code",
      "execution_count": 23,
      "metadata": {
        "colab": {
          "base_uri": "https://localhost:8080/"
        },
        "id": "CrVnobW9LEjR",
        "outputId": "835350ea-52ee-4acc-a012-b01fd040bb8e"
      },
      "outputs": [
        {
          "data": {
            "text/plain": [
              "array(['4.1/5', '3.8/5', '3.7/5', '3.6/5', '4.6/5', '4.0/5', '4.2/5',\n",
              "       '3.9/5', '3.1/5', '3.0/5', '3.2/5', '3.3/5', '2.8/5', '4.4/5',\n",
              "       '4.3/5', nan, '2.9/5', '3.5/5', '2.6/5', '3.8 /5', '3.4/5',\n",
              "       '4.5/5', '2.5/5', '2.7/5', '4.7/5', '2.4/5', '2.2/5', '2.3/5',\n",
              "       '3.4 /5', '3.6 /5', '4.8/5', '3.9 /5', '4.2 /5', '4.0 /5',\n",
              "       '4.1 /5', '3.7 /5', '3.1 /5', '2.9 /5', '3.3 /5', '2.8 /5',\n",
              "       '3.5 /5', '2.7 /5', '2.5 /5', '3.2 /5', '2.6 /5', '4.5 /5',\n",
              "       '4.3 /5', '4.4 /5', '4.9/5', '2.1/5', '2.0/5', '1.8/5', '4.6 /5',\n",
              "       '4.9 /5', '3.0 /5', '4.8 /5', '2.3 /5', '4.7 /5', '2.4 /5',\n",
              "       '2.1 /5', '2.2 /5', '2.0 /5', '1.8 /5'], dtype=object)"
            ]
          },
          "execution_count": 23,
          "metadata": {},
          "output_type": "execute_result"
        }
      ],
      "source": [
        "# chcek again data.rate coloumn. we can see nan values.\n",
        "df_copy.rate.unique()\n"
      ]
    },
    {
      "attachments": {},
      "cell_type": "markdown",
      "metadata": {
        "id": "6H7WhgkOLlNK"
      },
      "source": [
        "We can see that by default it has '/5' (divide by 5) arithmatic character, first we will remove this then proceed."
      ]
    },
    {
      "cell_type": "code",
      "execution_count": 24,
      "metadata": {
        "colab": {
          "base_uri": "https://localhost:8080/"
        },
        "id": "SaZV-6_FLZ5u",
        "outputId": "01531a5f-de08-440f-ad1e-a56aa5b31247"
      },
      "outputs": [
        {
          "data": {
            "text/plain": [
              "name                            0.00\n",
              "online_order                    0.00\n",
              "book_table                      0.00\n",
              "rate                           14.11\n",
              "votes                           0.00\n",
              "location                        0.03\n",
              "rest_type                       0.41\n",
              "dish_liked                     48.22\n",
              "cuisines                        0.09\n",
              "approx_cost(for two people)     0.60\n",
              "reviews_list                    0.00\n",
              "menu_item                       0.00\n",
              "listed_in(type)                 0.00\n",
              "dtype: float64"
            ]
          },
          "execution_count": 24,
          "metadata": {},
          "output_type": "execute_result"
        }
      ],
      "source": [
        "# check for null values percentage\n",
        "((df_copy.isna().sum()/df_copy.shape[0])*100).round(2)\n"
      ]
    },
    {
      "attachments": {},
      "cell_type": "markdown",
      "metadata": {
        "id": "T02iherPLtno"
      },
      "source": [
        "Note : 'rate' NaN % was 10.15 initially now it is 14.11. Because some values took 'NEW' and '-' values which we removed and this is actual NaN % for rate coloumn."
      ]
    },
    {
      "attachments": {},
      "cell_type": "markdown",
      "metadata": {
        "id": "K-YW_6QJMIxu"
      },
      "source": [
        "**Apply takes a function and applies it to all values of pandas series.**"
      ]
    },
    {
      "cell_type": "code",
      "execution_count": 25,
      "metadata": {
        "id": "16FKwbG4MLa3"
      },
      "outputs": [],
      "source": [
        "df_copy['rate'] = df_copy['rate'].astype(str)"
      ]
    },
    {
      "cell_type": "code",
      "execution_count": 26,
      "metadata": {
        "id": "kP_Mjd6cgnbV"
      },
      "outputs": [],
      "source": [
        "## removed all '/5' and replace with ''\n",
        "df_copy['rate'] = df_copy['rate'].str.replace('/5', '')"
      ]
    },
    {
      "cell_type": "code",
      "execution_count": 27,
      "metadata": {
        "id": "wAdUqW-Zhc5e"
      },
      "outputs": [],
      "source": [
        "## convert rate to float\n",
        "df_copy['rate'] = df_copy['rate'].astype(float)"
      ]
    },
    {
      "cell_type": "code",
      "execution_count": 28,
      "metadata": {
        "colab": {
          "base_uri": "https://localhost:8080/"
        },
        "id": "9P1nvZIZ_NyS",
        "outputId": "cd1ed1ee-93b8-421b-d98d-fa0898806d20"
      },
      "outputs": [
        {
          "data": {
            "text/plain": [
              "0    4.1\n",
              "1    4.1\n",
              "2    3.8\n",
              "3    3.7\n",
              "4    3.8\n",
              "Name: rate, dtype: float64"
            ]
          },
          "execution_count": 28,
          "metadata": {},
          "output_type": "execute_result"
        }
      ],
      "source": [
        "df_copy.rate.head()"
      ]
    },
    {
      "cell_type": "code",
      "execution_count": 29,
      "metadata": {
        "colab": {
          "base_uri": "https://localhost:8080/"
        },
        "id": "zggpzrcp__RS",
        "outputId": "95f836f5-d474-456a-d405-b134ce8b5ad8"
      },
      "outputs": [
        {
          "data": {
            "text/plain": [
              "array([4.1, 3.8, 3.7, 3.6, 4.6, 4. , 4.2, 3.9, 3.1, 3. , 3.2, 3.3, 2.8,\n",
              "       4.4, 4.3, nan, 2.9, 3.5, 2.6, 3.4, 4.5, 2.5, 2.7, 4.7, 2.4, 2.2,\n",
              "       2.3, 4.8, 4.9, 2.1, 2. , 1.8])"
            ]
          },
          "execution_count": 29,
          "metadata": {},
          "output_type": "execute_result"
        }
      ],
      "source": [
        "df_copy['rate'].unique()"
      ]
    },
    {
      "attachments": {},
      "cell_type": "markdown",
      "metadata": {
        "id": "KnD3Z5CCM0S3"
      },
      "source": [
        "**Filtering rating from review list**"
      ]
    },
    {
      "cell_type": "code",
      "execution_count": 30,
      "metadata": {
        "colab": {
          "base_uri": "https://localhost:8080/"
        },
        "id": "a7rtgyK8AKLa",
        "outputId": "b2877b06-10f6-46ba-a007-08c804b343b5"
      },
      "outputs": [
        {
          "data": {
            "text/plain": [
              "0        [('Rated 4.0', 'RATED\\n  A beautiful place to ...\n",
              "1        [('Rated 4.0', 'RATED\\n  Had been here for din...\n",
              "2        [('Rated 3.0', \"RATED\\n  Ambience is not that ...\n",
              "3        [('Rated 4.0', \"RATED\\n  Great food and proper...\n",
              "4        [('Rated 4.0', 'RATED\\n  Very good restaurant ...\n",
              "                               ...                        \n",
              "51712    [('Rated 5.0', \"RATED\\n  Food and service are ...\n",
              "51713                                                   []\n",
              "51714                                                   []\n",
              "51715    [('Rated 4.0', 'RATED\\n  Nice and friendly pla...\n",
              "51716    [('Rated 5.0', 'RATED\\n  Great ambience , look...\n",
              "Name: reviews_list, Length: 41908, dtype: object"
            ]
          },
          "execution_count": 30,
          "metadata": {},
          "output_type": "execute_result"
        }
      ],
      "source": [
        "df_copy['reviews_list']"
      ]
    },
    {
      "cell_type": "code",
      "execution_count": 31,
      "metadata": {
        "colab": {
          "base_uri": "https://localhost:8080/"
        },
        "id": "327K-X-sGKeZ",
        "outputId": "dea741de-1025-4abd-9378-227c65e255bc"
      },
      "outputs": [
        {
          "data": {
            "text/plain": [
              "str"
            ]
          },
          "execution_count": 31,
          "metadata": {},
          "output_type": "execute_result"
        }
      ],
      "source": [
        "type(df_copy.reviews_list[0])"
      ]
    },
    {
      "cell_type": "code",
      "execution_count": 32,
      "metadata": {
        "colab": {
          "base_uri": "https://localhost:8080/"
        },
        "id": "T14UoXCaNkth",
        "outputId": "4c1ed696-0bc8-46a3-bc45-9e14e29c5602"
      },
      "outputs": [
        {
          "data": {
            "text/plain": [
              "list"
            ]
          },
          "execution_count": 32,
          "metadata": {},
          "output_type": "execute_result"
        }
      ],
      "source": [
        "# return to a list of tuples\n",
        "import ast\n",
        "df_copy.reviews_list = df_copy.reviews_list.apply(lambda x: ast.literal_eval(x))\n",
        "type(df_copy.reviews_list[0])"
      ]
    },
    {
      "cell_type": "code",
      "execution_count": 33,
      "metadata": {
        "colab": {
          "base_uri": "https://localhost:8080/"
        },
        "id": "M813TuxxIeHV",
        "outputId": "94363b19-3b1e-4515-da77-0628f3097a03"
      },
      "outputs": [
        {
          "data": {
            "text/plain": [
              "[('Rated 4.0',\n",
              "  'RATED\\n  A beautiful place to dine in.The interiors take you back to the Mughal era. The lightings are just perfect.We went there on the occasion of Christmas and so they had only limited items available. But the taste and service was not compromised at all.The only complaint is that the breads could have been better.Would surely like to come here again.'),\n",
              " ('Rated 4.0',\n",
              "  'RATED\\n  I was here for dinner with my family on a weekday. The restaurant was completely empty. Ambience is good with some good old hindi music. Seating arrangement are good too. We ordered masala papad, panner and baby corn starters, lemon and corrionder soup, butter roti, olive and chilli paratha. Food was fresh and good, service is good too. Good for family hangout.\\nCheers'),\n",
              " ('Rated 2.0',\n",
              "  'RATED\\n  Its a restaurant near to Banashankari BDA. Me along with few of my office friends visited to have buffet but unfortunately they only provide veg buffet. On inquiring they said this place is mostly visited by vegetarians. Anyways we ordered ala carte items which took ages to come. Food was ok ok. Definitely not visiting anymore.'),\n",
              " ('Rated 4.0',\n",
              "  'RATED\\n  We went here on a weekend and one of us had the buffet while two of us took Ala Carte. Firstly the ambience and service of this place is great! The buffet had a lot of items and the good was good. We had a Pumpkin Halwa intm the dessert which was amazing. Must try! The kulchas are great here. Cheers!'),\n",
              " ('Rated 5.0',\n",
              "  'RATED\\n  The best thing about the place is itÃ\\x83\\x83Ã\\x82\\x83Ã\\x83\\x82Ã\\x82\\x82Ã\\x83\\x83Ã\\x82\\x82Ã\\x83\\x82Ã\\x82\\x92s ambiance. Second best thing was yummy ? food. We try buffet and buffet food was not disappointed us.\\nTest ?. ?? ?? ?? ?? ??\\nQuality ?. ??????????.\\nService: Staff was very professional and friendly.\\n\\nOverall experience was excellent.\\n\\nsubirmajumder85.wixsite.com'),\n",
              " ('Rated 5.0',\n",
              "  'RATED\\n  Great food and pleasant ambience. Expensive but Coll place to chill and relax......\\n\\nService is really very very good and friendly staff...\\n\\nFood : 5/5\\nService : 5/5\\nAmbience :5/5\\nOverall :5/5'),\n",
              " ('Rated 4.0',\n",
              "  'RATED\\n  Good ambience with tasty food.\\nCheese chilli paratha with Bhutta palak methi curry is a good combo.\\nLemon Chicken in the starters is a must try item.\\nEgg fried rice was also quite tasty.\\nIn the mocktails, recommend \"Alice in Junoon\". Do not miss it.'),\n",
              " ('Rated 4.0',\n",
              "  'RATED\\n  You canÃ\\x83\\x83Ã\\x82\\x83Ã\\x83\\x82Ã\\x82\\x82Ã\\x83\\x83Ã\\x82\\x82Ã\\x83\\x82Ã\\x82\\x92t go wrong with Jalsa. Never been a fan of their buffet and thus always order alacarteÃ\\x83\\x83Ã\\x82\\x83Ã\\x83\\x82Ã\\x82\\x82Ã\\x83\\x83Ã\\x82\\x82Ã\\x83\\x82Ã\\x82\\x92. Service at times can be on the slower side but food is worth the wait.'),\n",
              " ('Rated 5.0',\n",
              "  'RATED\\n  Overdelighted by the service and food provided at this place. A royal and ethnic atmosphere builds a strong essence of being in India and also the quality and taste of food is truly authentic. I would totally recommend to visit this place once.'),\n",
              " ('Rated 4.0',\n",
              "  'RATED\\n  The place is nice and comfortable. Food wise all jalea outlets maintain a good standard. The soya chaap was a standout dish. Clearly one of trademark dish as per me and a must try.\\n\\nThe only concern is the parking. It very congested and limited to just 5cars. The basement parking is very steep and makes it cumbersome'),\n",
              " ('Rated 4.0',\n",
              "  'RATED\\n  The place is nice and comfortable. Food wise all jalea outlets maintain a good standard. The soya chaap was a standout dish. Clearly one of trademark dish as per me and a must try.\\n\\nThe only concern is the parking. It very congested and limited to just 5cars. The basement parking is very steep and makes it cumbersome'),\n",
              " ('Rated 4.0',\n",
              "  'RATED\\n  The place is nice and comfortable. Food wise all jalea outlets maintain a good standard. The soya chaap was a standout dish. Clearly one of trademark dish as per me and a must try.\\n\\nThe only concern is the parking. It very congested and limited to just 5cars. The basement parking is very steep and makes it cumbersome')]"
            ]
          },
          "execution_count": 33,
          "metadata": {},
          "output_type": "execute_result"
        }
      ],
      "source": [
        "# check for the first item in list\n",
        "df_copy['reviews_list'][0]"
      ]
    },
    {
      "attachments": {},
      "cell_type": "markdown",
      "metadata": {
        "id": "uyYTKTM2OmoP"
      },
      "source": [
        "**Observation:**\n",
        "\n",
        "**We can see that in \"Review_List\" starting line come up with rating. 'Rated 4.0'.**\n",
        "\n",
        "**We can use this values and filled up 'Rate' NaN index.**"
      ]
    },
    {
      "cell_type": "code",
      "execution_count": 34,
      "metadata": {
        "colab": {
          "base_uri": "https://localhost:8080/"
        },
        "id": "9XcFpLisPD7g",
        "outputId": "a2339c09-ce22-4ac4-b70e-2a29c8af262f"
      },
      "outputs": [
        {
          "name": "stdout",
          "output_type": "stream",
          "text": [
            "[4.0, 4.0, 2.0, 4.0, 5.0, 5.0, 4.0, 4.0, 5.0, 4.0, 4.0, 4.0]\n"
          ]
        }
      ],
      "source": [
        "# extract the rate for the first input from the review column\n",
        "import re\n",
        "\n",
        "ratings = []\n",
        "for review in df_copy['reviews_list'][0]:\n",
        "    match = re.search(r\"Rated (\\d\\.\\d)\", review[0])\n",
        "    if match:\n",
        "        rating = float(match.group(1))\n",
        "        ratings.append(rating)\n",
        "\n",
        "print(ratings)\n"
      ]
    },
    {
      "cell_type": "code",
      "execution_count": 35,
      "metadata": {
        "id": "XiLYgfjlEEPm"
      },
      "outputs": [],
      "source": [
        "import re\n",
        "import pandas as pd\n",
        "\n",
        "# Create a new column to store the ratings\n",
        "df_copy['ratings_list'] = ''\n",
        "\n",
        "# Iterate over each row in the 'reviews_list' column\n",
        "for index, row in df_copy.iterrows():\n",
        "    ratings = []\n",
        "    for review in row['reviews_list']:\n",
        "        match = re.search(r\"Rated (\\d\\.\\d)\", str(review))\n",
        "        if match:\n",
        "            rating = float(match.group(1))\n",
        "            ratings.append(rating)\n",
        "    df_copy.at[index, 'ratings_list'] = ratings\n",
        "\n",
        "# Calculate the mean for each row and store it in a new column\n",
        "df_copy['mean_rating'] = df_copy['ratings_list'].apply(lambda x: sum(x) / len(x) if len(x) > 0 else None)\n",
        "\n"
      ]
    },
    {
      "cell_type": "code",
      "execution_count": 36,
      "metadata": {
        "colab": {
          "base_uri": "https://localhost:8080/"
        },
        "id": "lfolOJXcUUVF",
        "outputId": "251a37ea-f90a-4c1a-fbc8-4476ab0edac4"
      },
      "outputs": [
        {
          "data": {
            "text/html": [
              "<div>\n",
              "<style scoped>\n",
              "    .dataframe tbody tr th:only-of-type {\n",
              "        vertical-align: middle;\n",
              "    }\n",
              "\n",
              "    .dataframe tbody tr th {\n",
              "        vertical-align: top;\n",
              "    }\n",
              "\n",
              "    .dataframe thead th {\n",
              "        text-align: right;\n",
              "    }\n",
              "</style>\n",
              "<table border=\"1\" class=\"dataframe\">\n",
              "  <thead>\n",
              "    <tr style=\"text-align: right;\">\n",
              "      <th></th>\n",
              "      <th>name</th>\n",
              "      <th>online_order</th>\n",
              "      <th>book_table</th>\n",
              "      <th>rate</th>\n",
              "      <th>votes</th>\n",
              "      <th>location</th>\n",
              "      <th>rest_type</th>\n",
              "      <th>dish_liked</th>\n",
              "      <th>cuisines</th>\n",
              "      <th>approx_cost(for two people)</th>\n",
              "      <th>reviews_list</th>\n",
              "      <th>menu_item</th>\n",
              "      <th>listed_in(type)</th>\n",
              "      <th>ratings_list</th>\n",
              "      <th>mean_rating</th>\n",
              "    </tr>\n",
              "  </thead>\n",
              "  <tbody>\n",
              "    <tr>\n",
              "      <th>0</th>\n",
              "      <td>Jalsa</td>\n",
              "      <td>Yes</td>\n",
              "      <td>Yes</td>\n",
              "      <td>4.1</td>\n",
              "      <td>775</td>\n",
              "      <td>Banashankari</td>\n",
              "      <td>Casual Dining</td>\n",
              "      <td>Pasta, Lunch Buffet, Masala Papad, Paneer Laja...</td>\n",
              "      <td>North Indian, Mughlai, Chinese</td>\n",
              "      <td>800</td>\n",
              "      <td>[(Rated 4.0, RATED\\n  A beautiful place to din...</td>\n",
              "      <td>[]</td>\n",
              "      <td>Buffet</td>\n",
              "      <td>[4.0, 4.0, 2.0, 4.0, 5.0, 5.0, 4.0, 4.0, 5.0, ...</td>\n",
              "      <td>4.083333</td>\n",
              "    </tr>\n",
              "    <tr>\n",
              "      <th>1</th>\n",
              "      <td>Spice Elephant</td>\n",
              "      <td>Yes</td>\n",
              "      <td>No</td>\n",
              "      <td>4.1</td>\n",
              "      <td>787</td>\n",
              "      <td>Banashankari</td>\n",
              "      <td>Casual Dining</td>\n",
              "      <td>Momos, Lunch Buffet, Chocolate Nirvana, Thai G...</td>\n",
              "      <td>Chinese, North Indian, Thai</td>\n",
              "      <td>800</td>\n",
              "      <td>[(Rated 4.0, RATED\\n  Had been here for dinner...</td>\n",
              "      <td>[]</td>\n",
              "      <td>Buffet</td>\n",
              "      <td>[4.0, 3.0, 3.0, 4.0, 4.0, 5.0, 4.0, 2.0, 4.0, ...</td>\n",
              "      <td>3.571429</td>\n",
              "    </tr>\n",
              "  </tbody>\n",
              "</table>\n",
              "</div>"
            ],
            "text/plain": [
              "             name online_order book_table  rate  votes      location   \n",
              "0           Jalsa          Yes        Yes   4.1    775  Banashankari  \\\n",
              "1  Spice Elephant          Yes         No   4.1    787  Banashankari   \n",
              "\n",
              "       rest_type                                         dish_liked   \n",
              "0  Casual Dining  Pasta, Lunch Buffet, Masala Papad, Paneer Laja...  \\\n",
              "1  Casual Dining  Momos, Lunch Buffet, Chocolate Nirvana, Thai G...   \n",
              "\n",
              "                         cuisines approx_cost(for two people)   \n",
              "0  North Indian, Mughlai, Chinese                         800  \\\n",
              "1     Chinese, North Indian, Thai                         800   \n",
              "\n",
              "                                        reviews_list menu_item   \n",
              "0  [(Rated 4.0, RATED\\n  A beautiful place to din...        []  \\\n",
              "1  [(Rated 4.0, RATED\\n  Had been here for dinner...        []   \n",
              "\n",
              "  listed_in(type)                                       ratings_list   \n",
              "0          Buffet  [4.0, 4.0, 2.0, 4.0, 5.0, 5.0, 4.0, 4.0, 5.0, ...  \\\n",
              "1          Buffet  [4.0, 3.0, 3.0, 4.0, 4.0, 5.0, 4.0, 2.0, 4.0, ...   \n",
              "\n",
              "   mean_rating  \n",
              "0     4.083333  \n",
              "1     3.571429  "
            ]
          },
          "execution_count": 36,
          "metadata": {},
          "output_type": "execute_result"
        }
      ],
      "source": [
        "df_copy.head(2)"
      ]
    },
    {
      "cell_type": "code",
      "execution_count": 37,
      "metadata": {
        "colab": {
          "base_uri": "https://localhost:8080/"
        },
        "id": "HlpsnBioQF97",
        "outputId": "3938a59c-6a85-48b1-ce59-a8f8a4004caa"
      },
      "outputs": [
        {
          "data": {
            "text/html": [
              "<div>\n",
              "<style scoped>\n",
              "    .dataframe tbody tr th:only-of-type {\n",
              "        vertical-align: middle;\n",
              "    }\n",
              "\n",
              "    .dataframe tbody tr th {\n",
              "        vertical-align: top;\n",
              "    }\n",
              "\n",
              "    .dataframe thead th {\n",
              "        text-align: right;\n",
              "    }\n",
              "</style>\n",
              "<table border=\"1\" class=\"dataframe\">\n",
              "  <thead>\n",
              "    <tr style=\"text-align: right;\">\n",
              "      <th></th>\n",
              "      <th>ratings_list</th>\n",
              "      <th>mean_rating</th>\n",
              "    </tr>\n",
              "  </thead>\n",
              "  <tbody>\n",
              "    <tr>\n",
              "      <th>0</th>\n",
              "      <td>[4.0, 4.0, 2.0, 4.0, 5.0, 5.0, 4.0, 4.0, 5.0, ...</td>\n",
              "      <td>4.083333</td>\n",
              "    </tr>\n",
              "    <tr>\n",
              "      <th>1</th>\n",
              "      <td>[4.0, 3.0, 3.0, 4.0, 4.0, 5.0, 4.0, 2.0, 4.0, ...</td>\n",
              "      <td>3.571429</td>\n",
              "    </tr>\n",
              "    <tr>\n",
              "      <th>2</th>\n",
              "      <td>[3.0, 3.0, 4.0, 3.0, 3.0, 1.0, 3.0, 1.0, 4.0, ...</td>\n",
              "      <td>3.150000</td>\n",
              "    </tr>\n",
              "    <tr>\n",
              "      <th>3</th>\n",
              "      <td>[4.0, 2.0, 4.0, 2.0, 4.0, 5.0, 4.0, 5.0, 3.5, ...</td>\n",
              "      <td>3.671429</td>\n",
              "    </tr>\n",
              "    <tr>\n",
              "      <th>4</th>\n",
              "      <td>[4.0, 4.0]</td>\n",
              "      <td>4.000000</td>\n",
              "    </tr>\n",
              "  </tbody>\n",
              "</table>\n",
              "</div>"
            ],
            "text/plain": [
              "                                        ratings_list  mean_rating\n",
              "0  [4.0, 4.0, 2.0, 4.0, 5.0, 5.0, 4.0, 4.0, 5.0, ...     4.083333\n",
              "1  [4.0, 3.0, 3.0, 4.0, 4.0, 5.0, 4.0, 2.0, 4.0, ...     3.571429\n",
              "2  [3.0, 3.0, 4.0, 3.0, 3.0, 1.0, 3.0, 1.0, 4.0, ...     3.150000\n",
              "3  [4.0, 2.0, 4.0, 2.0, 4.0, 5.0, 4.0, 5.0, 3.5, ...     3.671429\n",
              "4                                         [4.0, 4.0]     4.000000"
            ]
          },
          "execution_count": 37,
          "metadata": {},
          "output_type": "execute_result"
        }
      ],
      "source": [
        "df_copy[['ratings_list', 'mean_rating']].head(5)"
      ]
    },
    {
      "cell_type": "code",
      "execution_count": 38,
      "metadata": {
        "colab": {
          "base_uri": "https://localhost:8080/"
        },
        "id": "u6Kn1ShnQt0q",
        "outputId": "f9a6c06f-fbbd-4ee7-fa85-162f67b0b663"
      },
      "outputs": [
        {
          "data": {
            "text/plain": [
              "count    35994.0\n",
              "mean         3.7\n",
              "std          0.4\n",
              "min          1.8\n",
              "25%          3.4\n",
              "50%          3.8\n",
              "75%          4.0\n",
              "max          4.9\n",
              "Name: rate, dtype: float64"
            ]
          },
          "execution_count": 38,
          "metadata": {},
          "output_type": "execute_result"
        }
      ],
      "source": [
        "df_copy['rate'].describe().round(1)"
      ]
    },
    {
      "cell_type": "code",
      "execution_count": 39,
      "metadata": {
        "colab": {
          "base_uri": "https://localhost:8080/"
        },
        "id": "PJyduITMQ5EL",
        "outputId": "7f28ae3f-a4c4-47f8-de13-6f33ede261f4"
      },
      "outputs": [
        {
          "data": {
            "text/plain": [
              "count    37463.0\n",
              "mean         3.6\n",
              "std          0.9\n",
              "min          1.0\n",
              "25%          3.1\n",
              "50%          3.8\n",
              "75%          4.2\n",
              "max          5.0\n",
              "Name: mean_rating, dtype: float64"
            ]
          },
          "execution_count": 39,
          "metadata": {},
          "output_type": "execute_result"
        }
      ],
      "source": [
        "df_copy['mean_rating'].describe().round(1)"
      ]
    },
    {
      "attachments": {},
      "cell_type": "markdown",
      "metadata": {
        "id": "sBJ-IPnqZyEA"
      },
      "source": [
        "**Calculates the mean value of the 'rate' column and replacing with NaN values**"
      ]
    },
    {
      "cell_type": "code",
      "execution_count": 40,
      "metadata": {
        "id": "yWPMXy-3O1S3"
      },
      "outputs": [],
      "source": [
        "df_copy['rate'].fillna(df_copy['rate'].mean(), inplace=True)\n"
      ]
    },
    {
      "cell_type": "code",
      "execution_count": 41,
      "metadata": {
        "colab": {
          "base_uri": "https://localhost:8080/"
        },
        "id": "yT3JDdQMO8K5",
        "outputId": "750d1411-58ed-4397-92a5-d03ec41dd329"
      },
      "outputs": [
        {
          "data": {
            "text/plain": [
              "rate              0\n",
              "mean_rating    4445\n",
              "dtype: int64"
            ]
          },
          "execution_count": 41,
          "metadata": {},
          "output_type": "execute_result"
        }
      ],
      "source": [
        "df_copy[['rate', 'mean_rating']].isna().sum()"
      ]
    },
    {
      "cell_type": "code",
      "execution_count": 42,
      "metadata": {
        "colab": {
          "base_uri": "https://localhost:8080/"
        },
        "id": "K-6qGOImP2tO",
        "outputId": "6550d0df-04d2-4e72-da63-251f48001520"
      },
      "outputs": [
        {
          "data": {
            "text/plain": [
              "name                            0.00\n",
              "online_order                    0.00\n",
              "book_table                      0.00\n",
              "rate                            0.00\n",
              "votes                           0.00\n",
              "location                        0.03\n",
              "rest_type                       0.41\n",
              "dish_liked                     48.22\n",
              "cuisines                        0.09\n",
              "approx_cost(for two people)     0.60\n",
              "reviews_list                    0.00\n",
              "menu_item                       0.00\n",
              "listed_in(type)                 0.00\n",
              "ratings_list                    0.00\n",
              "mean_rating                    10.61\n",
              "dtype: float64"
            ]
          },
          "execution_count": 42,
          "metadata": {},
          "output_type": "execute_result"
        }
      ],
      "source": [
        "# check for null values\n",
        "((df_copy.isna().sum()/df_copy.shape[0])*100).round(2)"
      ]
    },
    {
      "cell_type": "code",
      "execution_count": 43,
      "metadata": {
        "colab": {
          "base_uri": "https://localhost:8080/"
        },
        "id": "5y3Sq9vzP-m8",
        "outputId": "47308c5e-e584-4416-e96c-68aa8d994731"
      },
      "outputs": [
        {
          "data": {
            "text/plain": [
              "count    41908.000000\n",
              "mean         3.724262\n",
              "std          0.414676\n",
              "min          1.800000\n",
              "25%          3.500000\n",
              "50%          3.724262\n",
              "75%          4.000000\n",
              "max          4.900000\n",
              "Name: rate, dtype: float64"
            ]
          },
          "execution_count": 43,
          "metadata": {},
          "output_type": "execute_result"
        }
      ],
      "source": [
        "df_copy['rate'].describe()"
      ]
    },
    {
      "cell_type": "code",
      "execution_count": 44,
      "metadata": {
        "id": "Q1WWbebHQO37"
      },
      "outputs": [],
      "source": [
        "#Round the values in the 'rate' column to one decimal place\n",
        "df_copy['rate'] = df_copy['rate'].round(1)"
      ]
    },
    {
      "cell_type": "code",
      "execution_count": 45,
      "metadata": {
        "colab": {
          "base_uri": "https://localhost:8080/"
        },
        "id": "yaBa5ePO5UK5",
        "outputId": "3802f04b-991c-459e-9af5-d7852cfb993e"
      },
      "outputs": [
        {
          "data": {
            "text/html": [
              "<div>\n",
              "<style scoped>\n",
              "    .dataframe tbody tr th:only-of-type {\n",
              "        vertical-align: middle;\n",
              "    }\n",
              "\n",
              "    .dataframe tbody tr th {\n",
              "        vertical-align: top;\n",
              "    }\n",
              "\n",
              "    .dataframe thead th {\n",
              "        text-align: right;\n",
              "    }\n",
              "</style>\n",
              "<table border=\"1\" class=\"dataframe\">\n",
              "  <thead>\n",
              "    <tr style=\"text-align: right;\">\n",
              "      <th></th>\n",
              "      <th>name</th>\n",
              "      <th>online_order</th>\n",
              "      <th>book_table</th>\n",
              "      <th>rate</th>\n",
              "      <th>votes</th>\n",
              "      <th>location</th>\n",
              "      <th>rest_type</th>\n",
              "      <th>dish_liked</th>\n",
              "      <th>cuisines</th>\n",
              "      <th>approx_cost(for two people)</th>\n",
              "      <th>reviews_list</th>\n",
              "      <th>menu_item</th>\n",
              "      <th>listed_in(type)</th>\n",
              "      <th>ratings_list</th>\n",
              "      <th>mean_rating</th>\n",
              "    </tr>\n",
              "  </thead>\n",
              "  <tbody>\n",
              "    <tr>\n",
              "      <th>0</th>\n",
              "      <td>Jalsa</td>\n",
              "      <td>Yes</td>\n",
              "      <td>Yes</td>\n",
              "      <td>4.1</td>\n",
              "      <td>775</td>\n",
              "      <td>Banashankari</td>\n",
              "      <td>Casual Dining</td>\n",
              "      <td>Pasta, Lunch Buffet, Masala Papad, Paneer Laja...</td>\n",
              "      <td>North Indian, Mughlai, Chinese</td>\n",
              "      <td>800</td>\n",
              "      <td>[(Rated 4.0, RATED\\n  A beautiful place to din...</td>\n",
              "      <td>[]</td>\n",
              "      <td>Buffet</td>\n",
              "      <td>[4.0, 4.0, 2.0, 4.0, 5.0, 5.0, 4.0, 4.0, 5.0, ...</td>\n",
              "      <td>4.083333</td>\n",
              "    </tr>\n",
              "    <tr>\n",
              "      <th>1</th>\n",
              "      <td>Spice Elephant</td>\n",
              "      <td>Yes</td>\n",
              "      <td>No</td>\n",
              "      <td>4.1</td>\n",
              "      <td>787</td>\n",
              "      <td>Banashankari</td>\n",
              "      <td>Casual Dining</td>\n",
              "      <td>Momos, Lunch Buffet, Chocolate Nirvana, Thai G...</td>\n",
              "      <td>Chinese, North Indian, Thai</td>\n",
              "      <td>800</td>\n",
              "      <td>[(Rated 4.0, RATED\\n  Had been here for dinner...</td>\n",
              "      <td>[]</td>\n",
              "      <td>Buffet</td>\n",
              "      <td>[4.0, 3.0, 3.0, 4.0, 4.0, 5.0, 4.0, 2.0, 4.0, ...</td>\n",
              "      <td>3.571429</td>\n",
              "    </tr>\n",
              "  </tbody>\n",
              "</table>\n",
              "</div>"
            ],
            "text/plain": [
              "             name online_order book_table  rate  votes      location   \n",
              "0           Jalsa          Yes        Yes   4.1    775  Banashankari  \\\n",
              "1  Spice Elephant          Yes         No   4.1    787  Banashankari   \n",
              "\n",
              "       rest_type                                         dish_liked   \n",
              "0  Casual Dining  Pasta, Lunch Buffet, Masala Papad, Paneer Laja...  \\\n",
              "1  Casual Dining  Momos, Lunch Buffet, Chocolate Nirvana, Thai G...   \n",
              "\n",
              "                         cuisines approx_cost(for two people)   \n",
              "0  North Indian, Mughlai, Chinese                         800  \\\n",
              "1     Chinese, North Indian, Thai                         800   \n",
              "\n",
              "                                        reviews_list menu_item   \n",
              "0  [(Rated 4.0, RATED\\n  A beautiful place to din...        []  \\\n",
              "1  [(Rated 4.0, RATED\\n  Had been here for dinner...        []   \n",
              "\n",
              "  listed_in(type)                                       ratings_list   \n",
              "0          Buffet  [4.0, 4.0, 2.0, 4.0, 5.0, 5.0, 4.0, 4.0, 5.0, ...  \\\n",
              "1          Buffet  [4.0, 3.0, 3.0, 4.0, 4.0, 5.0, 4.0, 2.0, 4.0, ...   \n",
              "\n",
              "   mean_rating  \n",
              "0     4.083333  \n",
              "1     3.571429  "
            ]
          },
          "execution_count": 45,
          "metadata": {},
          "output_type": "execute_result"
        }
      ],
      "source": [
        "df_copy.head(2)"
      ]
    },
    {
      "cell_type": "code",
      "execution_count": 46,
      "metadata": {
        "colab": {
          "base_uri": "https://localhost:8080/"
        },
        "id": "H51-aWhv5iGs",
        "outputId": "d0687891-7f3b-4618-b698-7e1ba86538a1"
      },
      "outputs": [
        {
          "data": {
            "text/html": [
              "<div>\n",
              "<style scoped>\n",
              "    .dataframe tbody tr th:only-of-type {\n",
              "        vertical-align: middle;\n",
              "    }\n",
              "\n",
              "    .dataframe tbody tr th {\n",
              "        vertical-align: top;\n",
              "    }\n",
              "\n",
              "    .dataframe thead th {\n",
              "        text-align: right;\n",
              "    }\n",
              "</style>\n",
              "<table border=\"1\" class=\"dataframe\">\n",
              "  <thead>\n",
              "    <tr style=\"text-align: right;\">\n",
              "      <th></th>\n",
              "      <th>rate</th>\n",
              "      <th>mean_rating</th>\n",
              "    </tr>\n",
              "  </thead>\n",
              "  <tbody>\n",
              "    <tr>\n",
              "      <th>2006</th>\n",
              "      <td>3.6</td>\n",
              "      <td>3.388889</td>\n",
              "    </tr>\n",
              "    <tr>\n",
              "      <th>36033</th>\n",
              "      <td>4.5</td>\n",
              "      <td>4.214286</td>\n",
              "    </tr>\n",
              "    <tr>\n",
              "      <th>45520</th>\n",
              "      <td>3.3</td>\n",
              "      <td>1.000000</td>\n",
              "    </tr>\n",
              "    <tr>\n",
              "      <th>4175</th>\n",
              "      <td>3.3</td>\n",
              "      <td>3.500000</td>\n",
              "    </tr>\n",
              "    <tr>\n",
              "      <th>49998</th>\n",
              "      <td>3.0</td>\n",
              "      <td>2.272222</td>\n",
              "    </tr>\n",
              "  </tbody>\n",
              "</table>\n",
              "</div>"
            ],
            "text/plain": [
              "       rate  mean_rating\n",
              "2006    3.6     3.388889\n",
              "36033   4.5     4.214286\n",
              "45520   3.3     1.000000\n",
              "4175    3.3     3.500000\n",
              "49998   3.0     2.272222"
            ]
          },
          "execution_count": 46,
          "metadata": {},
          "output_type": "execute_result"
        }
      ],
      "source": [
        "#Randomly sample 5 rows from the 'rate' and 'mean_rating' columns\n",
        "df_copy[['rate', 'mean_rating']].sample(5)"
      ]
    },
    {
      "cell_type": "code",
      "execution_count": 47,
      "metadata": {
        "colab": {
          "base_uri": "https://localhost:8080/"
        },
        "id": "QEUd-e7uVps0",
        "outputId": "fc58dca9-0450-47ac-bbc6-650cc27a9158"
      },
      "outputs": [
        {
          "data": {
            "text/plain": [
              "3.7"
            ]
          },
          "execution_count": 47,
          "metadata": {},
          "output_type": "execute_result"
        }
      ],
      "source": [
        "df_copy['rate'][12278]"
      ]
    },
    {
      "cell_type": "code",
      "execution_count": 48,
      "metadata": {
        "colab": {
          "base_uri": "https://localhost:8080/"
        },
        "id": "olpYuPFi5-_7",
        "outputId": "2a5ed5fd-eb5e-4305-f21d-fc9b5befa9ab"
      },
      "outputs": [
        {
          "data": {
            "text/plain": [
              "[5.0]"
            ]
          },
          "execution_count": 48,
          "metadata": {},
          "output_type": "execute_result"
        }
      ],
      "source": [
        "df_copy['ratings_list'][12278]"
      ]
    },
    {
      "cell_type": "code",
      "execution_count": 49,
      "metadata": {
        "colab": {
          "base_uri": "https://localhost:8080/"
        },
        "id": "In9K1R7aVf19",
        "outputId": "66454602-8319-4dee-ea02-4994c7dc8a99"
      },
      "outputs": [
        {
          "data": {
            "text/plain": [
              "[('Rated 5.0',\n",
              "  'RATED\\n  Wonderful experience with this restaurant, I have ordered through call they delivered delicious an yummy food at my home, alfaham Chicken, Rumali Roti, chicken dum biryani.')]"
            ]
          },
          "execution_count": 49,
          "metadata": {},
          "output_type": "execute_result"
        }
      ],
      "source": [
        "df_copy['reviews_list'][12278]"
      ]
    },
    {
      "attachments": {},
      "cell_type": "markdown",
      "metadata": {
        "id": "J8-3DeBIao31"
      },
      "source": [
        "After randomly sampling the data, we noticed a significant difference between the values in the \"rate\" column compared to the \"ratings_list\" and \"mean_rating\" columns.\n",
        "\n",
        "To streamline the information, we have decided to retain only the \"rate\" column. Purpose behind filling missing values has being accomplished.So,remove the \"ratings_list\" and \"mean_rating\" columns.\n",
        "\n",
        "\n",
        "\n"
      ]
    },
    {
      "cell_type": "code",
      "execution_count": 50,
      "metadata": {
        "id": "S2XZuD4ZWM19"
      },
      "outputs": [],
      "source": [
        "# Drop the \"ratings_list\" and \"mean_rating\" columns from df_copy\n",
        "df_copy = df_copy.drop([\"ratings_list\", \"mean_rating\"], axis=1)"
      ]
    },
    {
      "cell_type": "code",
      "execution_count": 51,
      "metadata": {
        "colab": {
          "base_uri": "https://localhost:8080/"
        },
        "id": "UGd4sZgScgmd",
        "outputId": "b846f7d9-fbc8-458c-a469-3fc0a971af14"
      },
      "outputs": [
        {
          "data": {
            "text/html": [
              "<div>\n",
              "<style scoped>\n",
              "    .dataframe tbody tr th:only-of-type {\n",
              "        vertical-align: middle;\n",
              "    }\n",
              "\n",
              "    .dataframe tbody tr th {\n",
              "        vertical-align: top;\n",
              "    }\n",
              "\n",
              "    .dataframe thead th {\n",
              "        text-align: right;\n",
              "    }\n",
              "</style>\n",
              "<table border=\"1\" class=\"dataframe\">\n",
              "  <thead>\n",
              "    <tr style=\"text-align: right;\">\n",
              "      <th></th>\n",
              "      <th>name</th>\n",
              "      <th>online_order</th>\n",
              "      <th>book_table</th>\n",
              "      <th>rate</th>\n",
              "      <th>votes</th>\n",
              "      <th>location</th>\n",
              "      <th>rest_type</th>\n",
              "      <th>dish_liked</th>\n",
              "      <th>cuisines</th>\n",
              "      <th>approx_cost(for two people)</th>\n",
              "      <th>reviews_list</th>\n",
              "      <th>menu_item</th>\n",
              "      <th>listed_in(type)</th>\n",
              "    </tr>\n",
              "  </thead>\n",
              "  <tbody>\n",
              "    <tr>\n",
              "      <th>0</th>\n",
              "      <td>Jalsa</td>\n",
              "      <td>Yes</td>\n",
              "      <td>Yes</td>\n",
              "      <td>4.1</td>\n",
              "      <td>775</td>\n",
              "      <td>Banashankari</td>\n",
              "      <td>Casual Dining</td>\n",
              "      <td>Pasta, Lunch Buffet, Masala Papad, Paneer Laja...</td>\n",
              "      <td>North Indian, Mughlai, Chinese</td>\n",
              "      <td>800</td>\n",
              "      <td>[(Rated 4.0, RATED\\n  A beautiful place to din...</td>\n",
              "      <td>[]</td>\n",
              "      <td>Buffet</td>\n",
              "    </tr>\n",
              "    <tr>\n",
              "      <th>1</th>\n",
              "      <td>Spice Elephant</td>\n",
              "      <td>Yes</td>\n",
              "      <td>No</td>\n",
              "      <td>4.1</td>\n",
              "      <td>787</td>\n",
              "      <td>Banashankari</td>\n",
              "      <td>Casual Dining</td>\n",
              "      <td>Momos, Lunch Buffet, Chocolate Nirvana, Thai G...</td>\n",
              "      <td>Chinese, North Indian, Thai</td>\n",
              "      <td>800</td>\n",
              "      <td>[(Rated 4.0, RATED\\n  Had been here for dinner...</td>\n",
              "      <td>[]</td>\n",
              "      <td>Buffet</td>\n",
              "    </tr>\n",
              "    <tr>\n",
              "      <th>2</th>\n",
              "      <td>San Churro Cafe</td>\n",
              "      <td>Yes</td>\n",
              "      <td>No</td>\n",
              "      <td>3.8</td>\n",
              "      <td>918</td>\n",
              "      <td>Banashankari</td>\n",
              "      <td>Cafe, Casual Dining</td>\n",
              "      <td>Churros, Cannelloni, Minestrone Soup, Hot Choc...</td>\n",
              "      <td>Cafe, Mexican, Italian</td>\n",
              "      <td>800</td>\n",
              "      <td>[(Rated 3.0, RATED\\n  Ambience is not that goo...</td>\n",
              "      <td>[]</td>\n",
              "      <td>Buffet</td>\n",
              "    </tr>\n",
              "    <tr>\n",
              "      <th>3</th>\n",
              "      <td>Addhuri Udupi Bhojana</td>\n",
              "      <td>No</td>\n",
              "      <td>No</td>\n",
              "      <td>3.7</td>\n",
              "      <td>88</td>\n",
              "      <td>Banashankari</td>\n",
              "      <td>Quick Bites</td>\n",
              "      <td>Masala Dosa</td>\n",
              "      <td>South Indian, North Indian</td>\n",
              "      <td>300</td>\n",
              "      <td>[(Rated 4.0, RATED\\n  Great food and proper Ka...</td>\n",
              "      <td>[]</td>\n",
              "      <td>Buffet</td>\n",
              "    </tr>\n",
              "    <tr>\n",
              "      <th>4</th>\n",
              "      <td>Grand Village</td>\n",
              "      <td>No</td>\n",
              "      <td>No</td>\n",
              "      <td>3.8</td>\n",
              "      <td>166</td>\n",
              "      <td>Basavanagudi</td>\n",
              "      <td>Casual Dining</td>\n",
              "      <td>Panipuri, Gol Gappe</td>\n",
              "      <td>North Indian, Rajasthani</td>\n",
              "      <td>600</td>\n",
              "      <td>[(Rated 4.0, RATED\\n  Very good restaurant in ...</td>\n",
              "      <td>[]</td>\n",
              "      <td>Buffet</td>\n",
              "    </tr>\n",
              "  </tbody>\n",
              "</table>\n",
              "</div>"
            ],
            "text/plain": [
              "                    name online_order book_table  rate  votes      location   \n",
              "0                  Jalsa          Yes        Yes   4.1    775  Banashankari  \\\n",
              "1         Spice Elephant          Yes         No   4.1    787  Banashankari   \n",
              "2        San Churro Cafe          Yes         No   3.8    918  Banashankari   \n",
              "3  Addhuri Udupi Bhojana           No         No   3.7     88  Banashankari   \n",
              "4          Grand Village           No         No   3.8    166  Basavanagudi   \n",
              "\n",
              "             rest_type                                         dish_liked   \n",
              "0        Casual Dining  Pasta, Lunch Buffet, Masala Papad, Paneer Laja...  \\\n",
              "1        Casual Dining  Momos, Lunch Buffet, Chocolate Nirvana, Thai G...   \n",
              "2  Cafe, Casual Dining  Churros, Cannelloni, Minestrone Soup, Hot Choc...   \n",
              "3          Quick Bites                                        Masala Dosa   \n",
              "4        Casual Dining                                Panipuri, Gol Gappe   \n",
              "\n",
              "                         cuisines approx_cost(for two people)   \n",
              "0  North Indian, Mughlai, Chinese                         800  \\\n",
              "1     Chinese, North Indian, Thai                         800   \n",
              "2          Cafe, Mexican, Italian                         800   \n",
              "3      South Indian, North Indian                         300   \n",
              "4        North Indian, Rajasthani                         600   \n",
              "\n",
              "                                        reviews_list menu_item listed_in(type)  \n",
              "0  [(Rated 4.0, RATED\\n  A beautiful place to din...        []          Buffet  \n",
              "1  [(Rated 4.0, RATED\\n  Had been here for dinner...        []          Buffet  \n",
              "2  [(Rated 3.0, RATED\\n  Ambience is not that goo...        []          Buffet  \n",
              "3  [(Rated 4.0, RATED\\n  Great food and proper Ka...        []          Buffet  \n",
              "4  [(Rated 4.0, RATED\\n  Very good restaurant in ...        []          Buffet  "
            ]
          },
          "execution_count": 51,
          "metadata": {},
          "output_type": "execute_result"
        }
      ],
      "source": [
        "df_copy.head(5)"
      ]
    },
    {
      "cell_type": "code",
      "execution_count": 52,
      "metadata": {
        "colab": {
          "base_uri": "https://localhost:8080/"
        },
        "id": "YtICRhe6cjo0",
        "outputId": "ee7d339f-2fd0-4783-fcd1-27ecf02033fc"
      },
      "outputs": [
        {
          "data": {
            "text/plain": [
              "name                            0.00\n",
              "online_order                    0.00\n",
              "book_table                      0.00\n",
              "rate                            0.00\n",
              "votes                           0.00\n",
              "location                        0.03\n",
              "rest_type                       0.41\n",
              "dish_liked                     48.22\n",
              "cuisines                        0.09\n",
              "approx_cost(for two people)     0.60\n",
              "reviews_list                    0.00\n",
              "menu_item                       0.00\n",
              "listed_in(type)                 0.00\n",
              "dtype: float64"
            ]
          },
          "execution_count": 52,
          "metadata": {},
          "output_type": "execute_result"
        }
      ],
      "source": [
        "# check for null values\n",
        "((df_copy.isna().sum()/df_copy.shape[0])*100).round(2)"
      ]
    },
    {
      "cell_type": "code",
      "execution_count": 53,
      "metadata": {
        "colab": {
          "base_uri": "https://localhost:8080/"
        },
        "id": "c095zezecpbE",
        "outputId": "9a98c850-5785-4ea5-bb61-bee7af7c57a0"
      },
      "outputs": [
        {
          "data": {
            "text/plain": [
              "rest_type                      172\n",
              "location                        14\n",
              "cuisines                        36\n",
              "approx_cost(for two people)    253\n",
              "dtype: int64"
            ]
          },
          "execution_count": 53,
          "metadata": {},
          "output_type": "execute_result"
        }
      ],
      "source": [
        "df_copy[['rest_type','location','cuisines','approx_cost(for two people)']].isna().sum()"
      ]
    },
    {
      "cell_type": "code",
      "execution_count": 54,
      "metadata": {
        "id": "w17sOVgG384U"
      },
      "outputs": [],
      "source": [
        "columns_to_drop_na = ['rest_type', 'location', 'cuisines', 'approx_cost(for two people)']\n",
        "df_copy = df_copy.dropna(subset=columns_to_drop_na)"
      ]
    },
    {
      "cell_type": "code",
      "execution_count": 55,
      "metadata": {
        "colab": {
          "base_uri": "https://localhost:8080/"
        },
        "id": "lD8FNHmU3xMb",
        "outputId": "685bef17-1f7c-4912-a9d7-417a2ec7df96"
      },
      "outputs": [
        {
          "data": {
            "text/plain": [
              "rest_type                      0\n",
              "location                       0\n",
              "cuisines                       0\n",
              "approx_cost(for two people)    0\n",
              "dtype: int64"
            ]
          },
          "execution_count": 55,
          "metadata": {},
          "output_type": "execute_result"
        }
      ],
      "source": [
        "df_copy[['rest_type','location','cuisines','approx_cost(for two people)']].isnull().sum()"
      ]
    },
    {
      "cell_type": "code",
      "execution_count": 56,
      "metadata": {
        "colab": {
          "base_uri": "https://localhost:8080/"
        },
        "id": "TnigihI74NJa",
        "outputId": "ef4cc740-47df-4c1c-8daa-0c0cc3007189"
      },
      "outputs": [
        {
          "data": {
            "text/plain": [
              "name                            0.0\n",
              "online_order                    0.0\n",
              "book_table                      0.0\n",
              "rate                            0.0\n",
              "votes                           0.0\n",
              "location                        0.0\n",
              "rest_type                       0.0\n",
              "dish_liked                     48.1\n",
              "cuisines                        0.0\n",
              "approx_cost(for two people)     0.0\n",
              "reviews_list                    0.0\n",
              "menu_item                       0.0\n",
              "listed_in(type)                 0.0\n",
              "dtype: float64"
            ]
          },
          "execution_count": 56,
          "metadata": {},
          "output_type": "execute_result"
        }
      ],
      "source": [
        "# check for null values\n",
        "((df_copy.isna().sum()/df_copy.shape[0])*100).round(2)"
      ]
    },
    {
      "cell_type": "code",
      "execution_count": 57,
      "metadata": {
        "colab": {
          "base_uri": "https://localhost:8080/"
        },
        "id": "kbRU5ocHwOq_",
        "outputId": "6e556983-29d7-44d7-aedf-d6d929e55061"
      },
      "outputs": [
        {
          "data": {
            "text/plain": [
              "(41482, 13)"
            ]
          },
          "execution_count": 57,
          "metadata": {},
          "output_type": "execute_result"
        }
      ],
      "source": [
        "df_copy.shape"
      ]
    },
    {
      "cell_type": "code",
      "execution_count": 58,
      "metadata": {
        "colab": {
          "base_uri": "https://localhost:8080/"
        },
        "id": "DBUDF8uIu2On",
        "outputId": "79a18ef6-445a-4b9d-ee43-68fd1bd727aa"
      },
      "outputs": [
        {
          "data": {
            "text/html": [
              "<div>\n",
              "<style scoped>\n",
              "    .dataframe tbody tr th:only-of-type {\n",
              "        vertical-align: middle;\n",
              "    }\n",
              "\n",
              "    .dataframe tbody tr th {\n",
              "        vertical-align: top;\n",
              "    }\n",
              "\n",
              "    .dataframe thead th {\n",
              "        text-align: right;\n",
              "    }\n",
              "</style>\n",
              "<table border=\"1\" class=\"dataframe\">\n",
              "  <thead>\n",
              "    <tr style=\"text-align: right;\">\n",
              "      <th></th>\n",
              "      <th>name</th>\n",
              "      <th>online_order</th>\n",
              "      <th>book_table</th>\n",
              "      <th>rate</th>\n",
              "      <th>votes</th>\n",
              "      <th>location</th>\n",
              "      <th>rest_type</th>\n",
              "      <th>dish_liked</th>\n",
              "      <th>cuisines</th>\n",
              "      <th>approx_cost(for two people)</th>\n",
              "      <th>reviews_list</th>\n",
              "      <th>menu_item</th>\n",
              "      <th>listed_in(type)</th>\n",
              "    </tr>\n",
              "  </thead>\n",
              "  <tbody>\n",
              "    <tr>\n",
              "      <th>0</th>\n",
              "      <td>Jalsa</td>\n",
              "      <td>Yes</td>\n",
              "      <td>Yes</td>\n",
              "      <td>4.1</td>\n",
              "      <td>775</td>\n",
              "      <td>Banashankari</td>\n",
              "      <td>Casual Dining</td>\n",
              "      <td>Pasta, Lunch Buffet, Masala Papad, Paneer Laja...</td>\n",
              "      <td>North Indian, Mughlai, Chinese</td>\n",
              "      <td>800</td>\n",
              "      <td>((Rated 4.0, RATED\\n  A beautiful place to din...</td>\n",
              "      <td>([, ])</td>\n",
              "      <td>Buffet</td>\n",
              "    </tr>\n",
              "    <tr>\n",
              "      <th>1</th>\n",
              "      <td>Spice Elephant</td>\n",
              "      <td>Yes</td>\n",
              "      <td>No</td>\n",
              "      <td>4.1</td>\n",
              "      <td>787</td>\n",
              "      <td>Banashankari</td>\n",
              "      <td>Casual Dining</td>\n",
              "      <td>Momos, Lunch Buffet, Chocolate Nirvana, Thai G...</td>\n",
              "      <td>Chinese, North Indian, Thai</td>\n",
              "      <td>800</td>\n",
              "      <td>((Rated 4.0, RATED\\n  Had been here for dinner...</td>\n",
              "      <td>([, ])</td>\n",
              "      <td>Buffet</td>\n",
              "    </tr>\n",
              "    <tr>\n",
              "      <th>2</th>\n",
              "      <td>San Churro Cafe</td>\n",
              "      <td>Yes</td>\n",
              "      <td>No</td>\n",
              "      <td>3.8</td>\n",
              "      <td>918</td>\n",
              "      <td>Banashankari</td>\n",
              "      <td>Cafe, Casual Dining</td>\n",
              "      <td>Churros, Cannelloni, Minestrone Soup, Hot Choc...</td>\n",
              "      <td>Cafe, Mexican, Italian</td>\n",
              "      <td>800</td>\n",
              "      <td>((Rated 3.0, RATED\\n  Ambience is not that goo...</td>\n",
              "      <td>([, ])</td>\n",
              "      <td>Buffet</td>\n",
              "    </tr>\n",
              "    <tr>\n",
              "      <th>3</th>\n",
              "      <td>Addhuri Udupi Bhojana</td>\n",
              "      <td>No</td>\n",
              "      <td>No</td>\n",
              "      <td>3.7</td>\n",
              "      <td>88</td>\n",
              "      <td>Banashankari</td>\n",
              "      <td>Quick Bites</td>\n",
              "      <td>Masala Dosa</td>\n",
              "      <td>South Indian, North Indian</td>\n",
              "      <td>300</td>\n",
              "      <td>((Rated 4.0, RATED\\n  Great food and proper Ka...</td>\n",
              "      <td>([, ])</td>\n",
              "      <td>Buffet</td>\n",
              "    </tr>\n",
              "    <tr>\n",
              "      <th>4</th>\n",
              "      <td>Grand Village</td>\n",
              "      <td>No</td>\n",
              "      <td>No</td>\n",
              "      <td>3.8</td>\n",
              "      <td>166</td>\n",
              "      <td>Basavanagudi</td>\n",
              "      <td>Casual Dining</td>\n",
              "      <td>Panipuri, Gol Gappe</td>\n",
              "      <td>North Indian, Rajasthani</td>\n",
              "      <td>600</td>\n",
              "      <td>((Rated 4.0, RATED\\n  Very good restaurant in ...</td>\n",
              "      <td>([, ])</td>\n",
              "      <td>Buffet</td>\n",
              "    </tr>\n",
              "    <tr>\n",
              "      <th>...</th>\n",
              "      <td>...</td>\n",
              "      <td>...</td>\n",
              "      <td>...</td>\n",
              "      <td>...</td>\n",
              "      <td>...</td>\n",
              "      <td>...</td>\n",
              "      <td>...</td>\n",
              "      <td>...</td>\n",
              "      <td>...</td>\n",
              "      <td>...</td>\n",
              "      <td>...</td>\n",
              "      <td>...</td>\n",
              "      <td>...</td>\n",
              "    </tr>\n",
              "    <tr>\n",
              "      <th>51712</th>\n",
              "      <td>Best Brews - Four Points by Sheraton Bengaluru...</td>\n",
              "      <td>No</td>\n",
              "      <td>No</td>\n",
              "      <td>3.6</td>\n",
              "      <td>27</td>\n",
              "      <td>Whitefield</td>\n",
              "      <td>Bar</td>\n",
              "      <td>NaN</td>\n",
              "      <td>Continental</td>\n",
              "      <td>1,500</td>\n",
              "      <td>((Rated 5.0, RATED\\n  Food and service are inc...</td>\n",
              "      <td>([, ])</td>\n",
              "      <td>Pubs and bars</td>\n",
              "    </tr>\n",
              "    <tr>\n",
              "      <th>51713</th>\n",
              "      <td>Vinod Bar And Restaurant</td>\n",
              "      <td>No</td>\n",
              "      <td>No</td>\n",
              "      <td>3.7</td>\n",
              "      <td>0</td>\n",
              "      <td>Whitefield</td>\n",
              "      <td>Bar</td>\n",
              "      <td>NaN</td>\n",
              "      <td>Finger Food</td>\n",
              "      <td>600</td>\n",
              "      <td>()</td>\n",
              "      <td>([, ])</td>\n",
              "      <td>Pubs and bars</td>\n",
              "    </tr>\n",
              "    <tr>\n",
              "      <th>51714</th>\n",
              "      <td>Plunge - Sheraton Grand Bengaluru Whitefield H...</td>\n",
              "      <td>No</td>\n",
              "      <td>No</td>\n",
              "      <td>3.7</td>\n",
              "      <td>0</td>\n",
              "      <td>Whitefield</td>\n",
              "      <td>Bar</td>\n",
              "      <td>NaN</td>\n",
              "      <td>Finger Food</td>\n",
              "      <td>2,000</td>\n",
              "      <td>()</td>\n",
              "      <td>([, ])</td>\n",
              "      <td>Pubs and bars</td>\n",
              "    </tr>\n",
              "    <tr>\n",
              "      <th>51715</th>\n",
              "      <td>Chime - Sheraton Grand Bengaluru Whitefield Ho...</td>\n",
              "      <td>No</td>\n",
              "      <td>Yes</td>\n",
              "      <td>4.3</td>\n",
              "      <td>236</td>\n",
              "      <td>ITPL Main Road, Whitefield</td>\n",
              "      <td>Bar</td>\n",
              "      <td>Cocktails, Pizza, Buttermilk</td>\n",
              "      <td>Finger Food</td>\n",
              "      <td>2,500</td>\n",
              "      <td>((Rated 4.0, RATED\\n  Nice and friendly place ...</td>\n",
              "      <td>([, ])</td>\n",
              "      <td>Pubs and bars</td>\n",
              "    </tr>\n",
              "    <tr>\n",
              "      <th>51716</th>\n",
              "      <td>The Nest - The Den Bengaluru</td>\n",
              "      <td>No</td>\n",
              "      <td>No</td>\n",
              "      <td>3.4</td>\n",
              "      <td>13</td>\n",
              "      <td>ITPL Main Road, Whitefield</td>\n",
              "      <td>Bar, Casual Dining</td>\n",
              "      <td>NaN</td>\n",
              "      <td>Finger Food, North Indian, Continental</td>\n",
              "      <td>1,500</td>\n",
              "      <td>((Rated 5.0, RATED\\n  Great ambience , looking...</td>\n",
              "      <td>([, ])</td>\n",
              "      <td>Pubs and bars</td>\n",
              "    </tr>\n",
              "  </tbody>\n",
              "</table>\n",
              "<p>39982 rows × 13 columns</p>\n",
              "</div>"
            ],
            "text/plain": [
              "                                                    name online_order   \n",
              "0                                                  Jalsa          Yes  \\\n",
              "1                                         Spice Elephant          Yes   \n",
              "2                                        San Churro Cafe          Yes   \n",
              "3                                  Addhuri Udupi Bhojana           No   \n",
              "4                                          Grand Village           No   \n",
              "...                                                  ...          ...   \n",
              "51712  Best Brews - Four Points by Sheraton Bengaluru...           No   \n",
              "51713                           Vinod Bar And Restaurant           No   \n",
              "51714  Plunge - Sheraton Grand Bengaluru Whitefield H...           No   \n",
              "51715  Chime - Sheraton Grand Bengaluru Whitefield Ho...           No   \n",
              "51716                       The Nest - The Den Bengaluru           No   \n",
              "\n",
              "      book_table  rate  votes                    location   \n",
              "0            Yes   4.1    775                Banashankari  \\\n",
              "1             No   4.1    787                Banashankari   \n",
              "2             No   3.8    918                Banashankari   \n",
              "3             No   3.7     88                Banashankari   \n",
              "4             No   3.8    166                Basavanagudi   \n",
              "...          ...   ...    ...                         ...   \n",
              "51712         No   3.6     27                  Whitefield   \n",
              "51713         No   3.7      0                  Whitefield   \n",
              "51714         No   3.7      0                  Whitefield   \n",
              "51715        Yes   4.3    236  ITPL Main Road, Whitefield   \n",
              "51716         No   3.4     13  ITPL Main Road, Whitefield   \n",
              "\n",
              "                 rest_type                                         dish_liked   \n",
              "0            Casual Dining  Pasta, Lunch Buffet, Masala Papad, Paneer Laja...  \\\n",
              "1            Casual Dining  Momos, Lunch Buffet, Chocolate Nirvana, Thai G...   \n",
              "2      Cafe, Casual Dining  Churros, Cannelloni, Minestrone Soup, Hot Choc...   \n",
              "3              Quick Bites                                        Masala Dosa   \n",
              "4            Casual Dining                                Panipuri, Gol Gappe   \n",
              "...                    ...                                                ...   \n",
              "51712                  Bar                                                NaN   \n",
              "51713                  Bar                                                NaN   \n",
              "51714                  Bar                                                NaN   \n",
              "51715                  Bar                       Cocktails, Pizza, Buttermilk   \n",
              "51716   Bar, Casual Dining                                                NaN   \n",
              "\n",
              "                                     cuisines approx_cost(for two people)   \n",
              "0              North Indian, Mughlai, Chinese                         800  \\\n",
              "1                 Chinese, North Indian, Thai                         800   \n",
              "2                      Cafe, Mexican, Italian                         800   \n",
              "3                  South Indian, North Indian                         300   \n",
              "4                    North Indian, Rajasthani                         600   \n",
              "...                                       ...                         ...   \n",
              "51712                             Continental                       1,500   \n",
              "51713                             Finger Food                         600   \n",
              "51714                             Finger Food                       2,000   \n",
              "51715                             Finger Food                       2,500   \n",
              "51716  Finger Food, North Indian, Continental                       1,500   \n",
              "\n",
              "                                            reviews_list menu_item   \n",
              "0      ((Rated 4.0, RATED\\n  A beautiful place to din...    ([, ])  \\\n",
              "1      ((Rated 4.0, RATED\\n  Had been here for dinner...    ([, ])   \n",
              "2      ((Rated 3.0, RATED\\n  Ambience is not that goo...    ([, ])   \n",
              "3      ((Rated 4.0, RATED\\n  Great food and proper Ka...    ([, ])   \n",
              "4      ((Rated 4.0, RATED\\n  Very good restaurant in ...    ([, ])   \n",
              "...                                                  ...       ...   \n",
              "51712  ((Rated 5.0, RATED\\n  Food and service are inc...    ([, ])   \n",
              "51713                                                 ()    ([, ])   \n",
              "51714                                                 ()    ([, ])   \n",
              "51715  ((Rated 4.0, RATED\\n  Nice and friendly place ...    ([, ])   \n",
              "51716  ((Rated 5.0, RATED\\n  Great ambience , looking...    ([, ])   \n",
              "\n",
              "      listed_in(type)  \n",
              "0              Buffet  \n",
              "1              Buffet  \n",
              "2              Buffet  \n",
              "3              Buffet  \n",
              "4              Buffet  \n",
              "...               ...  \n",
              "51712   Pubs and bars  \n",
              "51713   Pubs and bars  \n",
              "51714   Pubs and bars  \n",
              "51715   Pubs and bars  \n",
              "51716   Pubs and bars  \n",
              "\n",
              "[39982 rows x 13 columns]"
            ]
          },
          "execution_count": 58,
          "metadata": {},
          "output_type": "execute_result"
        }
      ],
      "source": [
        "df_copy[['reviews_list', 'menu_item']] = df_copy[['reviews_list', 'menu_item']].applymap(tuple)\n",
        "df_copy.drop_duplicates()"
      ]
    },
    {
      "cell_type": "code",
      "execution_count": 59,
      "metadata": {
        "colab": {
          "base_uri": "https://localhost:8080/"
        },
        "id": "ND86bHBew9Zb",
        "outputId": "bc7db2e9-780b-451e-9c59-80490d39b8f6"
      },
      "outputs": [
        {
          "data": {
            "text/plain": [
              "(41482, 13)"
            ]
          },
          "execution_count": 59,
          "metadata": {},
          "output_type": "execute_result"
        }
      ],
      "source": [
        "df_copy.shape"
      ]
    },
    {
      "cell_type": "code",
      "execution_count": 60,
      "metadata": {
        "id": "Q7CB-4dpxS4n"
      },
      "outputs": [],
      "source": [
        "df_copy.dropna(how='any',inplace=True)\n",
        "df_copy.dropna(how='any',inplace=True)"
      ]
    },
    {
      "cell_type": "code",
      "execution_count": 61,
      "metadata": {
        "colab": {
          "base_uri": "https://localhost:8080/"
        },
        "id": "5Z9gghVVySRf",
        "outputId": "b4b3339f-37c9-4787-d6ec-b414e8af6dfb"
      },
      "outputs": [
        {
          "data": {
            "text/plain": [
              "(21528, 13)"
            ]
          },
          "execution_count": 61,
          "metadata": {},
          "output_type": "execute_result"
        }
      ],
      "source": [
        "df_copy.shape"
      ]
    },
    {
      "cell_type": "code",
      "execution_count": 62,
      "metadata": {
        "colab": {
          "base_uri": "https://localhost:8080/"
        },
        "id": "p149vVHmyFs-",
        "outputId": "47f99b2c-df0a-4121-bbc9-5720c6ee5b22"
      },
      "outputs": [
        {
          "data": {
            "text/plain": [
              "21528"
            ]
          },
          "execution_count": 62,
          "metadata": {},
          "output_type": "execute_result"
        }
      ],
      "source": [
        "len(df_copy)"
      ]
    },
    {
      "cell_type": "code",
      "execution_count": 63,
      "metadata": {
        "id": "PWhWBBWtk0md"
      },
      "outputs": [],
      "source": [
        "#df_copy.dropna(how='any',inplace=True)"
      ]
    },
    {
      "cell_type": "code",
      "execution_count": 64,
      "metadata": {
        "colab": {
          "base_uri": "https://localhost:8080/",
          "height": 166
        },
        "id": "mwecwhRgxEnb",
        "outputId": "2e724ff6-bbbe-42f4-d4c5-829641291913"
      },
      "outputs": [
        {
          "data": {
            "text/html": [
              "<div>\n",
              "<style scoped>\n",
              "    .dataframe tbody tr th:only-of-type {\n",
              "        vertical-align: middle;\n",
              "    }\n",
              "\n",
              "    .dataframe tbody tr th {\n",
              "        vertical-align: top;\n",
              "    }\n",
              "\n",
              "    .dataframe thead th {\n",
              "        text-align: right;\n",
              "    }\n",
              "</style>\n",
              "<table border=\"1\" class=\"dataframe\">\n",
              "  <thead>\n",
              "    <tr style=\"text-align: right;\">\n",
              "      <th></th>\n",
              "      <th>name</th>\n",
              "      <th>online_order</th>\n",
              "      <th>book_table</th>\n",
              "      <th>rate</th>\n",
              "      <th>votes</th>\n",
              "      <th>location</th>\n",
              "      <th>rest_type</th>\n",
              "      <th>dish_liked</th>\n",
              "      <th>cuisines</th>\n",
              "      <th>approx_cost(for two people)</th>\n",
              "      <th>reviews_list</th>\n",
              "      <th>menu_item</th>\n",
              "      <th>listed_in(type)</th>\n",
              "    </tr>\n",
              "  </thead>\n",
              "  <tbody>\n",
              "    <tr>\n",
              "      <th>0</th>\n",
              "      <td>Jalsa</td>\n",
              "      <td>Yes</td>\n",
              "      <td>Yes</td>\n",
              "      <td>4.1</td>\n",
              "      <td>775</td>\n",
              "      <td>Banashankari</td>\n",
              "      <td>Casual Dining</td>\n",
              "      <td>Pasta, Lunch Buffet, Masala Papad, Paneer Laja...</td>\n",
              "      <td>North Indian, Mughlai, Chinese</td>\n",
              "      <td>800</td>\n",
              "      <td>((Rated 4.0, RATED\\n  A beautiful place to din...</td>\n",
              "      <td>([, ])</td>\n",
              "      <td>Buffet</td>\n",
              "    </tr>\n",
              "    <tr>\n",
              "      <th>1</th>\n",
              "      <td>Spice Elephant</td>\n",
              "      <td>Yes</td>\n",
              "      <td>No</td>\n",
              "      <td>4.1</td>\n",
              "      <td>787</td>\n",
              "      <td>Banashankari</td>\n",
              "      <td>Casual Dining</td>\n",
              "      <td>Momos, Lunch Buffet, Chocolate Nirvana, Thai G...</td>\n",
              "      <td>Chinese, North Indian, Thai</td>\n",
              "      <td>800</td>\n",
              "      <td>((Rated 4.0, RATED\\n  Had been here for dinner...</td>\n",
              "      <td>([, ])</td>\n",
              "      <td>Buffet</td>\n",
              "    </tr>\n",
              "    <tr>\n",
              "      <th>2</th>\n",
              "      <td>San Churro Cafe</td>\n",
              "      <td>Yes</td>\n",
              "      <td>No</td>\n",
              "      <td>3.8</td>\n",
              "      <td>918</td>\n",
              "      <td>Banashankari</td>\n",
              "      <td>Cafe, Casual Dining</td>\n",
              "      <td>Churros, Cannelloni, Minestrone Soup, Hot Choc...</td>\n",
              "      <td>Cafe, Mexican, Italian</td>\n",
              "      <td>800</td>\n",
              "      <td>((Rated 3.0, RATED\\n  Ambience is not that goo...</td>\n",
              "      <td>([, ])</td>\n",
              "      <td>Buffet</td>\n",
              "    </tr>\n",
              "    <tr>\n",
              "      <th>3</th>\n",
              "      <td>Addhuri Udupi Bhojana</td>\n",
              "      <td>No</td>\n",
              "      <td>No</td>\n",
              "      <td>3.7</td>\n",
              "      <td>88</td>\n",
              "      <td>Banashankari</td>\n",
              "      <td>Quick Bites</td>\n",
              "      <td>Masala Dosa</td>\n",
              "      <td>South Indian, North Indian</td>\n",
              "      <td>300</td>\n",
              "      <td>((Rated 4.0, RATED\\n  Great food and proper Ka...</td>\n",
              "      <td>([, ])</td>\n",
              "      <td>Buffet</td>\n",
              "    </tr>\n",
              "    <tr>\n",
              "      <th>4</th>\n",
              "      <td>Grand Village</td>\n",
              "      <td>No</td>\n",
              "      <td>No</td>\n",
              "      <td>3.8</td>\n",
              "      <td>166</td>\n",
              "      <td>Basavanagudi</td>\n",
              "      <td>Casual Dining</td>\n",
              "      <td>Panipuri, Gol Gappe</td>\n",
              "      <td>North Indian, Rajasthani</td>\n",
              "      <td>600</td>\n",
              "      <td>((Rated 4.0, RATED\\n  Very good restaurant in ...</td>\n",
              "      <td>([, ])</td>\n",
              "      <td>Buffet</td>\n",
              "    </tr>\n",
              "  </tbody>\n",
              "</table>\n",
              "</div>"
            ],
            "text/plain": [
              "                    name online_order book_table  rate  votes      location   \n",
              "0                  Jalsa          Yes        Yes   4.1    775  Banashankari  \\\n",
              "1         Spice Elephant          Yes         No   4.1    787  Banashankari   \n",
              "2        San Churro Cafe          Yes         No   3.8    918  Banashankari   \n",
              "3  Addhuri Udupi Bhojana           No         No   3.7     88  Banashankari   \n",
              "4          Grand Village           No         No   3.8    166  Basavanagudi   \n",
              "\n",
              "             rest_type                                         dish_liked   \n",
              "0        Casual Dining  Pasta, Lunch Buffet, Masala Papad, Paneer Laja...  \\\n",
              "1        Casual Dining  Momos, Lunch Buffet, Chocolate Nirvana, Thai G...   \n",
              "2  Cafe, Casual Dining  Churros, Cannelloni, Minestrone Soup, Hot Choc...   \n",
              "3          Quick Bites                                        Masala Dosa   \n",
              "4        Casual Dining                                Panipuri, Gol Gappe   \n",
              "\n",
              "                         cuisines approx_cost(for two people)   \n",
              "0  North Indian, Mughlai, Chinese                         800  \\\n",
              "1     Chinese, North Indian, Thai                         800   \n",
              "2          Cafe, Mexican, Italian                         800   \n",
              "3      South Indian, North Indian                         300   \n",
              "4        North Indian, Rajasthani                         600   \n",
              "\n",
              "                                        reviews_list menu_item listed_in(type)  \n",
              "0  ((Rated 4.0, RATED\\n  A beautiful place to din...    ([, ])          Buffet  \n",
              "1  ((Rated 4.0, RATED\\n  Had been here for dinner...    ([, ])          Buffet  \n",
              "2  ((Rated 3.0, RATED\\n  Ambience is not that goo...    ([, ])          Buffet  \n",
              "3  ((Rated 4.0, RATED\\n  Great food and proper Ka...    ([, ])          Buffet  \n",
              "4  ((Rated 4.0, RATED\\n  Very good restaurant in ...    ([, ])          Buffet  "
            ]
          },
          "execution_count": 64,
          "metadata": {},
          "output_type": "execute_result"
        }
      ],
      "source": [
        "df_copy.head()"
      ]
    },
    {
      "cell_type": "code",
      "execution_count": 65,
      "metadata": {},
      "outputs": [],
      "source": [
        "df_copy.rename(columns={'approx_cost(for two people)':'average cost for 2'},inplace=True)"
      ]
    },
    {
      "attachments": {},
      "cell_type": "markdown",
      "metadata": {},
      "source": [
        "### Analysing each column"
      ]
    },
    {
      "cell_type": "code",
      "execution_count": 66,
      "metadata": {
        "id": "VO1RA_twxIVy"
      },
      "outputs": [
        {
          "data": {
            "text/plain": [
              "name\n",
              "Onesta                    85\n",
              "Empire Restaurant         69\n",
              "KFC                       58\n",
              "McDonald's                55\n",
              "Domino's Pizza            55\n",
              "Pizza Hut                 54\n",
              "Smally's Resto Cafe       54\n",
              "Faasos                    52\n",
              "Burger King               49\n",
              "Corner House Ice Cream    48\n",
              "Name: count, dtype: int64"
            ]
          },
          "execution_count": 66,
          "metadata": {},
          "output_type": "execute_result"
        }
      ],
      "source": [
        "df_copy.name.value_counts().head(10)"
      ]
    },
    {
      "cell_type": "code",
      "execution_count": 67,
      "metadata": {},
      "outputs": [
        {
          "data": {
            "text/plain": [
              "Text(0.5, 1.0, 'Top 20 Count of Restaurants')"
            ]
          },
          "execution_count": 67,
          "metadata": {},
          "output_type": "execute_result"
        },
        {
          "data": {
            "image/png": "[encoded data removed]",
            "text/plain": [
              "<Figure size 1000x600 with 1 Axes>"
            ]
          },
          "metadata": {},
          "output_type": "display_data"
        }
      ],
      "source": [
        "plt.figure(figsize=(10,6))\n",
        "ax = sns.countplot(x='name', data=df_copy,order=df_copy['name'].value_counts().iloc[:20].index)\n",
        "ax.set_xticklabels(ax.get_xticklabels(), rotation=90)\n",
        "plt.title('Top 20 Count of Restaurants')"
      ]
    },
    {
      "attachments": {},
      "cell_type": "markdown",
      "metadata": {},
      "source": [
        "##### Conclusion : - Onesta has maximum number of branches"
      ]
    },
    {
      "cell_type": "code",
      "execution_count": 68,
      "metadata": {},
      "outputs": [
        {
          "data": {
            "text/plain": [
              "online_order\n",
              "Yes    15279\n",
              "No      6249\n",
              "Name: count, dtype: int64"
            ]
          },
          "execution_count": 68,
          "metadata": {},
          "output_type": "execute_result"
        }
      ],
      "source": [
        "df_copy.online_order.value_counts()"
      ]
    },
    {
      "cell_type": "code",
      "execution_count": 69,
      "metadata": {},
      "outputs": [
        {
          "data": {
            "text/plain": [
              "Text(0.5, 1.0, 'Restaurants accepting Online Orders')"
            ]
          },
          "execution_count": 69,
          "metadata": {},
          "output_type": "execute_result"
        },
        {
          "data": {
            "image/png": "[encoded data removed]",
            "text/plain": [
              "<Figure size 640x480 with 1 Axes>"
            ]
          },
          "metadata": {},
          "output_type": "display_data"
        }
      ],
      "source": [
        "ax = sns.countplot(x='online_order',data=df_copy)\n",
        "plt.title('Restaurants accepting Online Orders')"
      ]
    },
    {
      "attachments": {},
      "cell_type": "markdown",
      "metadata": {},
      "source": [
        "#### Conclusion : - Most of the restaurants accept Online Orders"
      ]
    },
    {
      "cell_type": "code",
      "execution_count": 70,
      "metadata": {},
      "outputs": [
        {
          "data": {
            "text/plain": [
              "Text(0.5, 1.0, 'Restaurants with Online Table booking Facility')"
            ]
          },
          "execution_count": 70,
          "metadata": {},
          "output_type": "execute_result"
        },
        {
          "data": {
            "image/png": "[encoded data removed]",
            "text/plain": [
              "<Figure size 640x480 with 1 Axes>"
            ]
          },
          "metadata": {},
          "output_type": "display_data"
        }
      ],
      "source": [
        "ax = sns.countplot(x='book_table',data=df_copy)\n",
        "plt.title(\"Restaurants with Online Table booking Facility\")"
      ]
    },
    {
      "attachments": {},
      "cell_type": "markdown",
      "metadata": {},
      "source": [
        "#### Conclusion : - Most of Restaurants don't have Online table booking facility"
      ]
    },
    {
      "cell_type": "code",
      "execution_count": 71,
      "metadata": {},
      "outputs": [
        {
          "data": {
            "text/plain": [
              "88"
            ]
          },
          "execution_count": 71,
          "metadata": {},
          "output_type": "execute_result"
        }
      ],
      "source": [
        "df_copy['location'].nunique()"
      ]
    },
    {
      "cell_type": "code",
      "execution_count": 72,
      "metadata": {},
      "outputs": [
        {
          "data": {
            "text/plain": [
              "Text(0.5, 1.0, 'Top 20 Locations with maximum Restaurants')"
            ]
          },
          "execution_count": 72,
          "metadata": {},
          "output_type": "execute_result"
        },
        {
          "data": {
            "image/png": "[encoded data removed]",
            "text/plain": [
              "<Figure size 640x480 with 1 Axes>"
            ]
          },
          "metadata": {},
          "output_type": "display_data"
        }
      ],
      "source": [
        "# There are total 88 unique locations so we only observe top 20\n",
        "ax = sns.countplot(x='location',data=df_copy,order=df_copy['location'].value_counts().iloc[:20].index)\n",
        "ax.set_xticklabels(ax.get_xticklabels(), rotation=90)\n",
        "plt.title('Top 20 Locations with maximum Restaurants')"
      ]
    },
    {
      "attachments": {},
      "cell_type": "markdown",
      "metadata": {},
      "source": [
        "#### Conclusion : - Maximum Resturants are located in Koramangala 5th block"
      ]
    },
    {
      "cell_type": "code",
      "execution_count": 73,
      "metadata": {},
      "outputs": [
        {
          "data": {
            "text/plain": [
              "73"
            ]
          },
          "execution_count": 73,
          "metadata": {},
          "output_type": "execute_result"
        }
      ],
      "source": [
        "df_copy['rest_type'].nunique()"
      ]
    },
    {
      "cell_type": "code",
      "execution_count": 74,
      "metadata": {},
      "outputs": [
        {
          "data": {
            "text/plain": [
              "rest_type\n",
              "Casual Dining                  6760\n",
              "Quick Bites                    4781\n",
              "Cafe                           2183\n",
              "Dessert Parlor                  983\n",
              "Casual Dining, Bar              953\n",
              "Delivery                        662\n",
              "Bar, Casual Dining              334\n",
              "Takeaway, Delivery              328\n",
              "Bar                             311\n",
              "Pub                             301\n",
              "Casual Dining, Cafe             291\n",
              "Lounge                          278\n",
              "Fine Dining                     272\n",
              "Pub, Casual Dining              223\n",
              "Food Court                      199\n",
              "Bakery                          156\n",
              "Cafe, Casual Dining             151\n",
              "Dessert Parlor, Cafe            140\n",
              "Microbrewery, Casual Dining     132\n",
              "Casual Dining, Pub              124\n",
              "Name: count, dtype: int64"
            ]
          },
          "execution_count": 74,
          "metadata": {},
          "output_type": "execute_result"
        }
      ],
      "source": [
        "df_copy['rest_type'].value_counts().head(20)"
      ]
    },
    {
      "cell_type": "code",
      "execution_count": 75,
      "metadata": {},
      "outputs": [
        {
          "data": {
            "text/plain": [
              "Text(0.5, 1.0, 'Top 20 Types of Restaurants')"
            ]
          },
          "execution_count": 75,
          "metadata": {},
          "output_type": "execute_result"
        },
        {
          "data": {
            "image/png": "[encoded data removed]",
            "text/plain": [
              "<Figure size 640x480 with 1 Axes>"
            ]
          },
          "metadata": {},
          "output_type": "display_data"
        }
      ],
      "source": [
        "ax = sns.countplot(x='rest_type',data=df_copy,order=df_copy['rest_type'].value_counts().iloc[:20].index)\n",
        "ax.set_xticklabels(ax.get_xticklabels(), rotation=90)\n",
        "plt.title('Top 20 Types of Restaurants')"
      ]
    },
    {
      "attachments": {},
      "cell_type": "markdown",
      "metadata": {},
      "source": [
        "#### Conclusion : - Maximum restaurants are Casual Dining Type followed by Quick Bites and cafe"
      ]
    },
    {
      "cell_type": "code",
      "execution_count": 76,
      "metadata": {},
      "outputs": [
        {
          "data": {
            "text/plain": [
              "0          Casual Dining\n",
              "1          Casual Dining\n",
              "2    Cafe, Casual Dining\n",
              "3            Quick Bites\n",
              "4          Casual Dining\n",
              "Name: rest_type, dtype: object"
            ]
          },
          "execution_count": 76,
          "metadata": {},
          "output_type": "execute_result"
        }
      ],
      "source": [
        "df_copy['rest_type'].head()"
      ]
    },
    {
      "cell_type": "code",
      "execution_count": 77,
      "metadata": {},
      "outputs": [],
      "source": [
        "df_copy['rest_type'] = df_copy['rest_type'].str.replace(\",\",\"\")\n",
        "df_copy['rest_type'] = df_copy['rest_type'].astype(str).apply(lambda x : ' '.join(sorted(x.split())))"
      ]
    },
    {
      "cell_type": "code",
      "execution_count": 78,
      "metadata": {},
      "outputs": [
        {
          "data": {
            "text/plain": [
              "rest_type\n",
              "Casual Dining        6760\n",
              "Bites Quick          4781\n",
              "Cafe                 2183\n",
              "Bar Casual Dining    1287\n",
              "Dessert Parlor        983\n",
              "Name: count, dtype: int64"
            ]
          },
          "execution_count": 78,
          "metadata": {},
          "output_type": "execute_result"
        }
      ],
      "source": [
        "df_copy['rest_type'].value_counts().head()"
      ]
    },
    {
      "cell_type": "code",
      "execution_count": 79,
      "metadata": {},
      "outputs": [
        {
          "data": {
            "text/plain": [
              "0    North Indian, Mughlai, Chinese\n",
              "1       Chinese, North Indian, Thai\n",
              "2            Cafe, Mexican, Italian\n",
              "3        South Indian, North Indian\n",
              "4          North Indian, Rajasthani\n",
              "Name: cuisines, dtype: object"
            ]
          },
          "execution_count": 79,
          "metadata": {},
          "output_type": "execute_result"
        }
      ],
      "source": [
        "df_copy['cuisines'].head()"
      ]
    },
    {
      "cell_type": "code",
      "execution_count": 80,
      "metadata": {},
      "outputs": [
        {
          "data": {
            "text/plain": [
              "cuisines\n",
              "Indian North                         1083\n",
              "Chinese Indian North                  769\n",
              "Chinese Indian Indian North South     402\n",
              "Indian South                          341\n",
              "Cream Desserts Ice                    311\n",
              "Name: count, dtype: int64"
            ]
          },
          "execution_count": 80,
          "metadata": {},
          "output_type": "execute_result"
        }
      ],
      "source": [
        "df_copy['cuisines'] = df_copy['cuisines'].str.replace(\",\",\"\")\n",
        "df_copy['cuisines'] = df_copy['cuisines'].astype(str).apply(lambda x: ' '.join(sorted(x.split())))\n",
        "df_copy['cuisines'].value_counts().head()"
      ]
    },
    {
      "cell_type": "code",
      "execution_count": 81,
      "metadata": {},
      "outputs": [
        {
          "data": {
            "text/plain": [
              "average cost for 2\n",
              "400      2260\n",
              "500      2117\n",
              "600      1979\n",
              "800      1557\n",
              "300      1521\n",
              "1,000    1149\n",
              "700      1110\n",
              "1,200     853\n",
              "1,500     829\n",
              "200       795\n",
              "450       659\n",
              "250       644\n",
              "750       612\n",
              "650       591\n",
              "350       504\n",
              "900       501\n",
              "1,300     477\n",
              "1,100     440\n",
              "1,400     434\n",
              "550       397\n",
              "Name: count, dtype: int64"
            ]
          },
          "execution_count": 81,
          "metadata": {},
          "output_type": "execute_result"
        }
      ],
      "source": [
        "df_copy['average cost for 2'].value_counts().head(20)"
      ]
    },
    {
      "cell_type": "code",
      "execution_count": 82,
      "metadata": {},
      "outputs": [
        {
          "data": {
            "text/plain": [
              "Text(0.5, 1.0, 'Top 20 Restaurants with Average Cost for 2')"
            ]
          },
          "execution_count": 82,
          "metadata": {},
          "output_type": "execute_result"
        },
        {
          "data": {
            "image/png": "[encoded data removed]",
            "text/plain": [
              "<Figure size 640x480 with 1 Axes>"
            ]
          },
          "metadata": {},
          "output_type": "display_data"
        }
      ],
      "source": [
        "explode = (0.1,0,0,0,0,0,0,0,0,0)\n",
        "ax = df_copy['average cost for 2'].value_counts().iloc[:10]\n",
        "ax.plot(kind='pie',autopct='%1.1f%%',explode=explode)\n",
        "plt.title('Top 20 Restaurants with Average Cost for 2')"
      ]
    },
    {
      "cell_type": "code",
      "execution_count": 83,
      "metadata": {},
      "outputs": [
        {
          "data": {
            "text/html": [
              "<div>\n",
              "<style scoped>\n",
              "    .dataframe tbody tr th:only-of-type {\n",
              "        vertical-align: middle;\n",
              "    }\n",
              "\n",
              "    .dataframe tbody tr th {\n",
              "        vertical-align: top;\n",
              "    }\n",
              "\n",
              "    .dataframe thead th {\n",
              "        text-align: right;\n",
              "    }\n",
              "</style>\n",
              "<table border=\"1\" class=\"dataframe\">\n",
              "  <thead>\n",
              "    <tr style=\"text-align: right;\">\n",
              "      <th></th>\n",
              "      <th>name</th>\n",
              "      <th>online_order</th>\n",
              "      <th>book_table</th>\n",
              "      <th>rate</th>\n",
              "      <th>votes</th>\n",
              "      <th>location</th>\n",
              "      <th>rest_type</th>\n",
              "      <th>dish_liked</th>\n",
              "      <th>cuisines</th>\n",
              "      <th>average cost for 2</th>\n",
              "      <th>reviews_list</th>\n",
              "      <th>menu_item</th>\n",
              "      <th>listed_in(type)</th>\n",
              "    </tr>\n",
              "  </thead>\n",
              "  <tbody>\n",
              "    <tr>\n",
              "      <th>0</th>\n",
              "      <td>Jalsa</td>\n",
              "      <td>Yes</td>\n",
              "      <td>Yes</td>\n",
              "      <td>4.1</td>\n",
              "      <td>775</td>\n",
              "      <td>Banashankari</td>\n",
              "      <td>Casual Dining</td>\n",
              "      <td>Pasta, Lunch Buffet, Masala Papad, Paneer Laja...</td>\n",
              "      <td>Chinese Indian Mughlai North</td>\n",
              "      <td>800</td>\n",
              "      <td>((Rated 4.0, RATED\\n  A beautiful place to din...</td>\n",
              "      <td>([, ])</td>\n",
              "      <td>Buffet</td>\n",
              "    </tr>\n",
              "    <tr>\n",
              "      <th>1</th>\n",
              "      <td>Spice Elephant</td>\n",
              "      <td>Yes</td>\n",
              "      <td>No</td>\n",
              "      <td>4.1</td>\n",
              "      <td>787</td>\n",
              "      <td>Banashankari</td>\n",
              "      <td>Casual Dining</td>\n",
              "      <td>Momos, Lunch Buffet, Chocolate Nirvana, Thai G...</td>\n",
              "      <td>Chinese Indian North Thai</td>\n",
              "      <td>800</td>\n",
              "      <td>((Rated 4.0, RATED\\n  Had been here for dinner...</td>\n",
              "      <td>([, ])</td>\n",
              "      <td>Buffet</td>\n",
              "    </tr>\n",
              "    <tr>\n",
              "      <th>2</th>\n",
              "      <td>San Churro Cafe</td>\n",
              "      <td>Yes</td>\n",
              "      <td>No</td>\n",
              "      <td>3.8</td>\n",
              "      <td>918</td>\n",
              "      <td>Banashankari</td>\n",
              "      <td>Cafe Casual Dining</td>\n",
              "      <td>Churros, Cannelloni, Minestrone Soup, Hot Choc...</td>\n",
              "      <td>Cafe Italian Mexican</td>\n",
              "      <td>800</td>\n",
              "      <td>((Rated 3.0, RATED\\n  Ambience is not that goo...</td>\n",
              "      <td>([, ])</td>\n",
              "      <td>Buffet</td>\n",
              "    </tr>\n",
              "    <tr>\n",
              "      <th>3</th>\n",
              "      <td>Addhuri Udupi Bhojana</td>\n",
              "      <td>No</td>\n",
              "      <td>No</td>\n",
              "      <td>3.7</td>\n",
              "      <td>88</td>\n",
              "      <td>Banashankari</td>\n",
              "      <td>Bites Quick</td>\n",
              "      <td>Masala Dosa</td>\n",
              "      <td>Indian Indian North South</td>\n",
              "      <td>300</td>\n",
              "      <td>((Rated 4.0, RATED\\n  Great food and proper Ka...</td>\n",
              "      <td>([, ])</td>\n",
              "      <td>Buffet</td>\n",
              "    </tr>\n",
              "    <tr>\n",
              "      <th>4</th>\n",
              "      <td>Grand Village</td>\n",
              "      <td>No</td>\n",
              "      <td>No</td>\n",
              "      <td>3.8</td>\n",
              "      <td>166</td>\n",
              "      <td>Basavanagudi</td>\n",
              "      <td>Casual Dining</td>\n",
              "      <td>Panipuri, Gol Gappe</td>\n",
              "      <td>Indian North Rajasthani</td>\n",
              "      <td>600</td>\n",
              "      <td>((Rated 4.0, RATED\\n  Very good restaurant in ...</td>\n",
              "      <td>([, ])</td>\n",
              "      <td>Buffet</td>\n",
              "    </tr>\n",
              "  </tbody>\n",
              "</table>\n",
              "</div>"
            ],
            "text/plain": [
              "                    name online_order book_table  rate  votes      location   \n",
              "0                  Jalsa          Yes        Yes   4.1    775  Banashankari  \\\n",
              "1         Spice Elephant          Yes         No   4.1    787  Banashankari   \n",
              "2        San Churro Cafe          Yes         No   3.8    918  Banashankari   \n",
              "3  Addhuri Udupi Bhojana           No         No   3.7     88  Banashankari   \n",
              "4          Grand Village           No         No   3.8    166  Basavanagudi   \n",
              "\n",
              "            rest_type                                         dish_liked   \n",
              "0       Casual Dining  Pasta, Lunch Buffet, Masala Papad, Paneer Laja...  \\\n",
              "1       Casual Dining  Momos, Lunch Buffet, Chocolate Nirvana, Thai G...   \n",
              "2  Cafe Casual Dining  Churros, Cannelloni, Minestrone Soup, Hot Choc...   \n",
              "3         Bites Quick                                        Masala Dosa   \n",
              "4       Casual Dining                                Panipuri, Gol Gappe   \n",
              "\n",
              "                       cuisines average cost for 2   \n",
              "0  Chinese Indian Mughlai North                800  \\\n",
              "1     Chinese Indian North Thai                800   \n",
              "2          Cafe Italian Mexican                800   \n",
              "3     Indian Indian North South                300   \n",
              "4       Indian North Rajasthani                600   \n",
              "\n",
              "                                        reviews_list menu_item listed_in(type)  \n",
              "0  ((Rated 4.0, RATED\\n  A beautiful place to din...    ([, ])          Buffet  \n",
              "1  ((Rated 4.0, RATED\\n  Had been here for dinner...    ([, ])          Buffet  \n",
              "2  ((Rated 3.0, RATED\\n  Ambience is not that goo...    ([, ])          Buffet  \n",
              "3  ((Rated 4.0, RATED\\n  Great food and proper Ka...    ([, ])          Buffet  \n",
              "4  ((Rated 4.0, RATED\\n  Very good restaurant in ...    ([, ])          Buffet  "
            ]
          },
          "execution_count": 83,
          "metadata": {},
          "output_type": "execute_result"
        }
      ],
      "source": [
        "df_copy.head()"
      ]
    },
    {
      "cell_type": "code",
      "execution_count": 84,
      "metadata": {},
      "outputs": [],
      "source": [
        "df_copy.drop(columns=['dish_liked','reviews_list','menu_item','listed_in(type)'], inplace  =True)"
      ]
    },
    {
      "cell_type": "code",
      "execution_count": 85,
      "metadata": {},
      "outputs": [
        {
          "data": {
            "text/html": [
              "<div>\n",
              "<style scoped>\n",
              "    .dataframe tbody tr th:only-of-type {\n",
              "        vertical-align: middle;\n",
              "    }\n",
              "\n",
              "    .dataframe tbody tr th {\n",
              "        vertical-align: top;\n",
              "    }\n",
              "\n",
              "    .dataframe thead th {\n",
              "        text-align: right;\n",
              "    }\n",
              "</style>\n",
              "<table border=\"1\" class=\"dataframe\">\n",
              "  <thead>\n",
              "    <tr style=\"text-align: right;\">\n",
              "      <th></th>\n",
              "      <th>name</th>\n",
              "      <th>online_order</th>\n",
              "      <th>book_table</th>\n",
              "      <th>rate</th>\n",
              "      <th>votes</th>\n",
              "      <th>location</th>\n",
              "      <th>rest_type</th>\n",
              "      <th>cuisines</th>\n",
              "      <th>average cost for 2</th>\n",
              "    </tr>\n",
              "  </thead>\n",
              "  <tbody>\n",
              "    <tr>\n",
              "      <th>0</th>\n",
              "      <td>Jalsa</td>\n",
              "      <td>Yes</td>\n",
              "      <td>Yes</td>\n",
              "      <td>4.1</td>\n",
              "      <td>775</td>\n",
              "      <td>Banashankari</td>\n",
              "      <td>Casual Dining</td>\n",
              "      <td>Chinese Indian Mughlai North</td>\n",
              "      <td>800</td>\n",
              "    </tr>\n",
              "    <tr>\n",
              "      <th>1</th>\n",
              "      <td>Spice Elephant</td>\n",
              "      <td>Yes</td>\n",
              "      <td>No</td>\n",
              "      <td>4.1</td>\n",
              "      <td>787</td>\n",
              "      <td>Banashankari</td>\n",
              "      <td>Casual Dining</td>\n",
              "      <td>Chinese Indian North Thai</td>\n",
              "      <td>800</td>\n",
              "    </tr>\n",
              "    <tr>\n",
              "      <th>2</th>\n",
              "      <td>San Churro Cafe</td>\n",
              "      <td>Yes</td>\n",
              "      <td>No</td>\n",
              "      <td>3.8</td>\n",
              "      <td>918</td>\n",
              "      <td>Banashankari</td>\n",
              "      <td>Cafe Casual Dining</td>\n",
              "      <td>Cafe Italian Mexican</td>\n",
              "      <td>800</td>\n",
              "    </tr>\n",
              "    <tr>\n",
              "      <th>3</th>\n",
              "      <td>Addhuri Udupi Bhojana</td>\n",
              "      <td>No</td>\n",
              "      <td>No</td>\n",
              "      <td>3.7</td>\n",
              "      <td>88</td>\n",
              "      <td>Banashankari</td>\n",
              "      <td>Bites Quick</td>\n",
              "      <td>Indian Indian North South</td>\n",
              "      <td>300</td>\n",
              "    </tr>\n",
              "    <tr>\n",
              "      <th>4</th>\n",
              "      <td>Grand Village</td>\n",
              "      <td>No</td>\n",
              "      <td>No</td>\n",
              "      <td>3.8</td>\n",
              "      <td>166</td>\n",
              "      <td>Basavanagudi</td>\n",
              "      <td>Casual Dining</td>\n",
              "      <td>Indian North Rajasthani</td>\n",
              "      <td>600</td>\n",
              "    </tr>\n",
              "  </tbody>\n",
              "</table>\n",
              "</div>"
            ],
            "text/plain": [
              "                    name online_order book_table  rate  votes      location   \n",
              "0                  Jalsa          Yes        Yes   4.1    775  Banashankari  \\\n",
              "1         Spice Elephant          Yes         No   4.1    787  Banashankari   \n",
              "2        San Churro Cafe          Yes         No   3.8    918  Banashankari   \n",
              "3  Addhuri Udupi Bhojana           No         No   3.7     88  Banashankari   \n",
              "4          Grand Village           No         No   3.8    166  Basavanagudi   \n",
              "\n",
              "            rest_type                      cuisines average cost for 2  \n",
              "0       Casual Dining  Chinese Indian Mughlai North                800  \n",
              "1       Casual Dining     Chinese Indian North Thai                800  \n",
              "2  Cafe Casual Dining          Cafe Italian Mexican                800  \n",
              "3         Bites Quick     Indian Indian North South                300  \n",
              "4       Casual Dining       Indian North Rajasthani                600  "
            ]
          },
          "execution_count": 85,
          "metadata": {},
          "output_type": "execute_result"
        }
      ],
      "source": [
        "df_copy.head()"
      ]
    },
    {
      "cell_type": "code",
      "execution_count": 86,
      "metadata": {},
      "outputs": [
        {
          "data": {
            "text/plain": [
              "array(['800', '300', '600', '700', '550', '500', '450', '650', '400',\n",
              "       '750', '200', '850', '1,200', '150', '350', '250', '1,500',\n",
              "       '1,300', '1,000', '100', '900', '1,100', '1,600', '950', '230',\n",
              "       '1,700', '1,400', '1,350', '2,200', '2,000', '1,800', '1,900',\n",
              "       '180', '330', '2,500', '2,100', '3,000', '2,800', '3,400', '40',\n",
              "       '1,250', '3,500', '4,000', '2,400', '1,450', '3,200', '6,000',\n",
              "       '1,050', '4,100', '2,300', '120', '2,600', '5,000', '3,700',\n",
              "       '1,650', '2,700', '4,500'], dtype=object)"
            ]
          },
          "execution_count": 86,
          "metadata": {},
          "output_type": "execute_result"
        }
      ],
      "source": [
        "df_copy['average cost for 2'].unique()"
      ]
    },
    {
      "cell_type": "code",
      "execution_count": 87,
      "metadata": {},
      "outputs": [],
      "source": [
        "#It appears that Average for 2 column has comma seperated values. We need to remove comma and convert it to float\n",
        "df_copy['average cost for 2'] = df_copy['average cost for 2'].str.replace(\",\",\"\")\n",
        "df_copy['average cost for 2'] = df_copy['average cost for 2'].astype('float')"
      ]
    },
    {
      "cell_type": "code",
      "execution_count": 88,
      "metadata": {},
      "outputs": [],
      "source": [
        "# We can export this clean file to perform model training\n",
        "import os\n",
        "#clean_file_path = os.path.join('notebooks','data','clean_data.csv')\n",
        "df_copy.to_csv('data/clean_data.csv',index=False)"
      ]
    },
    {
      "cell_type": "code",
      "execution_count": 89,
      "metadata": {},
      "outputs": [
        {
          "data": {
            "text/html": [
              "<div>\n",
              "<style scoped>\n",
              "    .dataframe tbody tr th:only-of-type {\n",
              "        vertical-align: middle;\n",
              "    }\n",
              "\n",
              "    .dataframe tbody tr th {\n",
              "        vertical-align: top;\n",
              "    }\n",
              "\n",
              "    .dataframe thead th {\n",
              "        text-align: right;\n",
              "    }\n",
              "</style>\n",
              "<table border=\"1\" class=\"dataframe\">\n",
              "  <thead>\n",
              "    <tr style=\"text-align: right;\">\n",
              "      <th></th>\n",
              "      <th>name</th>\n",
              "      <th>online_order</th>\n",
              "      <th>book_table</th>\n",
              "      <th>rate</th>\n",
              "      <th>votes</th>\n",
              "      <th>location</th>\n",
              "      <th>rest_type</th>\n",
              "      <th>cuisines</th>\n",
              "      <th>average cost for 2</th>\n",
              "    </tr>\n",
              "  </thead>\n",
              "  <tbody>\n",
              "    <tr>\n",
              "      <th>0</th>\n",
              "      <td>Jalsa</td>\n",
              "      <td>1</td>\n",
              "      <td>1</td>\n",
              "      <td>4.1</td>\n",
              "      <td>775</td>\n",
              "      <td>Banashankari</td>\n",
              "      <td>Casual Dining</td>\n",
              "      <td>Chinese Indian Mughlai North</td>\n",
              "      <td>800.0</td>\n",
              "    </tr>\n",
              "    <tr>\n",
              "      <th>1</th>\n",
              "      <td>Spice Elephant</td>\n",
              "      <td>1</td>\n",
              "      <td>0</td>\n",
              "      <td>4.1</td>\n",
              "      <td>787</td>\n",
              "      <td>Banashankari</td>\n",
              "      <td>Casual Dining</td>\n",
              "      <td>Chinese Indian North Thai</td>\n",
              "      <td>800.0</td>\n",
              "    </tr>\n",
              "    <tr>\n",
              "      <th>2</th>\n",
              "      <td>San Churro Cafe</td>\n",
              "      <td>1</td>\n",
              "      <td>0</td>\n",
              "      <td>3.8</td>\n",
              "      <td>918</td>\n",
              "      <td>Banashankari</td>\n",
              "      <td>Cafe Casual Dining</td>\n",
              "      <td>Cafe Italian Mexican</td>\n",
              "      <td>800.0</td>\n",
              "    </tr>\n",
              "    <tr>\n",
              "      <th>3</th>\n",
              "      <td>Addhuri Udupi Bhojana</td>\n",
              "      <td>0</td>\n",
              "      <td>0</td>\n",
              "      <td>3.7</td>\n",
              "      <td>88</td>\n",
              "      <td>Banashankari</td>\n",
              "      <td>Bites Quick</td>\n",
              "      <td>Indian Indian North South</td>\n",
              "      <td>300.0</td>\n",
              "    </tr>\n",
              "    <tr>\n",
              "      <th>4</th>\n",
              "      <td>Grand Village</td>\n",
              "      <td>0</td>\n",
              "      <td>0</td>\n",
              "      <td>3.8</td>\n",
              "      <td>166</td>\n",
              "      <td>Basavanagudi</td>\n",
              "      <td>Casual Dining</td>\n",
              "      <td>Indian North Rajasthani</td>\n",
              "      <td>600.0</td>\n",
              "    </tr>\n",
              "  </tbody>\n",
              "</table>\n",
              "</div>"
            ],
            "text/plain": [
              "                    name  online_order  book_table  rate  votes      location   \n",
              "0                  Jalsa             1           1   4.1    775  Banashankari  \\\n",
              "1         Spice Elephant             1           0   4.1    787  Banashankari   \n",
              "2        San Churro Cafe             1           0   3.8    918  Banashankari   \n",
              "3  Addhuri Udupi Bhojana             0           0   3.7     88  Banashankari   \n",
              "4          Grand Village             0           0   3.8    166  Basavanagudi   \n",
              "\n",
              "            rest_type                      cuisines  average cost for 2  \n",
              "0       Casual Dining  Chinese Indian Mughlai North               800.0  \n",
              "1       Casual Dining     Chinese Indian North Thai               800.0  \n",
              "2  Cafe Casual Dining          Cafe Italian Mexican               800.0  \n",
              "3         Bites Quick     Indian Indian North South               300.0  \n",
              "4       Casual Dining       Indian North Rajasthani               600.0  "
            ]
          },
          "execution_count": 89,
          "metadata": {},
          "output_type": "execute_result"
        }
      ],
      "source": [
        "df_copy['online_order'] = pd.get_dummies(df_copy.online_order,drop_first=True).astype(int)\n",
        "df_copy['book_table'] = pd.get_dummies(df_copy.book_table,drop_first=True).astype(int)\n",
        "df_copy.head()"
      ]
    },
    {
      "cell_type": "code",
      "execution_count": 90,
      "metadata": {},
      "outputs": [
        {
          "data": {
            "text/html": [
              "<div>\n",
              "<style scoped>\n",
              "    .dataframe tbody tr th:only-of-type {\n",
              "        vertical-align: middle;\n",
              "    }\n",
              "\n",
              "    .dataframe tbody tr th {\n",
              "        vertical-align: top;\n",
              "    }\n",
              "\n",
              "    .dataframe thead th {\n",
              "        text-align: right;\n",
              "    }\n",
              "</style>\n",
              "<table border=\"1\" class=\"dataframe\">\n",
              "  <thead>\n",
              "    <tr style=\"text-align: right;\">\n",
              "      <th></th>\n",
              "      <th>name</th>\n",
              "      <th>online_order</th>\n",
              "      <th>book_table</th>\n",
              "      <th>rate</th>\n",
              "      <th>votes</th>\n",
              "      <th>location</th>\n",
              "      <th>rest_type</th>\n",
              "      <th>cuisines</th>\n",
              "      <th>average cost for 2</th>\n",
              "    </tr>\n",
              "  </thead>\n",
              "  <tbody>\n",
              "    <tr>\n",
              "      <th>0</th>\n",
              "      <td>Jalsa</td>\n",
              "      <td>1</td>\n",
              "      <td>1</td>\n",
              "      <td>4.1</td>\n",
              "      <td>775</td>\n",
              "      <td>Banashankari</td>\n",
              "      <td>Casual Dining</td>\n",
              "      <td>Chinese Indian Mughlai North</td>\n",
              "      <td>800.0</td>\n",
              "    </tr>\n",
              "    <tr>\n",
              "      <th>1</th>\n",
              "      <td>Spice Elephant</td>\n",
              "      <td>1</td>\n",
              "      <td>0</td>\n",
              "      <td>4.1</td>\n",
              "      <td>787</td>\n",
              "      <td>Banashankari</td>\n",
              "      <td>Casual Dining</td>\n",
              "      <td>Chinese Indian North Thai</td>\n",
              "      <td>800.0</td>\n",
              "    </tr>\n",
              "    <tr>\n",
              "      <th>2</th>\n",
              "      <td>San Churro Cafe</td>\n",
              "      <td>1</td>\n",
              "      <td>0</td>\n",
              "      <td>3.8</td>\n",
              "      <td>918</td>\n",
              "      <td>Banashankari</td>\n",
              "      <td>Cafe Casual Dining</td>\n",
              "      <td>Cafe Italian Mexican</td>\n",
              "      <td>800.0</td>\n",
              "    </tr>\n",
              "    <tr>\n",
              "      <th>3</th>\n",
              "      <td>Addhuri Udupi Bhojana</td>\n",
              "      <td>0</td>\n",
              "      <td>0</td>\n",
              "      <td>3.7</td>\n",
              "      <td>88</td>\n",
              "      <td>Banashankari</td>\n",
              "      <td>Bites Quick</td>\n",
              "      <td>Indian Indian North South</td>\n",
              "      <td>300.0</td>\n",
              "    </tr>\n",
              "    <tr>\n",
              "      <th>4</th>\n",
              "      <td>Grand Village</td>\n",
              "      <td>0</td>\n",
              "      <td>0</td>\n",
              "      <td>3.8</td>\n",
              "      <td>166</td>\n",
              "      <td>Basavanagudi</td>\n",
              "      <td>Casual Dining</td>\n",
              "      <td>Indian North Rajasthani</td>\n",
              "      <td>600.0</td>\n",
              "    </tr>\n",
              "  </tbody>\n",
              "</table>\n",
              "</div>"
            ],
            "text/plain": [
              "                    name  online_order  book_table  rate  votes      location   \n",
              "0                  Jalsa             1           1   4.1    775  Banashankari  \\\n",
              "1         Spice Elephant             1           0   4.1    787  Banashankari   \n",
              "2        San Churro Cafe             1           0   3.8    918  Banashankari   \n",
              "3  Addhuri Udupi Bhojana             0           0   3.7     88  Banashankari   \n",
              "4          Grand Village             0           0   3.8    166  Basavanagudi   \n",
              "\n",
              "            rest_type                      cuisines  average cost for 2  \n",
              "0       Casual Dining  Chinese Indian Mughlai North               800.0  \n",
              "1       Casual Dining     Chinese Indian North Thai               800.0  \n",
              "2  Cafe Casual Dining          Cafe Italian Mexican               800.0  \n",
              "3         Bites Quick     Indian Indian North South               300.0  \n",
              "4       Casual Dining       Indian North Rajasthani               600.0  "
            ]
          },
          "execution_count": 90,
          "metadata": {},
          "output_type": "execute_result"
        }
      ],
      "source": [
        "df_copy.head()"
      ]
    },
    {
      "cell_type": "code",
      "execution_count": 91,
      "metadata": {},
      "outputs": [
        {
          "name": "stdout",
          "output_type": "stream",
          "text": [
            "<class 'pandas.core.frame.DataFrame'>\n",
            "Index: 21528 entries, 0 to 51715\n",
            "Data columns (total 9 columns):\n",
            " #   Column              Non-Null Count  Dtype  \n",
            "---  ------              --------------  -----  \n",
            " 0   name                21528 non-null  object \n",
            " 1   online_order        21528 non-null  int32  \n",
            " 2   book_table          21528 non-null  int32  \n",
            " 3   rate                21528 non-null  float64\n",
            " 4   votes               21528 non-null  int64  \n",
            " 5   location            21528 non-null  object \n",
            " 6   rest_type           21528 non-null  object \n",
            " 7   cuisines            21528 non-null  object \n",
            " 8   average cost for 2  21528 non-null  float64\n",
            "dtypes: float64(2), int32(2), int64(1), object(4)\n",
            "memory usage: 1.5+ MB\n"
          ]
        }
      ],
      "source": [
        "df_copy.info()"
      ]
    },
    {
      "attachments": {},
      "cell_type": "markdown",
      "metadata": {},
      "source": [
        "#### Encoding"
      ]
    },
    {
      "cell_type": "code",
      "execution_count": 92,
      "metadata": {},
      "outputs": [],
      "source": [
        "# Since there are categorical Variables with no definite order or ranking we'll use LabelEncoder"
      ]
    },
    {
      "cell_type": "code",
      "execution_count": 93,
      "metadata": {},
      "outputs": [],
      "source": [
        "from sklearn.preprocessing import LabelEncoder\n",
        "le = LabelEncoder()\n",
        "df_copy['location'] = le.fit_transform(df_copy['location'])\n",
        "df_copy['rest_type'] = le.fit_transform(df_copy['rest_type'])\n",
        "df_copy['cuisines'] = le.fit_transform(df_copy['cuisines'])\n"
      ]
    },
    {
      "cell_type": "code",
      "execution_count": 94,
      "metadata": {},
      "outputs": [
        {
          "data": {
            "text/html": [
              "<div>\n",
              "<style scoped>\n",
              "    .dataframe tbody tr th:only-of-type {\n",
              "        vertical-align: middle;\n",
              "    }\n",
              "\n",
              "    .dataframe tbody tr th {\n",
              "        vertical-align: top;\n",
              "    }\n",
              "\n",
              "    .dataframe thead th {\n",
              "        text-align: right;\n",
              "    }\n",
              "</style>\n",
              "<table border=\"1\" class=\"dataframe\">\n",
              "  <thead>\n",
              "    <tr style=\"text-align: right;\">\n",
              "      <th></th>\n",
              "      <th>name</th>\n",
              "      <th>online_order</th>\n",
              "      <th>book_table</th>\n",
              "      <th>rate</th>\n",
              "      <th>votes</th>\n",
              "      <th>location</th>\n",
              "      <th>rest_type</th>\n",
              "      <th>cuisines</th>\n",
              "      <th>average cost for 2</th>\n",
              "    </tr>\n",
              "  </thead>\n",
              "  <tbody>\n",
              "    <tr>\n",
              "      <th>0</th>\n",
              "      <td>Jalsa</td>\n",
              "      <td>1</td>\n",
              "      <td>1</td>\n",
              "      <td>4.1</td>\n",
              "      <td>775</td>\n",
              "      <td>1</td>\n",
              "      <td>29</td>\n",
              "      <td>955</td>\n",
              "      <td>800.0</td>\n",
              "    </tr>\n",
              "    <tr>\n",
              "      <th>1</th>\n",
              "      <td>Spice Elephant</td>\n",
              "      <td>1</td>\n",
              "      <td>0</td>\n",
              "      <td>4.1</td>\n",
              "      <td>787</td>\n",
              "      <td>1</td>\n",
              "      <td>29</td>\n",
              "      <td>967</td>\n",
              "      <td>800.0</td>\n",
              "    </tr>\n",
              "    <tr>\n",
              "      <th>2</th>\n",
              "      <td>San Churro Cafe</td>\n",
              "      <td>1</td>\n",
              "      <td>0</td>\n",
              "      <td>3.8</td>\n",
              "      <td>918</td>\n",
              "      <td>1</td>\n",
              "      <td>22</td>\n",
              "      <td>810</td>\n",
              "      <td>800.0</td>\n",
              "    </tr>\n",
              "    <tr>\n",
              "      <th>3</th>\n",
              "      <td>Addhuri Udupi Bhojana</td>\n",
              "      <td>0</td>\n",
              "      <td>0</td>\n",
              "      <td>3.7</td>\n",
              "      <td>88</td>\n",
              "      <td>1</td>\n",
              "      <td>19</td>\n",
              "      <td>1208</td>\n",
              "      <td>300.0</td>\n",
              "    </tr>\n",
              "    <tr>\n",
              "      <th>4</th>\n",
              "      <td>Grand Village</td>\n",
              "      <td>0</td>\n",
              "      <td>0</td>\n",
              "      <td>3.8</td>\n",
              "      <td>166</td>\n",
              "      <td>4</td>\n",
              "      <td>29</td>\n",
              "      <td>1245</td>\n",
              "      <td>600.0</td>\n",
              "    </tr>\n",
              "  </tbody>\n",
              "</table>\n",
              "</div>"
            ],
            "text/plain": [
              "                    name  online_order  book_table  rate  votes  location   \n",
              "0                  Jalsa             1           1   4.1    775         1  \\\n",
              "1         Spice Elephant             1           0   4.1    787         1   \n",
              "2        San Churro Cafe             1           0   3.8    918         1   \n",
              "3  Addhuri Udupi Bhojana             0           0   3.7     88         1   \n",
              "4          Grand Village             0           0   3.8    166         4   \n",
              "\n",
              "   rest_type  cuisines  average cost for 2  \n",
              "0         29       955               800.0  \n",
              "1         29       967               800.0  \n",
              "2         22       810               800.0  \n",
              "3         19      1208               300.0  \n",
              "4         29      1245               600.0  "
            ]
          },
          "execution_count": 94,
          "metadata": {},
          "output_type": "execute_result"
        }
      ],
      "source": [
        "df_copy.head()"
      ]
    },
    {
      "cell_type": "code",
      "execution_count": 95,
      "metadata": {},
      "outputs": [
        {
          "name": "stdout",
          "output_type": "stream",
          "text": [
            "<class 'pandas.core.frame.DataFrame'>\n",
            "Index: 21528 entries, 0 to 51715\n",
            "Data columns (total 9 columns):\n",
            " #   Column              Non-Null Count  Dtype  \n",
            "---  ------              --------------  -----  \n",
            " 0   name                21528 non-null  object \n",
            " 1   online_order        21528 non-null  int32  \n",
            " 2   book_table          21528 non-null  int32  \n",
            " 3   rate                21528 non-null  float64\n",
            " 4   votes               21528 non-null  int64  \n",
            " 5   location            21528 non-null  int32  \n",
            " 6   rest_type           21528 non-null  int32  \n",
            " 7   cuisines            21528 non-null  int32  \n",
            " 8   average cost for 2  21528 non-null  float64\n",
            "dtypes: float64(2), int32(5), int64(1), object(1)\n",
            "memory usage: 1.2+ MB\n"
          ]
        }
      ],
      "source": [
        "df_copy.info()"
      ]
    },
    {
      "cell_type": "code",
      "execution_count": 96,
      "metadata": {},
      "outputs": [
        {
          "name": "stdout",
          "output_type": "stream",
          "text": [
            "<class 'pandas.core.frame.DataFrame'>\n",
            "Index: 21528 entries, 0 to 51715\n",
            "Data columns (total 9 columns):\n",
            " #   Column              Non-Null Count  Dtype  \n",
            "---  ------              --------------  -----  \n",
            " 0   name                21528 non-null  object \n",
            " 1   online_order        21528 non-null  int32  \n",
            " 2   book_table          21528 non-null  int32  \n",
            " 3   rate                21528 non-null  float64\n",
            " 4   votes               21528 non-null  int64  \n",
            " 5   location            21528 non-null  int32  \n",
            " 6   rest_type           21528 non-null  int32  \n",
            " 7   cuisines            21528 non-null  int32  \n",
            " 8   average cost for 2  21528 non-null  float64\n",
            "dtypes: float64(2), int32(5), int64(1), object(1)\n",
            "memory usage: 1.2+ MB\n"
          ]
        }
      ],
      "source": [
        "df_copy.info()"
      ]
    },
    {
      "attachments": {},
      "cell_type": "markdown",
      "metadata": {},
      "source": [
        "#### Correlation"
      ]
    },
    {
      "cell_type": "code",
      "execution_count": 97,
      "metadata": {},
      "outputs": [],
      "source": [
        "df_copy.drop(columns=['name'],inplace=True)"
      ]
    },
    {
      "cell_type": "code",
      "execution_count": 98,
      "metadata": {},
      "outputs": [
        {
          "data": {
            "text/html": [
              "<div>\n",
              "<style scoped>\n",
              "    .dataframe tbody tr th:only-of-type {\n",
              "        vertical-align: middle;\n",
              "    }\n",
              "\n",
              "    .dataframe tbody tr th {\n",
              "        vertical-align: top;\n",
              "    }\n",
              "\n",
              "    .dataframe thead th {\n",
              "        text-align: right;\n",
              "    }\n",
              "</style>\n",
              "<table border=\"1\" class=\"dataframe\">\n",
              "  <thead>\n",
              "    <tr style=\"text-align: right;\">\n",
              "      <th></th>\n",
              "      <th>online_order</th>\n",
              "      <th>book_table</th>\n",
              "      <th>rate</th>\n",
              "      <th>votes</th>\n",
              "      <th>location</th>\n",
              "      <th>rest_type</th>\n",
              "      <th>cuisines</th>\n",
              "      <th>average cost for 2</th>\n",
              "    </tr>\n",
              "  </thead>\n",
              "  <tbody>\n",
              "    <tr>\n",
              "      <th>0</th>\n",
              "      <td>1</td>\n",
              "      <td>1</td>\n",
              "      <td>4.1</td>\n",
              "      <td>775</td>\n",
              "      <td>1</td>\n",
              "      <td>29</td>\n",
              "      <td>955</td>\n",
              "      <td>800.0</td>\n",
              "    </tr>\n",
              "    <tr>\n",
              "      <th>1</th>\n",
              "      <td>1</td>\n",
              "      <td>0</td>\n",
              "      <td>4.1</td>\n",
              "      <td>787</td>\n",
              "      <td>1</td>\n",
              "      <td>29</td>\n",
              "      <td>967</td>\n",
              "      <td>800.0</td>\n",
              "    </tr>\n",
              "    <tr>\n",
              "      <th>2</th>\n",
              "      <td>1</td>\n",
              "      <td>0</td>\n",
              "      <td>3.8</td>\n",
              "      <td>918</td>\n",
              "      <td>1</td>\n",
              "      <td>22</td>\n",
              "      <td>810</td>\n",
              "      <td>800.0</td>\n",
              "    </tr>\n",
              "    <tr>\n",
              "      <th>3</th>\n",
              "      <td>0</td>\n",
              "      <td>0</td>\n",
              "      <td>3.7</td>\n",
              "      <td>88</td>\n",
              "      <td>1</td>\n",
              "      <td>19</td>\n",
              "      <td>1208</td>\n",
              "      <td>300.0</td>\n",
              "    </tr>\n",
              "    <tr>\n",
              "      <th>4</th>\n",
              "      <td>0</td>\n",
              "      <td>0</td>\n",
              "      <td>3.8</td>\n",
              "      <td>166</td>\n",
              "      <td>4</td>\n",
              "      <td>29</td>\n",
              "      <td>1245</td>\n",
              "      <td>600.0</td>\n",
              "    </tr>\n",
              "  </tbody>\n",
              "</table>\n",
              "</div>"
            ],
            "text/plain": [
              "   online_order  book_table  rate  votes  location  rest_type  cuisines   \n",
              "0             1           1   4.1    775         1         29       955  \\\n",
              "1             1           0   4.1    787         1         29       967   \n",
              "2             1           0   3.8    918         1         22       810   \n",
              "3             0           0   3.7     88         1         19      1208   \n",
              "4             0           0   3.8    166         4         29      1245   \n",
              "\n",
              "   average cost for 2  \n",
              "0               800.0  \n",
              "1               800.0  \n",
              "2               800.0  \n",
              "3               300.0  \n",
              "4               600.0  "
            ]
          },
          "execution_count": 98,
          "metadata": {},
          "output_type": "execute_result"
        }
      ],
      "source": [
        "df_copy.head()"
      ]
    },
    {
      "cell_type": "code",
      "execution_count": 99,
      "metadata": {},
      "outputs": [
        {
          "data": {
            "text/plain": [
              "<Axes: >"
            ]
          },
          "execution_count": 99,
          "metadata": {},
          "output_type": "execute_result"
        },
        {
          "data": {
            "image/png": "[encoded data removed]",
            "text/plain": [
              "<Figure size 640x480 with 2 Axes>"
            ]
          },
          "metadata": {},
          "output_type": "display_data"
        }
      ],
      "source": [
        "sns.heatmap(df_copy.corr(),annot=True)"
      ]
    },
    {
      "cell_type": "code",
      "execution_count": 100,
      "metadata": {},
      "outputs": [],
      "source": [
        "X = df_copy.drop(columns=['rate']) #independent features\n",
        "y = df_copy['rate'] #dependent or target feature"
      ]
    },
    {
      "cell_type": "code",
      "execution_count": 101,
      "metadata": {},
      "outputs": [
        {
          "name": "stdout",
          "output_type": "stream",
          "text": [
            "/n\n"
          ]
        },
        {
          "data": {
            "image/png": "[encoded data removed]",
            "text/plain": [
              "<Figure size 640x480 with 1 Axes>"
            ]
          },
          "metadata": {},
          "output_type": "display_data"
        },
        {
          "name": "stdout",
          "output_type": "stream",
          "text": [
            "/n\n"
          ]
        },
        {
          "data": {
            "image/png": "[encoded data removed]",
            "text/plain": [
              "<Figure size 640x480 with 1 Axes>"
            ]
          },
          "metadata": {},
          "output_type": "display_data"
        },
        {
          "name": "stdout",
          "output_type": "stream",
          "text": [
            "/n\n"
          ]
        },
        {
          "data": {
            "image/png": "[encoded data removed]",
            "text/plain": [
              "<Figure size 640x480 with 1 Axes>"
            ]
          },
          "metadata": {},
          "output_type": "display_data"
        },
        {
          "name": "stdout",
          "output_type": "stream",
          "text": [
            "/n\n"
          ]
        },
        {
          "data": {
            "image/png": "[encoded data removed]",
            "text/plain": [
              "<Figure size 640x480 with 1 Axes>"
            ]
          },
          "metadata": {},
          "output_type": "display_data"
        },
        {
          "name": "stdout",
          "output_type": "stream",
          "text": [
            "/n\n"
          ]
        },
        {
          "data": {
            "image/png": "[encoded data removed]",
            "text/plain": [
              "<Figure size 640x480 with 1 Axes>"
            ]
          },
          "metadata": {},
          "output_type": "display_data"
        },
        {
          "name": "stdout",
          "output_type": "stream",
          "text": [
            "/n\n"
          ]
        },
        {
          "data": {
            "image/png": "[encoded data removed]",
            "text/plain": [
              "<Figure size 640x480 with 1 Axes>"
            ]
          },
          "metadata": {},
          "output_type": "display_data"
        },
        {
          "name": "stdout",
          "output_type": "stream",
          "text": [
            "/n\n"
          ]
        },
        {
          "data": {
            "image/png": "[encoded data removed]",
            "text/plain": [
              "<Figure size 640x480 with 1 Axes>"
            ]
          },
          "metadata": {},
          "output_type": "display_data"
        }
      ],
      "source": [
        "x = 0\n",
        "for i in X:\n",
        "    sns.histplot(data=df_copy,x=i,kde=True)\n",
        "    print('/n')\n",
        "    plt.show()"
      ]
    },
    {
      "cell_type": "code",
      "execution_count": 102,
      "metadata": {},
      "outputs": [
        {
          "data": {
            "text/plain": [
              "<Axes: xlabel='votes'>"
            ]
          },
          "execution_count": 102,
          "metadata": {},
          "output_type": "execute_result"
        },
        {
          "data": {
            "image/png": "[encoded data removed]",
            "text/plain": [
              "<Figure size 640x480 with 1 Axes>"
            ]
          },
          "metadata": {},
          "output_type": "display_data"
        }
      ],
      "source": [
        "sns.boxplot(data=df_copy,x='votes')"
      ]
    },
    {
      "cell_type": "code",
      "execution_count": 103,
      "metadata": {},
      "outputs": [],
      "source": [
        "#There are outliers in Votes so we need to use median to replace missing values"
      ]
    },
    {
      "cell_type": "code",
      "execution_count": 104,
      "metadata": {},
      "outputs": [
        {
          "data": {
            "text/plain": [
              "<Axes: xlabel='average cost for 2'>"
            ]
          },
          "execution_count": 104,
          "metadata": {},
          "output_type": "execute_result"
        },
        {
          "data": {
            "image/png": "[encoded data removed]",
            "text/plain": [
              "<Figure size 640x480 with 1 Axes>"
            ]
          },
          "metadata": {},
          "output_type": "display_data"
        }
      ],
      "source": [
        "sns.boxplot(data=df_copy,x='average cost for 2')"
      ]
    },
    {
      "cell_type": "code",
      "execution_count": 105,
      "metadata": {},
      "outputs": [],
      "source": [
        "#There are outliers in Average cost for 2 so we need to use median to replace missing values"
      ]
    },
    {
      "cell_type": "code",
      "execution_count": 106,
      "metadata": {},
      "outputs": [
        {
          "data": {
            "text/html": [
              "<div>\n",
              "<style scoped>\n",
              "    .dataframe tbody tr th:only-of-type {\n",
              "        vertical-align: middle;\n",
              "    }\n",
              "\n",
              "    .dataframe tbody tr th {\n",
              "        vertical-align: top;\n",
              "    }\n",
              "\n",
              "    .dataframe thead th {\n",
              "        text-align: right;\n",
              "    }\n",
              "</style>\n",
              "<table border=\"1\" class=\"dataframe\">\n",
              "  <thead>\n",
              "    <tr style=\"text-align: right;\">\n",
              "      <th></th>\n",
              "      <th>online_order</th>\n",
              "      <th>book_table</th>\n",
              "      <th>rate</th>\n",
              "      <th>votes</th>\n",
              "      <th>location</th>\n",
              "      <th>rest_type</th>\n",
              "      <th>cuisines</th>\n",
              "      <th>average cost for 2</th>\n",
              "    </tr>\n",
              "  </thead>\n",
              "  <tbody>\n",
              "    <tr>\n",
              "      <th>0</th>\n",
              "      <td>1</td>\n",
              "      <td>1</td>\n",
              "      <td>4.1</td>\n",
              "      <td>775</td>\n",
              "      <td>1</td>\n",
              "      <td>29</td>\n",
              "      <td>955</td>\n",
              "      <td>800.0</td>\n",
              "    </tr>\n",
              "    <tr>\n",
              "      <th>1</th>\n",
              "      <td>1</td>\n",
              "      <td>0</td>\n",
              "      <td>4.1</td>\n",
              "      <td>787</td>\n",
              "      <td>1</td>\n",
              "      <td>29</td>\n",
              "      <td>967</td>\n",
              "      <td>800.0</td>\n",
              "    </tr>\n",
              "    <tr>\n",
              "      <th>2</th>\n",
              "      <td>1</td>\n",
              "      <td>0</td>\n",
              "      <td>3.8</td>\n",
              "      <td>918</td>\n",
              "      <td>1</td>\n",
              "      <td>22</td>\n",
              "      <td>810</td>\n",
              "      <td>800.0</td>\n",
              "    </tr>\n",
              "    <tr>\n",
              "      <th>3</th>\n",
              "      <td>0</td>\n",
              "      <td>0</td>\n",
              "      <td>3.7</td>\n",
              "      <td>88</td>\n",
              "      <td>1</td>\n",
              "      <td>19</td>\n",
              "      <td>1208</td>\n",
              "      <td>300.0</td>\n",
              "    </tr>\n",
              "    <tr>\n",
              "      <th>4</th>\n",
              "      <td>0</td>\n",
              "      <td>0</td>\n",
              "      <td>3.8</td>\n",
              "      <td>166</td>\n",
              "      <td>4</td>\n",
              "      <td>29</td>\n",
              "      <td>1245</td>\n",
              "      <td>600.0</td>\n",
              "    </tr>\n",
              "  </tbody>\n",
              "</table>\n",
              "</div>"
            ],
            "text/plain": [
              "   online_order  book_table  rate  votes  location  rest_type  cuisines   \n",
              "0             1           1   4.1    775         1         29       955  \\\n",
              "1             1           0   4.1    787         1         29       967   \n",
              "2             1           0   3.8    918         1         22       810   \n",
              "3             0           0   3.7     88         1         19      1208   \n",
              "4             0           0   3.8    166         4         29      1245   \n",
              "\n",
              "   average cost for 2  \n",
              "0               800.0  \n",
              "1               800.0  \n",
              "2               800.0  \n",
              "3               300.0  \n",
              "4               600.0  "
            ]
          },
          "execution_count": 106,
          "metadata": {},
          "output_type": "execute_result"
        }
      ],
      "source": [
        "df_copy.head()"
      ]
    },
    {
      "cell_type": "code",
      "execution_count": 107,
      "metadata": {},
      "outputs": [],
      "source": [
        "X = df_copy.drop(columns=['rate'])\n",
        "Y = df_copy['rate']"
      ]
    },
    {
      "cell_type": "code",
      "execution_count": 108,
      "metadata": {},
      "outputs": [],
      "source": [
        "from sklearn.model_selection import train_test_split\n",
        "X_train,X_test,y_train,y_test = train_test_split(X,Y,test_size=0.10,random_state=30)"
      ]
    },
    {
      "cell_type": "code",
      "execution_count": 109,
      "metadata": {},
      "outputs": [
        {
          "data": {
            "text/plain": [
              "(19375, 7)"
            ]
          },
          "execution_count": 109,
          "metadata": {},
          "output_type": "execute_result"
        }
      ],
      "source": [
        "X_train.shape"
      ]
    },
    {
      "cell_type": "code",
      "execution_count": 110,
      "metadata": {},
      "outputs": [
        {
          "data": {
            "text/plain": [
              "(19375,)"
            ]
          },
          "execution_count": 110,
          "metadata": {},
          "output_type": "execute_result"
        }
      ],
      "source": [
        "y_train.shape"
      ]
    },
    {
      "cell_type": "code",
      "execution_count": 111,
      "metadata": {},
      "outputs": [
        {
          "data": {
            "text/plain": [
              "(2153, 7)"
            ]
          },
          "execution_count": 111,
          "metadata": {},
          "output_type": "execute_result"
        }
      ],
      "source": [
        "X_test.shape"
      ]
    },
    {
      "cell_type": "code",
      "execution_count": 112,
      "metadata": {},
      "outputs": [
        {
          "data": {
            "text/plain": [
              "(2153,)"
            ]
          },
          "execution_count": 112,
          "metadata": {},
          "output_type": "execute_result"
        }
      ],
      "source": [
        "y_test.shape"
      ]
    },
    {
      "cell_type": "code",
      "execution_count": 113,
      "metadata": {},
      "outputs": [],
      "source": [
        "from sklearn.preprocessing import StandardScaler\n",
        "scaler = StandardScaler()\n",
        "\n",
        "X_train = scaler.fit_transform(X_train)\n",
        "X_test = scaler.fit_transform(X_test)"
      ]
    },
    {
      "cell_type": "code",
      "execution_count": 120,
      "metadata": {},
      "outputs": [],
      "source": [
        "from sklearn.linear_model import LinearRegression,Ridge,Lasso,ElasticNet\n",
        "from sklearn.metrics import r2_score,mean_absolute_error,mean_squared_error\n",
        "from sklearn.ensemble import RandomForestRegressor"
      ]
    },
    {
      "cell_type": "code",
      "execution_count": 115,
      "metadata": {},
      "outputs": [
        {
          "data": {
            "text/html": [
              "<style>#sk-container-id-1 {color: black;background-color: white;}#sk-container-id-1 pre{padding: 0;}#sk-container-id-1 div.sk-toggleable {background-color: white;}#sk-container-id-1 label.sk-toggleable__label {cursor: pointer;display: block;width: 100%;margin-bottom: 0;padding: 0.3em;box-sizing: border-box;text-align: center;}#sk-container-id-1 label.sk-toggleable__label-arrow:before {content: \"▸\";float: left;margin-right: 0.25em;color: #696969;}#sk-container-id-1 label.sk-toggleable__label-arrow:hover:before {color: black;}#sk-container-id-1 div.sk-estimator:hover label.sk-toggleable__label-arrow:before {color: black;}#sk-container-id-1 div.sk-toggleable__content {max-height: 0;max-width: 0;overflow: hidden;text-align: left;background-color: #f0f8ff;}#sk-container-id-1 div.sk-toggleable__content pre {margin: 0.2em;color: black;border-radius: 0.25em;background-color: #f0f8ff;}#sk-container-id-1 input.sk-toggleable__control:checked~div.sk-toggleable__content {max-height: 200px;max-width: 100%;overflow: auto;}#sk-container-id-1 input.sk-toggleable__control:checked~label.sk-toggleable__label-arrow:before {content: \"▾\";}#sk-container-id-1 div.sk-estimator input.sk-toggleable__control:checked~label.sk-toggleable__label {background-color: #d4ebff;}#sk-container-id-1 div.sk-label input.sk-toggleable__control:checked~label.sk-toggleable__label {background-color: #d4ebff;}#sk-container-id-1 input.sk-hidden--visually {border: 0;clip: rect(1px 1px 1px 1px);clip: rect(1px, 1px, 1px, 1px);height: 1px;margin: -1px;overflow: hidden;padding: 0;position: absolute;width: 1px;}#sk-container-id-1 div.sk-estimator {font-family: monospace;background-color: #f0f8ff;border: 1px dotted black;border-radius: 0.25em;box-sizing: border-box;margin-bottom: 0.5em;}#sk-container-id-1 div.sk-estimator:hover {background-color: #d4ebff;}#sk-container-id-1 div.sk-parallel-item::after {content: \"\";width: 100%;border-bottom: 1px solid gray;flex-grow: 1;}#sk-container-id-1 div.sk-label:hover label.sk-toggleable__label {background-color: #d4ebff;}#sk-container-id-1 div.sk-serial::before {content: \"\";position: absolute;border-left: 1px solid gray;box-sizing: border-box;top: 0;bottom: 0;left: 50%;z-index: 0;}#sk-container-id-1 div.sk-serial {display: flex;flex-direction: column;align-items: center;background-color: white;padding-right: 0.2em;padding-left: 0.2em;position: relative;}#sk-container-id-1 div.sk-item {position: relative;z-index: 1;}#sk-container-id-1 div.sk-parallel {display: flex;align-items: stretch;justify-content: center;background-color: white;position: relative;}#sk-container-id-1 div.sk-item::before, #sk-container-id-1 div.sk-parallel-item::before {content: \"\";position: absolute;border-left: 1px solid gray;box-sizing: border-box;top: 0;bottom: 0;left: 50%;z-index: -1;}#sk-container-id-1 div.sk-parallel-item {display: flex;flex-direction: column;z-index: 1;position: relative;background-color: white;}#sk-container-id-1 div.sk-parallel-item:first-child::after {align-self: flex-end;width: 50%;}#sk-container-id-1 div.sk-parallel-item:last-child::after {align-self: flex-start;width: 50%;}#sk-container-id-1 div.sk-parallel-item:only-child::after {width: 0;}#sk-container-id-1 div.sk-dashed-wrapped {border: 1px dashed gray;margin: 0 0.4em 0.5em 0.4em;box-sizing: border-box;padding-bottom: 0.4em;background-color: white;}#sk-container-id-1 div.sk-label label {font-family: monospace;font-weight: bold;display: inline-block;line-height: 1.2em;}#sk-container-id-1 div.sk-label-container {text-align: center;}#sk-container-id-1 div.sk-container {/* jupyter's `normalize.less` sets `[hidden] { display: none; }` but bootstrap.min.css set `[hidden] { display: none !important; }` so we also need the `!important` here to be able to override the default hidden behavior on the sphinx rendered scikit-learn.org. See: https://github.com/scikit-learn/scikit-learn/issues/21755 */display: inline-block !important;position: relative;}#sk-container-id-1 div.sk-text-repr-fallback {display: none;}</style><div id=\"sk-container-id-1\" class=\"sk-top-container\"><div class=\"sk-text-repr-fallback\"><pre>LinearRegression()</pre><b>In a Jupyter environment, please rerun this cell to show the HTML representation or trust the notebook. <br />On GitHub, the HTML representation is unable to render, please try loading this page with nbviewer.org.</b></div><div class=\"sk-container\" hidden><div class=\"sk-item\"><div class=\"sk-estimator sk-toggleable\"><input class=\"sk-toggleable__control sk-hidden--visually\" id=\"sk-estimator-id-1\" type=\"checkbox\" checked><label for=\"sk-estimator-id-1\" class=\"sk-toggleable__label sk-toggleable__label-arrow\">LinearRegression</label><div class=\"sk-toggleable__content\"><pre>LinearRegression()</pre></div></div></div></div></div>"
            ],
            "text/plain": [
              "LinearRegression()"
            ]
          },
          "execution_count": 115,
          "metadata": {},
          "output_type": "execute_result"
        }
      ],
      "source": [
        "regression = LinearRegression()\n",
        "regression.fit(X_train,y_train)"
      ]
    },
    {
      "cell_type": "code",
      "execution_count": 116,
      "metadata": {},
      "outputs": [
        {
          "data": {
            "text/plain": [
              "array([ 0.02092085,  0.08347511,  0.12305303,  0.02476171, -0.00982538,\n",
              "       -0.01592246,  0.0477997 ])"
            ]
          },
          "execution_count": 116,
          "metadata": {},
          "output_type": "execute_result"
        }
      ],
      "source": [
        "regression.coef_"
      ]
    },
    {
      "cell_type": "code",
      "execution_count": 117,
      "metadata": {},
      "outputs": [
        {
          "data": {
            "text/plain": [
              "3.915163870967742"
            ]
          },
          "execution_count": 117,
          "metadata": {},
          "output_type": "execute_result"
        }
      ],
      "source": [
        "regression.intercept_"
      ]
    },
    {
      "cell_type": "code",
      "execution_count": 118,
      "metadata": {},
      "outputs": [],
      "source": [
        "import numpy as np\n",
        "def evaluate(true,predicted):\n",
        "    mae = mean_absolute_error(true,predicted)\n",
        "    mse = mean_squared_error(true,predicted)\n",
        "    rmse = np.sqrt(mean_squared_error(true,predicted))\n",
        "    r2_square = r2_score(true,predicted)\n",
        "    return mae,mse,rmse,r2_square"
      ]
    },
    {
      "cell_type": "code",
      "execution_count": 123,
      "metadata": {},
      "outputs": [
        {
          "name": "stdout",
          "output_type": "stream",
          "text": [
            "LinearRegression\n",
            "Model Training Performance\n",
            "MAE:-  0.268926692364847\n",
            "MSE:-  0.14732746912327535\n",
            "RMSE:-  0.3838326056020715\n",
            "R2_Score 20.821581454685923\n",
            "****************************************\n",
            "\n",
            "\n",
            "Lasso\n",
            "Model Training Performance\n",
            "MAE:-  0.30485693001513264\n",
            "MSE:-  0.1862822299940983\n",
            "RMSE:-  0.4316042515940944\n",
            "R2_Score -0.1139330078737455\n",
            "****************************************\n",
            "\n",
            "\n",
            "Ridge\n",
            "Model Training Performance\n",
            "MAE:-  0.26892606477576336\n",
            "MSE:-  0.1473273820954202\n",
            "RMSE:-  0.3838324922351158\n",
            "R2_Score 20.82162822619419\n",
            "****************************************\n",
            "\n",
            "\n",
            "ElasticNet\n",
            "Model Training Performance\n",
            "MAE:-  0.30485693001513264\n",
            "MSE:-  0.1862822299940983\n",
            "RMSE:-  0.4316042515940944\n",
            "R2_Score -0.1139330078737455\n",
            "****************************************\n",
            "\n",
            "\n",
            "RandomForestRegressor\n",
            "Model Training Performance\n",
            "MAE:-  0.11666557409917716\n",
            "MSE:-  0.03605041340450064\n",
            "RMSE:-  0.18986946411811625\n",
            "R2_Score 80.62537327044735\n",
            "****************************************\n",
            "\n",
            "\n"
          ]
        }
      ],
      "source": [
        "#Training of Different models\n",
        "models = {\n",
        "    'LinearRegression':LinearRegression(),\n",
        "    'Lasso':Lasso(),\n",
        "    'Ridge':Ridge(),\n",
        "    'ElasticNet':ElasticNet(),\n",
        "    'RandomForestRegressor': RandomForestRegressor()\n",
        "}\n",
        "\n",
        "mae_list = []\n",
        "mse_list = []\n",
        "rmse_list = []\n",
        "trained_model_list = []\n",
        "model_list = []\n",
        "r2_list = []\n",
        "\n",
        "for i in range(len(list(models))):\n",
        "    model = list(models.values())[i]\n",
        "    model.fit(X_train,y_train)\n",
        "\n",
        "    #Predictions on test data\n",
        "    y_pred = model.predict(X_test)\n",
        "\n",
        "    mae,mse,rmse,r2_square = evaluate(y_test,y_pred)\n",
        "\n",
        "    print(list(models.keys())[i])\n",
        "    model_list.append(list(models.keys())[i])\n",
        "\n",
        "    print('Model Training Performance')\n",
        "    print('MAE:- ', mae)\n",
        "    print('MSE:- ', mse)\n",
        "    print('RMSE:- ',rmse)\n",
        "    print('R2_Score',r2_square*100)\n",
        "\n",
        "    r2_list.append(r2_square)\n",
        "    mae_list.append(mae)\n",
        "    mse_list.append(mse)\n",
        "    rmse_list.append(rmse)\n",
        "\n",
        "    print(\"*\"*40)\n",
        "    print('\\n')"
      ]
    },
    {
      "cell_type": "code",
      "execution_count": 124,
      "metadata": {},
      "outputs": [
        {
          "name": "stdout",
          "output_type": "stream",
          "text": [
            "                Model      MAE      MSE     RMSE  R2 Score\n",
            "     LinearRegression 0.268927 0.147327 0.383833     20.82\n",
            "                Lasso 0.304857 0.186282 0.431604     -0.11\n",
            "                Ridge 0.268926 0.147327 0.383832     20.82\n",
            "           ElasticNet 0.304857 0.186282 0.431604     -0.11\n",
            "RandomForestRegressor 0.116666 0.036050 0.189869     80.63\n"
          ]
        }
      ],
      "source": [
        "# Multiply R2 Score by 100 and round to 2 decimal places\n",
        "r2_list_percentage = [round(r2 * 100, 2) for r2 in r2_list]\n",
        "\n",
        "# Create a DataFrame with the results\n",
        "df_model = pd.DataFrame({\n",
        "    'Model': model_list,\n",
        "    'MAE': [round(mae, 6) for mae in mae_list],\n",
        "    'MSE': [round(mse, 6) for mse in mse_list],\n",
        "    'RMSE': [round(rmse, 6) for rmse in rmse_list],\n",
        "    'R2 Score': r2_list_percentage\n",
        "})\n",
        "\n",
        "# Print the DataFrame\n",
        "print(df_model.to_string(index=False))"
      ]
    },
    {
      "cell_type": "code",
      "execution_count": null,
      "metadata": {},
      "outputs": [],
      "source": []
    }
  ],
  "metadata": {
    "colab": {
      "provenance": []
    },
    "kernelspec": {
      "display_name": "Python 3",
      "name": "python3"
    },
    "language_info": {
      "codemirror_mode": {
        "name": "ipython",
        "version": 3
      },
      "file_extension": ".py",
      "mimetype": "text/x-python",
      "name": "python",
      "nbconvert_exporter": "python",
      "pygments_lexer": "ipython3",
      "version": "3.8.0"
    }
  },
  "nbformat": 4,
  "nbformat_minor": 0
}
