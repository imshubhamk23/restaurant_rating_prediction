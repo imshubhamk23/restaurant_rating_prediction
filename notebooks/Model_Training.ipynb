{
 "cells": [
  {
   "cell_type": "code",
   "execution_count": 533,
   "metadata": {},
   "outputs": [],
   "source": [
    "import pandas as pd\n",
    "import numpy as np\n",
    "import boto3\n",
    "import warnings\n",
    "warnings.filterwarnings('ignore')\n",
    "import matplotlib.pyplot as plt\n",
    "from sklearn.impute import SimpleImputer #to handle missing values\n",
    "from sklearn.preprocessing import StandardScaler #to reach global minima in Linear Regression i.e Feature Scaling\n",
    "from sklearn.preprocessing import LabelEncoder #LabelEncoder since categorical Variables with no definite order or ranking  \n",
    "from sklearn.preprocessing import OneHotEncoder\n",
    "from sklearn.preprocessing import OrdinalEncoder\n",
    "from sklearn.pipeline import Pipeline #To create pipeline\n",
    "from sklearn.compose import ColumnTransformer #to group pipeling together\n",
    "from sklearn.model_selection import train_test_split\n",
    "from sklearn.linear_model import LinearRegression,Ridge,Lasso,ElasticNet\n",
    "from sklearn.metrics import r2_score,mean_absolute_error,mean_squared_error\n"
   ]
  },
  {
   "cell_type": "code",
   "execution_count": 534,
   "metadata": {},
   "outputs": [],
   "source": [
    "# Configure the S3 client\n",
    "# s3 = boto3.client('s3')"
   ]
  },
  {
   "cell_type": "code",
   "execution_count": 535,
   "metadata": {},
   "outputs": [],
   "source": [
    "# s3 = boto3.resource(\n",
    "#     service_name='s3',\n",
    "#     region_name='ap-south-1',\n",
    "#     aws_access_key_id='',\n",
    "#     aws_secret_access_key=''\n",
    "# )"
   ]
  },
  {
   "cell_type": "code",
   "execution_count": 536,
   "metadata": {},
   "outputs": [],
   "source": [
    "# Specify the S3 bucket and file path\n",
    "# bucket_name = 'zomato-dataset'\n",
    "# file_path = 's3://zomato-dataset/zomato.csv'"
   ]
  },
  {
   "cell_type": "code",
   "execution_count": 537,
   "metadata": {},
   "outputs": [],
   "source": [
    "# for obj in s3.Bucket(bucket_name).objects.all():\n",
    "#     print(obj)"
   ]
  },
  {
   "cell_type": "code",
   "execution_count": 538,
   "metadata": {},
   "outputs": [],
   "source": [
    "# Read the CSV file from S3 using the client\n",
    "# obj = s3.Bucket(bucket_name).Object('zomato.csv').get()\n",
    "# df = pd.read_csv(obj['Body'])"
   ]
  },
  {
   "cell_type": "code",
   "execution_count": 539,
   "metadata": {},
   "outputs": [],
   "source": [
    "# Check the loaded DataFrame\n",
    "# df.head()"
   ]
  },
  {
   "cell_type": "code",
   "execution_count": 540,
   "metadata": {},
   "outputs": [],
   "source": [
    "df = pd.read_csv('data/clean_data.csv')"
   ]
  },
  {
   "cell_type": "code",
   "execution_count": 541,
   "metadata": {},
   "outputs": [
    {
     "data": {
      "text/html": [
       "<div>\n",
       "<style scoped>\n",
       "    .dataframe tbody tr th:only-of-type {\n",
       "        vertical-align: middle;\n",
       "    }\n",
       "\n",
       "    .dataframe tbody tr th {\n",
       "        vertical-align: top;\n",
       "    }\n",
       "\n",
       "    .dataframe thead th {\n",
       "        text-align: right;\n",
       "    }\n",
       "</style>\n",
       "<table border=\"1\" class=\"dataframe\">\n",
       "  <thead>\n",
       "    <tr style=\"text-align: right;\">\n",
       "      <th></th>\n",
       "      <th>name</th>\n",
       "      <th>online_order</th>\n",
       "      <th>book_table</th>\n",
       "      <th>rate</th>\n",
       "      <th>votes</th>\n",
       "      <th>location</th>\n",
       "      <th>rest_type</th>\n",
       "      <th>cuisines</th>\n",
       "      <th>average cost for 2</th>\n",
       "    </tr>\n",
       "  </thead>\n",
       "  <tbody>\n",
       "    <tr>\n",
       "      <th>0</th>\n",
       "      <td>Jalsa</td>\n",
       "      <td>Yes</td>\n",
       "      <td>Yes</td>\n",
       "      <td>4.1</td>\n",
       "      <td>775</td>\n",
       "      <td>Banashankari</td>\n",
       "      <td>Casual Dining</td>\n",
       "      <td>Chinese Indian Mughlai North</td>\n",
       "      <td>800.0</td>\n",
       "    </tr>\n",
       "    <tr>\n",
       "      <th>1</th>\n",
       "      <td>Spice Elephant</td>\n",
       "      <td>Yes</td>\n",
       "      <td>No</td>\n",
       "      <td>4.1</td>\n",
       "      <td>787</td>\n",
       "      <td>Banashankari</td>\n",
       "      <td>Casual Dining</td>\n",
       "      <td>Chinese Indian North Thai</td>\n",
       "      <td>800.0</td>\n",
       "    </tr>\n",
       "    <tr>\n",
       "      <th>2</th>\n",
       "      <td>San Churro Cafe</td>\n",
       "      <td>Yes</td>\n",
       "      <td>No</td>\n",
       "      <td>3.8</td>\n",
       "      <td>918</td>\n",
       "      <td>Banashankari</td>\n",
       "      <td>Cafe Casual Dining</td>\n",
       "      <td>Cafe Italian Mexican</td>\n",
       "      <td>800.0</td>\n",
       "    </tr>\n",
       "    <tr>\n",
       "      <th>3</th>\n",
       "      <td>Addhuri Udupi Bhojana</td>\n",
       "      <td>No</td>\n",
       "      <td>No</td>\n",
       "      <td>3.7</td>\n",
       "      <td>88</td>\n",
       "      <td>Banashankari</td>\n",
       "      <td>Bites Quick</td>\n",
       "      <td>Indian Indian North South</td>\n",
       "      <td>300.0</td>\n",
       "    </tr>\n",
       "    <tr>\n",
       "      <th>4</th>\n",
       "      <td>Grand Village</td>\n",
       "      <td>No</td>\n",
       "      <td>No</td>\n",
       "      <td>3.8</td>\n",
       "      <td>166</td>\n",
       "      <td>Basavanagudi</td>\n",
       "      <td>Casual Dining</td>\n",
       "      <td>Indian North Rajasthani</td>\n",
       "      <td>600.0</td>\n",
       "    </tr>\n",
       "  </tbody>\n",
       "</table>\n",
       "</div>"
      ],
      "text/plain": [
       "                    name online_order book_table  rate  votes      location   \n",
       "0                  Jalsa          Yes        Yes   4.1    775  Banashankari  \\\n",
       "1         Spice Elephant          Yes         No   4.1    787  Banashankari   \n",
       "2        San Churro Cafe          Yes         No   3.8    918  Banashankari   \n",
       "3  Addhuri Udupi Bhojana           No         No   3.7     88  Banashankari   \n",
       "4          Grand Village           No         No   3.8    166  Basavanagudi   \n",
       "\n",
       "            rest_type                      cuisines  average cost for 2  \n",
       "0       Casual Dining  Chinese Indian Mughlai North               800.0  \n",
       "1       Casual Dining     Chinese Indian North Thai               800.0  \n",
       "2  Cafe Casual Dining          Cafe Italian Mexican               800.0  \n",
       "3         Bites Quick     Indian Indian North South               300.0  \n",
       "4       Casual Dining       Indian North Rajasthani               600.0  "
      ]
     },
     "execution_count": 541,
     "metadata": {},
     "output_type": "execute_result"
    }
   ],
   "source": [
    "df.head()"
   ]
  },
  {
   "cell_type": "code",
   "execution_count": 542,
   "metadata": {},
   "outputs": [
    {
     "data": {
      "text/plain": [
       "(21528, 9)"
      ]
     },
     "execution_count": 542,
     "metadata": {},
     "output_type": "execute_result"
    }
   ],
   "source": [
    "df.shape"
   ]
  },
  {
   "cell_type": "code",
   "execution_count": 543,
   "metadata": {},
   "outputs": [],
   "source": [
    "df = df.drop(columns=['name'])"
   ]
  },
  {
   "cell_type": "code",
   "execution_count": 544,
   "metadata": {},
   "outputs": [
    {
     "data": {
      "text/html": [
       "<div>\n",
       "<style scoped>\n",
       "    .dataframe tbody tr th:only-of-type {\n",
       "        vertical-align: middle;\n",
       "    }\n",
       "\n",
       "    .dataframe tbody tr th {\n",
       "        vertical-align: top;\n",
       "    }\n",
       "\n",
       "    .dataframe thead th {\n",
       "        text-align: right;\n",
       "    }\n",
       "</style>\n",
       "<table border=\"1\" class=\"dataframe\">\n",
       "  <thead>\n",
       "    <tr style=\"text-align: right;\">\n",
       "      <th></th>\n",
       "      <th>online_order</th>\n",
       "      <th>book_table</th>\n",
       "      <th>rate</th>\n",
       "      <th>votes</th>\n",
       "      <th>location</th>\n",
       "      <th>rest_type</th>\n",
       "      <th>cuisines</th>\n",
       "      <th>average cost for 2</th>\n",
       "    </tr>\n",
       "  </thead>\n",
       "  <tbody>\n",
       "    <tr>\n",
       "      <th>0</th>\n",
       "      <td>Yes</td>\n",
       "      <td>Yes</td>\n",
       "      <td>4.1</td>\n",
       "      <td>775</td>\n",
       "      <td>Banashankari</td>\n",
       "      <td>Casual Dining</td>\n",
       "      <td>Chinese Indian Mughlai North</td>\n",
       "      <td>800.0</td>\n",
       "    </tr>\n",
       "    <tr>\n",
       "      <th>1</th>\n",
       "      <td>Yes</td>\n",
       "      <td>No</td>\n",
       "      <td>4.1</td>\n",
       "      <td>787</td>\n",
       "      <td>Banashankari</td>\n",
       "      <td>Casual Dining</td>\n",
       "      <td>Chinese Indian North Thai</td>\n",
       "      <td>800.0</td>\n",
       "    </tr>\n",
       "    <tr>\n",
       "      <th>2</th>\n",
       "      <td>Yes</td>\n",
       "      <td>No</td>\n",
       "      <td>3.8</td>\n",
       "      <td>918</td>\n",
       "      <td>Banashankari</td>\n",
       "      <td>Cafe Casual Dining</td>\n",
       "      <td>Cafe Italian Mexican</td>\n",
       "      <td>800.0</td>\n",
       "    </tr>\n",
       "    <tr>\n",
       "      <th>3</th>\n",
       "      <td>No</td>\n",
       "      <td>No</td>\n",
       "      <td>3.7</td>\n",
       "      <td>88</td>\n",
       "      <td>Banashankari</td>\n",
       "      <td>Bites Quick</td>\n",
       "      <td>Indian Indian North South</td>\n",
       "      <td>300.0</td>\n",
       "    </tr>\n",
       "    <tr>\n",
       "      <th>4</th>\n",
       "      <td>No</td>\n",
       "      <td>No</td>\n",
       "      <td>3.8</td>\n",
       "      <td>166</td>\n",
       "      <td>Basavanagudi</td>\n",
       "      <td>Casual Dining</td>\n",
       "      <td>Indian North Rajasthani</td>\n",
       "      <td>600.0</td>\n",
       "    </tr>\n",
       "  </tbody>\n",
       "</table>\n",
       "</div>"
      ],
      "text/plain": [
       "  online_order book_table  rate  votes      location           rest_type   \n",
       "0          Yes        Yes   4.1    775  Banashankari       Casual Dining  \\\n",
       "1          Yes         No   4.1    787  Banashankari       Casual Dining   \n",
       "2          Yes         No   3.8    918  Banashankari  Cafe Casual Dining   \n",
       "3           No         No   3.7     88  Banashankari         Bites Quick   \n",
       "4           No         No   3.8    166  Basavanagudi       Casual Dining   \n",
       "\n",
       "                       cuisines  average cost for 2  \n",
       "0  Chinese Indian Mughlai North               800.0  \n",
       "1     Chinese Indian North Thai               800.0  \n",
       "2          Cafe Italian Mexican               800.0  \n",
       "3     Indian Indian North South               300.0  \n",
       "4       Indian North Rajasthani               600.0  "
      ]
     },
     "execution_count": 544,
     "metadata": {},
     "output_type": "execute_result"
    }
   ],
   "source": [
    "df.head()"
   ]
  },
  {
   "attachments": {},
   "cell_type": "markdown",
   "metadata": {},
   "source": [
    "### Seperation of Dependent and Independent Variables"
   ]
  },
  {
   "cell_type": "code",
   "execution_count": 545,
   "metadata": {},
   "outputs": [],
   "source": [
    "#Independent Variables\n",
    "X = df.drop(columns=['rate'])"
   ]
  },
  {
   "cell_type": "code",
   "execution_count": 546,
   "metadata": {},
   "outputs": [],
   "source": [
    "#Dependent Variables\n",
    "Y = df['rate']"
   ]
  },
  {
   "cell_type": "code",
   "execution_count": 547,
   "metadata": {},
   "outputs": [
    {
     "data": {
      "text/html": [
       "<div>\n",
       "<style scoped>\n",
       "    .dataframe tbody tr th:only-of-type {\n",
       "        vertical-align: middle;\n",
       "    }\n",
       "\n",
       "    .dataframe tbody tr th {\n",
       "        vertical-align: top;\n",
       "    }\n",
       "\n",
       "    .dataframe thead th {\n",
       "        text-align: right;\n",
       "    }\n",
       "</style>\n",
       "<table border=\"1\" class=\"dataframe\">\n",
       "  <thead>\n",
       "    <tr style=\"text-align: right;\">\n",
       "      <th></th>\n",
       "      <th>online_order</th>\n",
       "      <th>book_table</th>\n",
       "      <th>votes</th>\n",
       "      <th>location</th>\n",
       "      <th>rest_type</th>\n",
       "      <th>cuisines</th>\n",
       "      <th>average cost for 2</th>\n",
       "    </tr>\n",
       "  </thead>\n",
       "  <tbody>\n",
       "    <tr>\n",
       "      <th>0</th>\n",
       "      <td>Yes</td>\n",
       "      <td>Yes</td>\n",
       "      <td>775</td>\n",
       "      <td>Banashankari</td>\n",
       "      <td>Casual Dining</td>\n",
       "      <td>Chinese Indian Mughlai North</td>\n",
       "      <td>800.0</td>\n",
       "    </tr>\n",
       "    <tr>\n",
       "      <th>1</th>\n",
       "      <td>Yes</td>\n",
       "      <td>No</td>\n",
       "      <td>787</td>\n",
       "      <td>Banashankari</td>\n",
       "      <td>Casual Dining</td>\n",
       "      <td>Chinese Indian North Thai</td>\n",
       "      <td>800.0</td>\n",
       "    </tr>\n",
       "    <tr>\n",
       "      <th>2</th>\n",
       "      <td>Yes</td>\n",
       "      <td>No</td>\n",
       "      <td>918</td>\n",
       "      <td>Banashankari</td>\n",
       "      <td>Cafe Casual Dining</td>\n",
       "      <td>Cafe Italian Mexican</td>\n",
       "      <td>800.0</td>\n",
       "    </tr>\n",
       "    <tr>\n",
       "      <th>3</th>\n",
       "      <td>No</td>\n",
       "      <td>No</td>\n",
       "      <td>88</td>\n",
       "      <td>Banashankari</td>\n",
       "      <td>Bites Quick</td>\n",
       "      <td>Indian Indian North South</td>\n",
       "      <td>300.0</td>\n",
       "    </tr>\n",
       "    <tr>\n",
       "      <th>4</th>\n",
       "      <td>No</td>\n",
       "      <td>No</td>\n",
       "      <td>166</td>\n",
       "      <td>Basavanagudi</td>\n",
       "      <td>Casual Dining</td>\n",
       "      <td>Indian North Rajasthani</td>\n",
       "      <td>600.0</td>\n",
       "    </tr>\n",
       "  </tbody>\n",
       "</table>\n",
       "</div>"
      ],
      "text/plain": [
       "  online_order book_table  votes      location           rest_type   \n",
       "0          Yes        Yes    775  Banashankari       Casual Dining  \\\n",
       "1          Yes         No    787  Banashankari       Casual Dining   \n",
       "2          Yes         No    918  Banashankari  Cafe Casual Dining   \n",
       "3           No         No     88  Banashankari         Bites Quick   \n",
       "4           No         No    166  Basavanagudi       Casual Dining   \n",
       "\n",
       "                       cuisines  average cost for 2  \n",
       "0  Chinese Indian Mughlai North               800.0  \n",
       "1     Chinese Indian North Thai               800.0  \n",
       "2          Cafe Italian Mexican               800.0  \n",
       "3     Indian Indian North South               300.0  \n",
       "4       Indian North Rajasthani               600.0  "
      ]
     },
     "execution_count": 547,
     "metadata": {},
     "output_type": "execute_result"
    }
   ],
   "source": [
    "X.head()"
   ]
  },
  {
   "cell_type": "code",
   "execution_count": 548,
   "metadata": {},
   "outputs": [
    {
     "data": {
      "text/plain": [
       "0    4.1\n",
       "1    4.1\n",
       "2    3.8\n",
       "3    3.7\n",
       "4    3.8\n",
       "Name: rate, dtype: float64"
      ]
     },
     "execution_count": 548,
     "metadata": {},
     "output_type": "execute_result"
    }
   ],
   "source": [
    "Y.head()"
   ]
  },
  {
   "attachments": {},
   "cell_type": "markdown",
   "metadata": {},
   "source": [
    "### Now we need to Scale the Data which is continuous and Label-encode data which is categorical but not ranked"
   ]
  },
  {
   "cell_type": "code",
   "execution_count": 549,
   "metadata": {},
   "outputs": [],
   "source": [
    "numerical_columns = X.select_dtypes(exclude='object').columns\n",
    "categorical_columns = X.select_dtypes(include='object').columns"
   ]
  },
  {
   "cell_type": "code",
   "execution_count": 550,
   "metadata": {},
   "outputs": [
    {
     "data": {
      "text/plain": [
       "Index(['votes', 'average cost for 2'], dtype='object')"
      ]
     },
     "execution_count": 550,
     "metadata": {},
     "output_type": "execute_result"
    }
   ],
   "source": [
    "numerical_columns"
   ]
  },
  {
   "cell_type": "code",
   "execution_count": 551,
   "metadata": {},
   "outputs": [
    {
     "data": {
      "text/plain": [
       "Index(['online_order', 'book_table', 'location', 'rest_type', 'cuisines'], dtype='object')"
      ]
     },
     "execution_count": 551,
     "metadata": {},
     "output_type": "execute_result"
    }
   ],
   "source": [
    "categorical_columns"
   ]
  },
  {
   "attachments": {},
   "cell_type": "markdown",
   "metadata": {},
   "source": [
    "### Creating Pipelines"
   ]
  },
  {
   "cell_type": "code",
   "execution_count": 552,
   "metadata": {},
   "outputs": [],
   "source": [
    "import category_encoders as ce\n",
    "#Numerical Pipeline\n",
    "'''\n",
    "1) Handle Missing values\n",
    "2) Scaling\n",
    "'''\n",
    "numerical_pipeline = Pipeline(\n",
    "    steps=[\n",
    "    ('imputer',SimpleImputer(strategy='median')), #Median since there are outliers\n",
    "    ('scaler',StandardScaler())\n",
    "    ]\n",
    ")\n",
    "\n",
    "#Categorical Piplepine\n",
    "'''\n",
    "1) Handle Missing values\n",
    "2) Label Encoding\n",
    "3) Scaling\n",
    "'''\n",
    "categorical_pipeline = Pipeline(\n",
    "    steps=[\n",
    "    ('imputer',SimpleImputer(strategy='most_frequent')),\n",
    "    ('ordinalencoder',OrdinalEncoder(categories=[df[col].unique() for col in categorical_columns])),\n",
    "    ('scaler',StandardScaler())\n",
    "    ]\n",
    ")\n",
    "\n",
    "preprocessor = ColumnTransformer([\n",
    "    ('numerical_pipeline',numerical_pipeline,numerical_columns),\n",
    "    ('categorical_pipeline',categorical_pipeline,categorical_columns)\n",
    "])"
   ]
  },
  {
   "attachments": {},
   "cell_type": "markdown",
   "metadata": {},
   "source": [
    "### Train Test Split"
   ]
  },
  {
   "cell_type": "code",
   "execution_count": 553,
   "metadata": {},
   "outputs": [],
   "source": [
    "X_train,X_test,y_train,y_test = train_test_split(X,Y,test_size=0.3,random_state=30)"
   ]
  },
  {
   "cell_type": "code",
   "execution_count": 554,
   "metadata": {},
   "outputs": [],
   "source": [
    "X_train = pd.DataFrame(preprocessor.fit_transform(X_train),columns=preprocessor.get_feature_names_out())\n"
   ]
  },
  {
   "cell_type": "code",
   "execution_count": 555,
   "metadata": {},
   "outputs": [],
   "source": [
    "X_test = pd.DataFrame(preprocessor.transform(X_test),columns=preprocessor.get_feature_names_out())"
   ]
  },
  {
   "cell_type": "code",
   "execution_count": 556,
   "metadata": {},
   "outputs": [
    {
     "data": {
      "text/html": [
       "<div>\n",
       "<style scoped>\n",
       "    .dataframe tbody tr th:only-of-type {\n",
       "        vertical-align: middle;\n",
       "    }\n",
       "\n",
       "    .dataframe tbody tr th {\n",
       "        vertical-align: top;\n",
       "    }\n",
       "\n",
       "    .dataframe thead th {\n",
       "        text-align: right;\n",
       "    }\n",
       "</style>\n",
       "<table border=\"1\" class=\"dataframe\">\n",
       "  <thead>\n",
       "    <tr style=\"text-align: right;\">\n",
       "      <th></th>\n",
       "      <th>numerical_pipeline__votes</th>\n",
       "      <th>numerical_pipeline__average cost for 2</th>\n",
       "      <th>categorical_pipeline__online_order</th>\n",
       "      <th>categorical_pipeline__book_table</th>\n",
       "      <th>categorical_pipeline__location</th>\n",
       "      <th>categorical_pipeline__rest_type</th>\n",
       "      <th>categorical_pipeline__cuisines</th>\n",
       "    </tr>\n",
       "  </thead>\n",
       "  <tbody>\n",
       "    <tr>\n",
       "      <th>0</th>\n",
       "      <td>-0.498593</td>\n",
       "      <td>-0.692068</td>\n",
       "      <td>-0.638483</td>\n",
       "      <td>0.611069</td>\n",
       "      <td>-0.459750</td>\n",
       "      <td>-0.456672</td>\n",
       "      <td>0.301240</td>\n",
       "    </tr>\n",
       "    <tr>\n",
       "      <th>1</th>\n",
       "      <td>-0.438591</td>\n",
       "      <td>0.841122</td>\n",
       "      <td>-0.638483</td>\n",
       "      <td>0.611069</td>\n",
       "      <td>-0.310133</td>\n",
       "      <td>0.837672</td>\n",
       "      <td>0.658183</td>\n",
       "    </tr>\n",
       "    <tr>\n",
       "      <th>2</th>\n",
       "      <td>-0.490021</td>\n",
       "      <td>-0.117122</td>\n",
       "      <td>-0.638483</td>\n",
       "      <td>0.611069</td>\n",
       "      <td>0.437953</td>\n",
       "      <td>-0.672396</td>\n",
       "      <td>-0.986860</td>\n",
       "    </tr>\n",
       "    <tr>\n",
       "      <th>3</th>\n",
       "      <td>-0.391447</td>\n",
       "      <td>-0.500420</td>\n",
       "      <td>-0.638483</td>\n",
       "      <td>0.611069</td>\n",
       "      <td>-0.360005</td>\n",
       "      <td>-0.348810</td>\n",
       "      <td>-0.654747</td>\n",
       "    </tr>\n",
       "    <tr>\n",
       "      <th>4</th>\n",
       "      <td>-0.036580</td>\n",
       "      <td>1.032771</td>\n",
       "      <td>1.566214</td>\n",
       "      <td>-1.636477</td>\n",
       "      <td>-0.808856</td>\n",
       "      <td>0.729810</td>\n",
       "      <td>-0.757174</td>\n",
       "    </tr>\n",
       "    <tr>\n",
       "      <th>...</th>\n",
       "      <td>...</td>\n",
       "      <td>...</td>\n",
       "      <td>...</td>\n",
       "      <td>...</td>\n",
       "      <td>...</td>\n",
       "      <td>...</td>\n",
       "      <td>...</td>\n",
       "    </tr>\n",
       "    <tr>\n",
       "      <th>15064</th>\n",
       "      <td>-0.471163</td>\n",
       "      <td>-0.883717</td>\n",
       "      <td>-0.638483</td>\n",
       "      <td>0.611069</td>\n",
       "      <td>-0.908601</td>\n",
       "      <td>-0.456672</td>\n",
       "      <td>-0.350570</td>\n",
       "    </tr>\n",
       "    <tr>\n",
       "      <th>15065</th>\n",
       "      <td>-0.429162</td>\n",
       "      <td>0.841122</td>\n",
       "      <td>-0.638483</td>\n",
       "      <td>0.611069</td>\n",
       "      <td>-0.808856</td>\n",
       "      <td>-0.348810</td>\n",
       "      <td>1.316200</td>\n",
       "    </tr>\n",
       "    <tr>\n",
       "      <th>15066</th>\n",
       "      <td>-0.274015</td>\n",
       "      <td>-0.308771</td>\n",
       "      <td>-0.638483</td>\n",
       "      <td>0.611069</td>\n",
       "      <td>0.737187</td>\n",
       "      <td>-0.456672</td>\n",
       "      <td>-0.986860</td>\n",
       "    </tr>\n",
       "    <tr>\n",
       "      <th>15067</th>\n",
       "      <td>1.106023</td>\n",
       "      <td>1.224419</td>\n",
       "      <td>1.566214</td>\n",
       "      <td>-1.636477</td>\n",
       "      <td>-0.808856</td>\n",
       "      <td>1.376982</td>\n",
       "      <td>1.725909</td>\n",
       "    </tr>\n",
       "    <tr>\n",
       "      <th>15068</th>\n",
       "      <td>-0.382018</td>\n",
       "      <td>-0.308771</td>\n",
       "      <td>1.566214</td>\n",
       "      <td>0.611069</td>\n",
       "      <td>1.485272</td>\n",
       "      <td>-0.672396</td>\n",
       "      <td>-0.431270</td>\n",
       "    </tr>\n",
       "  </tbody>\n",
       "</table>\n",
       "<p>15069 rows × 7 columns</p>\n",
       "</div>"
      ],
      "text/plain": [
       "       numerical_pipeline__votes  numerical_pipeline__average cost for 2   \n",
       "0                      -0.498593                               -0.692068  \\\n",
       "1                      -0.438591                                0.841122   \n",
       "2                      -0.490021                               -0.117122   \n",
       "3                      -0.391447                               -0.500420   \n",
       "4                      -0.036580                                1.032771   \n",
       "...                          ...                                     ...   \n",
       "15064                  -0.471163                               -0.883717   \n",
       "15065                  -0.429162                                0.841122   \n",
       "15066                  -0.274015                               -0.308771   \n",
       "15067                   1.106023                                1.224419   \n",
       "15068                  -0.382018                               -0.308771   \n",
       "\n",
       "       categorical_pipeline__online_order  categorical_pipeline__book_table   \n",
       "0                               -0.638483                          0.611069  \\\n",
       "1                               -0.638483                          0.611069   \n",
       "2                               -0.638483                          0.611069   \n",
       "3                               -0.638483                          0.611069   \n",
       "4                                1.566214                         -1.636477   \n",
       "...                                   ...                               ...   \n",
       "15064                           -0.638483                          0.611069   \n",
       "15065                           -0.638483                          0.611069   \n",
       "15066                           -0.638483                          0.611069   \n",
       "15067                            1.566214                         -1.636477   \n",
       "15068                            1.566214                          0.611069   \n",
       "\n",
       "       categorical_pipeline__location  categorical_pipeline__rest_type   \n",
       "0                           -0.459750                        -0.456672  \\\n",
       "1                           -0.310133                         0.837672   \n",
       "2                            0.437953                        -0.672396   \n",
       "3                           -0.360005                        -0.348810   \n",
       "4                           -0.808856                         0.729810   \n",
       "...                               ...                              ...   \n",
       "15064                       -0.908601                        -0.456672   \n",
       "15065                       -0.808856                        -0.348810   \n",
       "15066                        0.737187                        -0.456672   \n",
       "15067                       -0.808856                         1.376982   \n",
       "15068                        1.485272                        -0.672396   \n",
       "\n",
       "       categorical_pipeline__cuisines  \n",
       "0                            0.301240  \n",
       "1                            0.658183  \n",
       "2                           -0.986860  \n",
       "3                           -0.654747  \n",
       "4                           -0.757174  \n",
       "...                               ...  \n",
       "15064                       -0.350570  \n",
       "15065                        1.316200  \n",
       "15066                       -0.986860  \n",
       "15067                        1.725909  \n",
       "15068                       -0.431270  \n",
       "\n",
       "[15069 rows x 7 columns]"
      ]
     },
     "execution_count": 556,
     "metadata": {},
     "output_type": "execute_result"
    }
   ],
   "source": [
    "X_train"
   ]
  },
  {
   "cell_type": "code",
   "execution_count": 557,
   "metadata": {},
   "outputs": [
    {
     "data": {
      "text/plain": [
       "Index(['numerical_pipeline__votes', 'numerical_pipeline__average cost for 2',\n",
       "       'categorical_pipeline__online_order',\n",
       "       'categorical_pipeline__book_table', 'categorical_pipeline__location',\n",
       "       'categorical_pipeline__rest_type', 'categorical_pipeline__cuisines'],\n",
       "      dtype='object')"
      ]
     },
     "execution_count": 557,
     "metadata": {},
     "output_type": "execute_result"
    }
   ],
   "source": [
    "X_train.columns"
   ]
  },
  {
   "cell_type": "code",
   "execution_count": 558,
   "metadata": {},
   "outputs": [
    {
     "name": "stdout",
     "output_type": "stream",
     "text": [
      "<bound method Series.isna of 0       -0.498593\n",
      "1       -0.438591\n",
      "2       -0.490021\n",
      "3       -0.391447\n",
      "4       -0.036580\n",
      "           ...   \n",
      "15064   -0.471163\n",
      "15065   -0.429162\n",
      "15066   -0.274015\n",
      "15067    1.106023\n",
      "15068   -0.382018\n",
      "Name: numerical_pipeline__votes, Length: 15069, dtype: float64>\n",
      "<bound method Series.isna of 0       -0.692068\n",
      "1        0.841122\n",
      "2       -0.117122\n",
      "3       -0.500420\n",
      "4        1.032771\n",
      "           ...   \n",
      "15064   -0.883717\n",
      "15065    0.841122\n",
      "15066   -0.308771\n",
      "15067    1.224419\n",
      "15068   -0.308771\n",
      "Name: numerical_pipeline__average cost for 2, Length: 15069, dtype: float64>\n",
      "<bound method Series.isna of 0       -0.638483\n",
      "1       -0.638483\n",
      "2       -0.638483\n",
      "3       -0.638483\n",
      "4        1.566214\n",
      "           ...   \n",
      "15064   -0.638483\n",
      "15065   -0.638483\n",
      "15066   -0.638483\n",
      "15067    1.566214\n",
      "15068    1.566214\n",
      "Name: categorical_pipeline__online_order, Length: 15069, dtype: float64>\n",
      "<bound method Series.isna of 0        0.611069\n",
      "1        0.611069\n",
      "2        0.611069\n",
      "3        0.611069\n",
      "4       -1.636477\n",
      "           ...   \n",
      "15064    0.611069\n",
      "15065    0.611069\n",
      "15066    0.611069\n",
      "15067   -1.636477\n",
      "15068    0.611069\n",
      "Name: categorical_pipeline__book_table, Length: 15069, dtype: float64>\n",
      "<bound method Series.isna of 0       -0.459750\n",
      "1       -0.310133\n",
      "2        0.437953\n",
      "3       -0.360005\n",
      "4       -0.808856\n",
      "           ...   \n",
      "15064   -0.908601\n",
      "15065   -0.808856\n",
      "15066    0.737187\n",
      "15067   -0.808856\n",
      "15068    1.485272\n",
      "Name: categorical_pipeline__location, Length: 15069, dtype: float64>\n",
      "<bound method Series.isna of 0       -0.456672\n",
      "1        0.837672\n",
      "2       -0.672396\n",
      "3       -0.348810\n",
      "4        0.729810\n",
      "           ...   \n",
      "15064   -0.456672\n",
      "15065   -0.348810\n",
      "15066   -0.456672\n",
      "15067    1.376982\n",
      "15068   -0.672396\n",
      "Name: categorical_pipeline__rest_type, Length: 15069, dtype: float64>\n",
      "<bound method Series.isna of 0        0.301240\n",
      "1        0.658183\n",
      "2       -0.986860\n",
      "3       -0.654747\n",
      "4       -0.757174\n",
      "           ...   \n",
      "15064   -0.350570\n",
      "15065    1.316200\n",
      "15066   -0.986860\n",
      "15067    1.725909\n",
      "15068   -0.431270\n",
      "Name: categorical_pipeline__cuisines, Length: 15069, dtype: float64>\n"
     ]
    }
   ],
   "source": [
    "for i in X_train.columns:\n",
    "    print(X_train[i].isna)"
   ]
  },
  {
   "cell_type": "code",
   "execution_count": 559,
   "metadata": {},
   "outputs": [
    {
     "name": "stdout",
     "output_type": "stream",
     "text": [
      "<class 'pandas.core.frame.DataFrame'>\n",
      "RangeIndex: 15069 entries, 0 to 15068\n",
      "Data columns (total 7 columns):\n",
      " #   Column                                  Non-Null Count  Dtype  \n",
      "---  ------                                  --------------  -----  \n",
      " 0   numerical_pipeline__votes               15069 non-null  float64\n",
      " 1   numerical_pipeline__average cost for 2  15069 non-null  float64\n",
      " 2   categorical_pipeline__online_order      15069 non-null  float64\n",
      " 3   categorical_pipeline__book_table        15069 non-null  float64\n",
      " 4   categorical_pipeline__location          15069 non-null  float64\n",
      " 5   categorical_pipeline__rest_type         15069 non-null  float64\n",
      " 6   categorical_pipeline__cuisines          15069 non-null  float64\n",
      "dtypes: float64(7)\n",
      "memory usage: 824.2 KB\n"
     ]
    }
   ],
   "source": [
    "X_train.info()"
   ]
  },
  {
   "cell_type": "code",
   "execution_count": 560,
   "metadata": {},
   "outputs": [
    {
     "data": {
      "text/plain": [
       "array([3.8, 3.7, 4.1, 2.8, 3.9, 3.6, 4.2, 3.2, 4.5, 4.4, 4.3, 4. , 3.5,\n",
       "       3.3, 3.1, 3. , 4.7, 2.7, 2.9, 4.6, 2.6, 3.4, 4.8, 2.4, 4.9, 2.5,\n",
       "       2.3, 2. , 2.1, 2.2, 1.8])"
      ]
     },
     "execution_count": 560,
     "metadata": {},
     "output_type": "execute_result"
    }
   ],
   "source": [
    "y_train.unique()"
   ]
  },
  {
   "cell_type": "code",
   "execution_count": 561,
   "metadata": {},
   "outputs": [],
   "source": [
    "from sklearn.linear_model import LinearRegression,Ridge,Lasso,ElasticNet\n",
    "from sklearn.metrics import r2_score,mean_absolute_error,mean_squared_error\n",
    "from sklearn.ensemble import RandomForestRegressor\n",
    "from sklearn.ensemble import ExtraTreesRegressor\n",
    "from sklearn.tree import DecisionTreeRegressor"
   ]
  },
  {
   "cell_type": "code",
   "execution_count": 562,
   "metadata": {},
   "outputs": [
    {
     "data": {
      "text/html": [
       "<style>#sk-container-id-18 {color: black;background-color: white;}#sk-container-id-18 pre{padding: 0;}#sk-container-id-18 div.sk-toggleable {background-color: white;}#sk-container-id-18 label.sk-toggleable__label {cursor: pointer;display: block;width: 100%;margin-bottom: 0;padding: 0.3em;box-sizing: border-box;text-align: center;}#sk-container-id-18 label.sk-toggleable__label-arrow:before {content: \"▸\";float: left;margin-right: 0.25em;color: #696969;}#sk-container-id-18 label.sk-toggleable__label-arrow:hover:before {color: black;}#sk-container-id-18 div.sk-estimator:hover label.sk-toggleable__label-arrow:before {color: black;}#sk-container-id-18 div.sk-toggleable__content {max-height: 0;max-width: 0;overflow: hidden;text-align: left;background-color: #f0f8ff;}#sk-container-id-18 div.sk-toggleable__content pre {margin: 0.2em;color: black;border-radius: 0.25em;background-color: #f0f8ff;}#sk-container-id-18 input.sk-toggleable__control:checked~div.sk-toggleable__content {max-height: 200px;max-width: 100%;overflow: auto;}#sk-container-id-18 input.sk-toggleable__control:checked~label.sk-toggleable__label-arrow:before {content: \"▾\";}#sk-container-id-18 div.sk-estimator input.sk-toggleable__control:checked~label.sk-toggleable__label {background-color: #d4ebff;}#sk-container-id-18 div.sk-label input.sk-toggleable__control:checked~label.sk-toggleable__label {background-color: #d4ebff;}#sk-container-id-18 input.sk-hidden--visually {border: 0;clip: rect(1px 1px 1px 1px);clip: rect(1px, 1px, 1px, 1px);height: 1px;margin: -1px;overflow: hidden;padding: 0;position: absolute;width: 1px;}#sk-container-id-18 div.sk-estimator {font-family: monospace;background-color: #f0f8ff;border: 1px dotted black;border-radius: 0.25em;box-sizing: border-box;margin-bottom: 0.5em;}#sk-container-id-18 div.sk-estimator:hover {background-color: #d4ebff;}#sk-container-id-18 div.sk-parallel-item::after {content: \"\";width: 100%;border-bottom: 1px solid gray;flex-grow: 1;}#sk-container-id-18 div.sk-label:hover label.sk-toggleable__label {background-color: #d4ebff;}#sk-container-id-18 div.sk-serial::before {content: \"\";position: absolute;border-left: 1px solid gray;box-sizing: border-box;top: 0;bottom: 0;left: 50%;z-index: 0;}#sk-container-id-18 div.sk-serial {display: flex;flex-direction: column;align-items: center;background-color: white;padding-right: 0.2em;padding-left: 0.2em;position: relative;}#sk-container-id-18 div.sk-item {position: relative;z-index: 1;}#sk-container-id-18 div.sk-parallel {display: flex;align-items: stretch;justify-content: center;background-color: white;position: relative;}#sk-container-id-18 div.sk-item::before, #sk-container-id-18 div.sk-parallel-item::before {content: \"\";position: absolute;border-left: 1px solid gray;box-sizing: border-box;top: 0;bottom: 0;left: 50%;z-index: -1;}#sk-container-id-18 div.sk-parallel-item {display: flex;flex-direction: column;z-index: 1;position: relative;background-color: white;}#sk-container-id-18 div.sk-parallel-item:first-child::after {align-self: flex-end;width: 50%;}#sk-container-id-18 div.sk-parallel-item:last-child::after {align-self: flex-start;width: 50%;}#sk-container-id-18 div.sk-parallel-item:only-child::after {width: 0;}#sk-container-id-18 div.sk-dashed-wrapped {border: 1px dashed gray;margin: 0 0.4em 0.5em 0.4em;box-sizing: border-box;padding-bottom: 0.4em;background-color: white;}#sk-container-id-18 div.sk-label label {font-family: monospace;font-weight: bold;display: inline-block;line-height: 1.2em;}#sk-container-id-18 div.sk-label-container {text-align: center;}#sk-container-id-18 div.sk-container {/* jupyter's `normalize.less` sets `[hidden] { display: none; }` but bootstrap.min.css set `[hidden] { display: none !important; }` so we also need the `!important` here to be able to override the default hidden behavior on the sphinx rendered scikit-learn.org. See: https://github.com/scikit-learn/scikit-learn/issues/21755 */display: inline-block !important;position: relative;}#sk-container-id-18 div.sk-text-repr-fallback {display: none;}</style><div id=\"sk-container-id-18\" class=\"sk-top-container\"><div class=\"sk-text-repr-fallback\"><pre>LinearRegression()</pre><b>In a Jupyter environment, please rerun this cell to show the HTML representation or trust the notebook. <br />On GitHub, the HTML representation is unable to render, please try loading this page with nbviewer.org.</b></div><div class=\"sk-container\" hidden><div class=\"sk-item\"><div class=\"sk-estimator sk-toggleable\"><input class=\"sk-toggleable__control sk-hidden--visually\" id=\"sk-estimator-id-20\" type=\"checkbox\" checked><label for=\"sk-estimator-id-20\" class=\"sk-toggleable__label sk-toggleable__label-arrow\">LinearRegression</label><div class=\"sk-toggleable__content\"><pre>LinearRegression()</pre></div></div></div></div></div>"
      ],
      "text/plain": [
       "LinearRegression()"
      ]
     },
     "execution_count": 562,
     "metadata": {},
     "output_type": "execute_result"
    }
   ],
   "source": [
    "regression = LinearRegression()\n",
    "regression.fit(X_train,y_train)"
   ]
  },
  {
   "cell_type": "code",
   "execution_count": 563,
   "metadata": {},
   "outputs": [
    {
     "data": {
      "text/plain": [
       "3.9152166699847366"
      ]
     },
     "execution_count": 563,
     "metadata": {},
     "output_type": "execute_result"
    }
   ],
   "source": [
    "regression.intercept_"
   ]
  },
  {
   "cell_type": "code",
   "execution_count": 564,
   "metadata": {},
   "outputs": [],
   "source": [
    "def evaluate(true,predicted):\n",
    "    mae = mean_absolute_error(true,predicted)\n",
    "    mse = mean_squared_error(true,predicted)\n",
    "    rmse = np.sqrt(mean_squared_error(true,predicted))\n",
    "    r2_square = r2_score(true,predicted)\n",
    "    return mae,mse,rmse,r2_square"
   ]
  },
  {
   "cell_type": "code",
   "execution_count": 565,
   "metadata": {},
   "outputs": [],
   "source": [
    "from sklearn.model_selection import GridSearchCV"
   ]
  },
  {
   "cell_type": "code",
   "execution_count": 566,
   "metadata": {},
   "outputs": [
    {
     "name": "stdout",
     "output_type": "stream",
     "text": [
      "LinearRegression\n",
      "Model Training Performance\n",
      "MAE:-  0.2665224041698638\n",
      "MSE:-  0.1412512114273127\n",
      "RMSE:-  0.37583402111479036\n",
      "R2_Score 22.93954656550762\n",
      "****************************************\n",
      "\n",
      "\n",
      "Lasso\n",
      "Model Training Performance\n",
      "MAE:-  0.3066516771470732\n",
      "MSE:-  0.18332451596166663\n",
      "RMSE:-  0.4281641226932339\n",
      "R2_Score -0.013799406843317819\n",
      "****************************************\n",
      "\n",
      "\n",
      "Ridge\n",
      "Model Training Performance\n",
      "MAE:-  0.2665217613221606\n",
      "MSE:-  0.14125127002498794\n",
      "RMSE:-  0.3758340990716355\n",
      "R2_Score 22.93951459719117\n",
      "****************************************\n",
      "\n",
      "\n",
      "ElasticNet\n",
      "Model Training Performance\n",
      "MAE:-  0.3066516771470732\n",
      "MSE:-  0.18332451596166663\n",
      "RMSE:-  0.4281641226932339\n",
      "R2_Score -0.013799406843317819\n",
      "****************************************\n",
      "\n",
      "\n",
      "RandomForestRegressor\n",
      "Model Training Performance\n",
      "MAE:-  0.061694273429210196\n",
      "MSE:-  0.019865309482102467\n",
      "RMSE:-  0.1409443488831761\n",
      "R2_Score 89.16236016074738\n",
      "****************************************\n",
      "\n",
      "\n",
      "RandomForestRegressor_Tuned_1\n",
      "Model Training Performance\n",
      "MAE:-  0.07837495767276936\n",
      "MSE:-  0.025159681457928396\n",
      "RMSE:-  0.15861803635756053\n",
      "R2_Score 86.27398348075012\n",
      "****************************************\n",
      "\n",
      "\n",
      "ExtraTreeRegressor\n",
      "Model Training Performance\n",
      "MAE:-  0.03350434056577017\n",
      "MSE:-  0.014007604414865553\n",
      "RMSE:-  0.1183537258174222\n",
      "R2_Score 92.35806661880555\n",
      "****************************************\n",
      "\n",
      "\n",
      "ExtraTreeRegressor_Tuned\n",
      "Model Training Performance\n",
      "MAE:-  0.03366790746024739\n",
      "MSE:-  0.014140315420617142\n",
      "RMSE:-  0.11891305824263852\n",
      "R2_Score 92.28566532627414\n",
      "****************************************\n",
      "\n",
      "\n",
      "DecisionTreeRegressor\n",
      "Model Training Performance\n",
      "MAE:-  0.04259200893548328\n",
      "MSE:-  0.02803942705170638\n",
      "RMSE:-  0.16744977471381198\n",
      "R2_Score 84.70292084001156\n",
      "****************************************\n",
      "\n",
      "\n",
      "DecisionTreeRegressor_Tuned\n",
      "Model Training Performance\n",
      "MAE:-  0.06772436114400827\n",
      "MSE:-  0.03432993689711113\n",
      "RMSE:-  0.18528339617221812\n",
      "R2_Score 81.27109511531341\n",
      "****************************************\n",
      "\n",
      "\n"
     ]
    }
   ],
   "source": [
    "#Training of Different models\n",
    "\n",
    "\n",
    "\n",
    "models = {\n",
    "    'LinearRegression':LinearRegression(),\n",
    "    'Lasso':Lasso(),\n",
    "    'Ridge':Ridge(),\n",
    "    'ElasticNet':ElasticNet(),\n",
    "    'RandomForestRegressor': RandomForestRegressor(),\n",
    "    'RandomForestRegressor_Tuned_1' : RandomForestRegressor(n_estimators=500,random_state=329,min_samples_leaf=.0001),\n",
    "    'ExtraTreeRegressor': ExtraTreesRegressor(),\n",
    "    'ExtraTreeRegressor_Tuned' : ExtraTreesRegressor(n_estimators = 100),\n",
    "    'DecisionTreeRegressor': DecisionTreeRegressor(),\n",
    "    'DecisionTreeRegressor_Tuned' : DecisionTreeRegressor(min_samples_leaf=.0001)\n",
    "}\n",
    "\n",
    "\n",
    "\n",
    "mae_list = []\n",
    "mse_list = []\n",
    "rmse_list = []\n",
    "trained_model_list = []\n",
    "model_list = []\n",
    "r2_list = []\n",
    "\n",
    "for i in range(len(list(models))):\n",
    "    model = list(models.values())[i]\n",
    "    model.fit(X_train,y_train)\n",
    "\n",
    "\n",
    "    #Predictions on test data\n",
    "    y_pred = model.predict(X_test)\n",
    "\n",
    "    mae,mse,rmse,r2_square = evaluate(y_test,y_pred)\n",
    "\n",
    "    print(list(models.keys())[i])\n",
    "    model_list.append(list(models.keys())[i])\n",
    "\n",
    "    print('Model Training Performance')\n",
    "    print('MAE:- ', mae)\n",
    "    print('MSE:- ', mse)\n",
    "    print('RMSE:- ',rmse)\n",
    "    print('R2_Score',r2_square*100)\n",
    "\n",
    "    r2_list.append(r2_square)\n",
    "    mae_list.append(mae)\n",
    "    mse_list.append(mse)\n",
    "    rmse_list.append(rmse)\n",
    "\n",
    "    print(\"*\"*40)\n",
    "    print('\\n')"
   ]
  },
  {
   "cell_type": "code",
   "execution_count": 567,
   "metadata": {},
   "outputs": [
    {
     "name": "stdout",
     "output_type": "stream",
     "text": [
      "                        Model      MAE      MSE     RMSE  R2 Score\n",
      "             LinearRegression 0.266522 0.141251 0.375834     22.94\n",
      "                        Lasso 0.306652 0.183325 0.428164     -0.01\n",
      "                        Ridge 0.266522 0.141251 0.375834     22.94\n",
      "                   ElasticNet 0.306652 0.183325 0.428164     -0.01\n",
      "        RandomForestRegressor 0.061694 0.019865 0.140944     89.16\n",
      "RandomForestRegressor_Tuned_1 0.078375 0.025160 0.158618     86.27\n",
      "           ExtraTreeRegressor 0.033504 0.014008 0.118354     92.36\n",
      "     ExtraTreeRegressor_Tuned 0.033668 0.014140 0.118913     92.29\n",
      "        DecisionTreeRegressor 0.042592 0.028039 0.167450     84.70\n",
      "  DecisionTreeRegressor_Tuned 0.067724 0.034330 0.185283     81.27\n"
     ]
    }
   ],
   "source": [
    "# Multiply R2 Score by 100 and round to 2 decimal places\n",
    "r2_list_percentage = [round(r2 * 100, 2) for r2 in r2_list]\n",
    "\n",
    "# Create a DataFrame with the results\n",
    "df_model = pd.DataFrame({\n",
    "    'Model': model_list,\n",
    "    'MAE': [round(mae, 6) for mae in mae_list],\n",
    "    'MSE': [round(mse, 6) for mse in mse_list],\n",
    "    'RMSE': [round(rmse, 6) for rmse in rmse_list],\n",
    "    'R2 Score': r2_list_percentage\n",
    "})\n",
    "\n",
    "# Print the DataFrame\n",
    "print(df_model.to_string(index=False))"
   ]
  },
  {
   "cell_type": "code",
   "execution_count": null,
   "metadata": {},
   "outputs": [],
   "source": []
  }
 ],
 "metadata": {
  "kernelspec": {
   "display_name": "Python 3",
   "language": "python",
   "name": "python3"
  },
  "language_info": {
   "codemirror_mode": {
    "name": "ipython",
    "version": 3
   },
   "file_extension": ".py",
   "mimetype": "text/x-python",
   "name": "python",
   "nbconvert_exporter": "python",
   "pygments_lexer": "ipython3",
   "version": "3.8.0"
  },
  "orig_nbformat": 4
 },
 "nbformat": 4,
 "nbformat_minor": 2
}
